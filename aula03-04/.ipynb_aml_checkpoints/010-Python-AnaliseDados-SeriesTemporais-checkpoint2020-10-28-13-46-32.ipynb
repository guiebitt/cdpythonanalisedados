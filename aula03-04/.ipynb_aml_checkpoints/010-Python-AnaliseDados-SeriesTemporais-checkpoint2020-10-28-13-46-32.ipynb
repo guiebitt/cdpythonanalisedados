{
  "cells": [
    {
      "cell_type": "markdown",
      "source": [
        "# Time Series"
      ],
      "metadata": {
        "deletable": true,
        "editable": true
      }
    },
    {
      "cell_type": "code",
      "source": [
        "import numpy as np\n",
        "import pandas as pd\n",
        "np.random.seed(12345)\n",
        "import matplotlib.pyplot as plt\n",
        "plt.rc('figure', figsize=(10, 6))\n",
        "PREVIOUS_MAX_ROWS = pd.options.display.max_rows\n",
        "pd.options.display.max_rows = 20\n",
        "np.set_printoptions(precision=4, suppress=True)"
      ],
      "outputs": [],
      "execution_count": 2,
      "metadata": {
        "collapsed": false,
        "deletable": true,
        "editable": true,
        "gather": {
          "logged": 1606558830793
        }
      }
    },
    {
      "cell_type": "markdown",
      "source": [
        "## Date and Time Data Types and Tools"
      ],
      "metadata": {
        "deletable": true,
        "editable": true
      }
    },
    {
      "cell_type": "code",
      "source": [
        "from datetime import datetime\n",
        "now = datetime.now()\n",
        "now"
      ],
      "outputs": [
        {
          "output_type": "execute_result",
          "execution_count": 2,
          "data": {
            "text/plain": "datetime.datetime(2020, 11, 27, 19, 36, 20, 107413)"
          },
          "metadata": {}
        }
      ],
      "execution_count": 2,
      "metadata": {
        "collapsed": false,
        "deletable": true,
        "editable": true,
        "gather": {
          "logged": 1606505780259
        }
      }
    },
    {
      "cell_type": "code",
      "source": [
        "now.year, now.month, now.day"
      ],
      "outputs": [
        {
          "output_type": "execute_result",
          "execution_count": 3,
          "data": {
            "text/plain": "(2020, 11, 27)"
          },
          "metadata": {}
        }
      ],
      "execution_count": 3,
      "metadata": {
        "collapsed": true,
        "jupyter": {
          "source_hidden": false,
          "outputs_hidden": false
        },
        "nteract": {
          "transient": {
            "deleting": false
          }
        },
        "gather": {
          "logged": 1606505781806
        }
      }
    },
    {
      "cell_type": "code",
      "source": [
        "delta = datetime(2011, 1, 7) - datetime(2008, 6, 24, 8, 15)\n",
        "delta"
      ],
      "outputs": [
        {
          "output_type": "execute_result",
          "execution_count": 4,
          "data": {
            "text/plain": "datetime.timedelta(926, 56700)"
          },
          "metadata": {}
        }
      ],
      "execution_count": 4,
      "metadata": {
        "collapsed": false,
        "deletable": true,
        "editable": true,
        "gather": {
          "logged": 1606505803396
        }
      }
    },
    {
      "cell_type": "code",
      "source": [
        "delta.days"
      ],
      "outputs": [
        {
          "output_type": "execute_result",
          "execution_count": 5,
          "data": {
            "text/plain": "926"
          },
          "metadata": {}
        }
      ],
      "execution_count": 5,
      "metadata": {
        "collapsed": true,
        "jupyter": {
          "source_hidden": false,
          "outputs_hidden": false
        },
        "nteract": {
          "transient": {
            "deleting": false
          }
        },
        "gather": {
          "logged": 1606505804852
        }
      }
    },
    {
      "cell_type": "code",
      "source": [
        "delta.seconds"
      ],
      "outputs": [
        {
          "output_type": "execute_result",
          "execution_count": 6,
          "data": {
            "text/plain": "56700"
          },
          "metadata": {}
        }
      ],
      "execution_count": 6,
      "metadata": {
        "collapsed": true,
        "jupyter": {
          "source_hidden": false,
          "outputs_hidden": false
        },
        "nteract": {
          "transient": {
            "deleting": false
          }
        },
        "gather": {
          "logged": 1606505806275
        }
      }
    },
    {
      "cell_type": "code",
      "source": [
        "from datetime import timedelta\n",
        "start = datetime(2011, 1, 7)\n",
        "start"
      ],
      "outputs": [
        {
          "output_type": "execute_result",
          "execution_count": 8,
          "data": {
            "text/plain": "datetime.datetime(2011, 1, 7, 0, 0)"
          },
          "metadata": {}
        }
      ],
      "execution_count": 8,
      "metadata": {
        "collapsed": false,
        "deletable": true,
        "editable": true,
        "gather": {
          "logged": 1606505849065
        }
      }
    },
    {
      "cell_type": "code",
      "source": [
        "start + timedelta(12)"
      ],
      "outputs": [
        {
          "output_type": "execute_result",
          "execution_count": 9,
          "data": {
            "text/plain": "datetime.datetime(2011, 1, 19, 0, 0)"
          },
          "metadata": {}
        }
      ],
      "execution_count": 9,
      "metadata": {
        "collapsed": true,
        "jupyter": {
          "source_hidden": false,
          "outputs_hidden": false
        },
        "nteract": {
          "transient": {
            "deleting": false
          }
        },
        "gather": {
          "logged": 1606505854526
        }
      }
    },
    {
      "cell_type": "code",
      "source": [
        "start - 2 * timedelta(12)"
      ],
      "outputs": [
        {
          "output_type": "execute_result",
          "execution_count": 10,
          "data": {
            "text/plain": "datetime.datetime(2010, 12, 14, 0, 0)"
          },
          "metadata": {}
        }
      ],
      "execution_count": 10,
      "metadata": {
        "collapsed": true,
        "jupyter": {
          "source_hidden": false,
          "outputs_hidden": false
        },
        "nteract": {
          "transient": {
            "deleting": false
          }
        },
        "gather": {
          "logged": 1606505857847
        }
      }
    },
    {
      "cell_type": "markdown",
      "source": [
        "### Converting Between String and Datetime"
      ],
      "metadata": {
        "deletable": true,
        "editable": true
      }
    },
    {
      "cell_type": "code",
      "source": [
        "stamp = datetime(2011, 1, 3)\n",
        "str(stamp)\n"
      ],
      "outputs": [
        {
          "output_type": "execute_result",
          "execution_count": 11,
          "data": {
            "text/plain": "'2011-01-03 00:00:00'"
          },
          "metadata": {}
        }
      ],
      "execution_count": 11,
      "metadata": {
        "collapsed": false,
        "deletable": true,
        "editable": true,
        "gather": {
          "logged": 1606505871903
        }
      }
    },
    {
      "cell_type": "code",
      "source": [
        "stamp.strftime('%Y-%m-%d')"
      ],
      "outputs": [
        {
          "output_type": "execute_result",
          "execution_count": 12,
          "data": {
            "text/plain": "'2011-01-03'"
          },
          "metadata": {}
        }
      ],
      "execution_count": 12,
      "metadata": {
        "collapsed": true,
        "jupyter": {
          "source_hidden": false,
          "outputs_hidden": false
        },
        "nteract": {
          "transient": {
            "deleting": false
          }
        },
        "gather": {
          "logged": 1606505874102
        }
      }
    },
    {
      "cell_type": "markdown",
      "source": [
        "|Tipo| |Descrição|\r\n",
        "|----|-|---------|\r\n",
        "|%Y| |Ano com quatro dígitos|\r\n",
        "|%y| |Ano com dois dígitos|\r\n",
        "|%m| |Mês com dois dígitos [01, 12]|\r\n",
        "|%d| |Dia com dois dígitos [01, 31]|\r\n",
        "|%H| |Hora (relógio com 24 horas) [00, 23]|\r\n",
        "|%I| |Hora (relógio com 12 horas) [01, 12]|\r\n",
        "|%M| |Minuto com dois dígitos [00, 59]|\r\n",
        "|%S| |Segundos [00, 61] (segundos 60, 61 são usados para segundos intercalares (leap seconds))|\r\n",
        "|%w| |Dia da semana como inteiro [0 (Domingo), 6]|\r\n",
        "|%U| |Número da semana no ano [00, 53]; domingo é considerado o primeiro dia da semana, e os dias antes do primeiro domingo do ano são a “semana 0”|\r\n",
        "|%W| |Número da semana no ano [00, 53]; segunda-feira é considerada o primeiro dia da semana, e os dias antes da primeira segunda-feira do ano são a “semana 0”|\r\n",
        "|%z| |Offset do fuso horário UTC como +HHMM ou -HHMM; vazio se o fuso horário não for considerado|\r\n",
        "|%F| |Atalho para %Y-%m-%d (por exemplo, 2012-4-18)|\r\n",
        "|%D| |Atalho para %m/%d/%y (por exemplo, 04/18/12)|"
      ],
      "metadata": {
        "nteract": {
          "transient": {
            "deleting": false
          }
        }
      }
    },
    {
      "cell_type": "code",
      "source": [
        "value = '2011-01-03'\n",
        "datetime.strptime(value, '%Y-%m-%d')"
      ],
      "outputs": [
        {
          "output_type": "execute_result",
          "execution_count": 13,
          "data": {
            "text/plain": "datetime.datetime(2011, 1, 3, 0, 0)"
          },
          "metadata": {}
        }
      ],
      "execution_count": 13,
      "metadata": {
        "collapsed": false,
        "deletable": true,
        "editable": true,
        "gather": {
          "logged": 1606505898256
        }
      }
    },
    {
      "cell_type": "code",
      "source": [
        "datestrs = ['7/6/2011', '8/6/2011']\r\n",
        "[datetime.strptime(x, '%m/%d/%Y') for x in datestrs]"
      ],
      "outputs": [
        {
          "output_type": "execute_result",
          "execution_count": 14,
          "data": {
            "text/plain": "[datetime.datetime(2011, 7, 6, 0, 0), datetime.datetime(2011, 8, 6, 0, 0)]"
          },
          "metadata": {}
        }
      ],
      "execution_count": 14,
      "metadata": {
        "collapsed": true,
        "jupyter": {
          "source_hidden": false,
          "outputs_hidden": false
        },
        "nteract": {
          "transient": {
            "deleting": false
          }
        },
        "gather": {
          "logged": 1606505902497
        }
      }
    },
    {
      "cell_type": "code",
      "source": [
        "from dateutil.parser import parse\n",
        "parse('2011-01-03')"
      ],
      "outputs": [
        {
          "output_type": "execute_result",
          "execution_count": 15,
          "data": {
            "text/plain": "datetime.datetime(2011, 1, 3, 0, 0)"
          },
          "metadata": {}
        }
      ],
      "execution_count": 15,
      "metadata": {
        "collapsed": false,
        "deletable": true,
        "editable": true,
        "gather": {
          "logged": 1606505909811
        }
      }
    },
    {
      "cell_type": "code",
      "source": [
        "parse('Jan 31, 1997 10:45 PM')"
      ],
      "outputs": [
        {
          "output_type": "execute_result",
          "execution_count": 16,
          "data": {
            "text/plain": "datetime.datetime(1997, 1, 31, 22, 45)"
          },
          "metadata": {}
        }
      ],
      "execution_count": 16,
      "metadata": {
        "collapsed": false,
        "deletable": true,
        "editable": true,
        "gather": {
          "logged": 1606505913733
        }
      }
    },
    {
      "cell_type": "code",
      "source": [
        "parse('6/12/2011', dayfirst=True)"
      ],
      "outputs": [
        {
          "output_type": "execute_result",
          "execution_count": 17,
          "data": {
            "text/plain": "datetime.datetime(2011, 12, 6, 0, 0)"
          },
          "metadata": {}
        }
      ],
      "execution_count": 17,
      "metadata": {
        "collapsed": false,
        "deletable": true,
        "editable": true,
        "gather": {
          "logged": 1606505915335
        }
      }
    },
    {
      "cell_type": "code",
      "source": [
        "datestrs = ['2011-07-06 12:00:00', '2011-08-06 00:00:00']\n",
        "pd.to_datetime(datestrs)"
      ],
      "outputs": [
        {
          "output_type": "execute_result",
          "execution_count": 18,
          "data": {
            "text/plain": "DatetimeIndex(['2011-07-06 12:00:00', '2011-08-06 00:00:00'], dtype='datetime64[ns]', freq=None)"
          },
          "metadata": {}
        }
      ],
      "execution_count": 18,
      "metadata": {
        "collapsed": false,
        "deletable": true,
        "editable": true,
        "gather": {
          "logged": 1606505919881
        }
      }
    },
    {
      "cell_type": "code",
      "source": [
        "idx = pd.to_datetime(datestrs + [None])\n",
        "idx"
      ],
      "outputs": [
        {
          "output_type": "execute_result",
          "execution_count": 19,
          "data": {
            "text/plain": "DatetimeIndex(['2011-07-06 12:00:00', '2011-08-06 00:00:00', 'NaT'], dtype='datetime64[ns]', freq=None)"
          },
          "metadata": {}
        }
      ],
      "execution_count": 19,
      "metadata": {
        "collapsed": false,
        "deletable": true,
        "editable": true,
        "gather": {
          "logged": 1606505963132
        }
      }
    },
    {
      "cell_type": "code",
      "source": [
        "idx[2]"
      ],
      "outputs": [
        {
          "output_type": "execute_result",
          "execution_count": 20,
          "data": {
            "text/plain": "NaT"
          },
          "metadata": {}
        }
      ],
      "execution_count": 20,
      "metadata": {
        "collapsed": true,
        "jupyter": {
          "source_hidden": false,
          "outputs_hidden": false
        },
        "nteract": {
          "transient": {
            "deleting": false
          }
        },
        "gather": {
          "logged": 1606505971793
        }
      }
    },
    {
      "cell_type": "code",
      "source": [
        "pd.isnull(idx)"
      ],
      "outputs": [
        {
          "output_type": "execute_result",
          "execution_count": 21,
          "data": {
            "text/plain": "array([False, False,  True])"
          },
          "metadata": {}
        }
      ],
      "execution_count": 21,
      "metadata": {
        "collapsed": true,
        "jupyter": {
          "source_hidden": false,
          "outputs_hidden": false
        },
        "nteract": {
          "transient": {
            "deleting": false
          }
        },
        "gather": {
          "logged": 1606505974828
        }
      }
    },
    {
      "cell_type": "markdown",
      "source": [
        "## Time Series Basics"
      ],
      "metadata": {
        "deletable": true,
        "editable": true
      }
    },
    {
      "cell_type": "code",
      "source": [
        "from datetime import datetime\n",
        "dates = [datetime(2011, 1, 2), datetime(2011, 1, 5),\n",
        "         datetime(2011, 1, 7), datetime(2011, 1, 8),\n",
        "         datetime(2011, 1, 10), datetime(2011, 1, 12)]\n",
        "ts = pd.Series(np.random.randn(6), index=dates)\n",
        "ts"
      ],
      "outputs": [
        {
          "output_type": "execute_result",
          "execution_count": 3,
          "data": {
            "text/plain": "2011-01-02   -0.204708\n2011-01-05    0.478943\n2011-01-07   -0.519439\n2011-01-08   -0.555730\n2011-01-10    1.965781\n2011-01-12    1.393406\ndtype: float64"
          },
          "metadata": {}
        }
      ],
      "execution_count": 3,
      "metadata": {
        "collapsed": false,
        "deletable": true,
        "editable": true,
        "gather": {
          "logged": 1606507844630
        }
      }
    },
    {
      "cell_type": "code",
      "source": [
        "ts.index"
      ],
      "outputs": [
        {
          "output_type": "execute_result",
          "execution_count": 4,
          "data": {
            "text/plain": "DatetimeIndex(['2011-01-02', '2011-01-05', '2011-01-07', '2011-01-08',\n               '2011-01-10', '2011-01-12'],\n              dtype='datetime64[ns]', freq=None)"
          },
          "metadata": {}
        }
      ],
      "execution_count": 4,
      "metadata": {
        "collapsed": false,
        "deletable": true,
        "editable": true,
        "gather": {
          "logged": 1606507848951
        }
      }
    },
    {
      "cell_type": "code",
      "source": [
        "ts"
      ],
      "outputs": [
        {
          "output_type": "execute_result",
          "execution_count": 6,
          "data": {
            "text/plain": "2011-01-02   -0.204708\n2011-01-05    0.478943\n2011-01-07   -0.519439\n2011-01-08   -0.555730\n2011-01-10    1.965781\n2011-01-12    1.393406\ndtype: float64"
          },
          "metadata": {}
        }
      ],
      "execution_count": 6,
      "metadata": {
        "collapsed": true,
        "jupyter": {
          "source_hidden": false,
          "outputs_hidden": false
        },
        "nteract": {
          "transient": {
            "deleting": false
          }
        },
        "gather": {
          "logged": 1606507939008
        }
      }
    },
    {
      "cell_type": "code",
      "source": [
        "ts + ts[::2]"
      ],
      "outputs": [
        {
          "output_type": "execute_result",
          "execution_count": 7,
          "data": {
            "text/plain": "2011-01-02   -0.409415\n2011-01-05         NaN\n2011-01-07   -1.038877\n2011-01-08         NaN\n2011-01-10    3.931561\n2011-01-12         NaN\ndtype: float64"
          },
          "metadata": {}
        }
      ],
      "execution_count": 7,
      "metadata": {
        "collapsed": false,
        "deletable": true,
        "editable": true,
        "gather": {
          "logged": 1606507944587
        }
      }
    },
    {
      "cell_type": "code",
      "source": [
        "#O pandas armazena timestamps usando o tipo de dado datetime64 do NumPy com resolução de nanossegundos:\r\n",
        "ts.index.dtype"
      ],
      "outputs": [
        {
          "output_type": "execute_result",
          "execution_count": 8,
          "data": {
            "text/plain": "dtype('<M8[ns]')"
          },
          "metadata": {}
        }
      ],
      "execution_count": 8,
      "metadata": {
        "collapsed": false,
        "deletable": true,
        "editable": true,
        "gather": {
          "logged": 1606507950246
        }
      }
    },
    {
      "cell_type": "code",
      "source": [
        "stamp = ts.index[0]\n",
        "stamp"
      ],
      "outputs": [
        {
          "output_type": "execute_result",
          "execution_count": 9,
          "data": {
            "text/plain": "Timestamp('2011-01-02 00:00:00')"
          },
          "metadata": {}
        }
      ],
      "execution_count": 9,
      "metadata": {
        "collapsed": false,
        "deletable": true,
        "editable": true,
        "gather": {
          "logged": 1606507986070
        }
      }
    },
    {
      "cell_type": "markdown",
      "source": [
        "### Indexing, Selection, Subsetting"
      ],
      "metadata": {
        "deletable": true,
        "editable": true
      }
    },
    {
      "cell_type": "code",
      "source": [
        "stamp = ts.index[2]\n",
        "ts[stamp]"
      ],
      "outputs": [
        {
          "output_type": "execute_result",
          "execution_count": 10,
          "data": {
            "text/plain": "-0.5194387150567381"
          },
          "metadata": {}
        }
      ],
      "execution_count": 10,
      "metadata": {
        "collapsed": false,
        "deletable": true,
        "editable": true,
        "gather": {
          "logged": 1606509744557
        }
      }
    },
    {
      "cell_type": "code",
      "source": [
        "ts['1/10/2011']"
      ],
      "outputs": [
        {
          "output_type": "execute_result",
          "execution_count": 12,
          "data": {
            "text/plain": "1.9657805725027142"
          },
          "metadata": {}
        }
      ],
      "execution_count": 12,
      "metadata": {
        "collapsed": false,
        "deletable": true,
        "editable": true,
        "gather": {
          "logged": 1606509778377
        }
      }
    },
    {
      "cell_type": "code",
      "source": [
        "ts['20110110']"
      ],
      "outputs": [
        {
          "output_type": "execute_result",
          "execution_count": 13,
          "data": {
            "text/plain": "1.9657805725027142"
          },
          "metadata": {}
        }
      ],
      "execution_count": 13,
      "metadata": {
        "collapsed": true,
        "jupyter": {
          "source_hidden": false,
          "outputs_hidden": false
        },
        "nteract": {
          "transient": {
            "deleting": false
          }
        },
        "gather": {
          "logged": 1606509783183
        }
      }
    },
    {
      "cell_type": "code",
      "source": [
        "longer_ts = pd.Series(np.random.randn(1000),\n",
        "                      index=pd.date_range('1/1/2000', periods=1000))\n",
        "longer_ts\n"
      ],
      "outputs": [
        {
          "output_type": "execute_result",
          "execution_count": 15,
          "data": {
            "text/plain": "2000-01-01    0.488675\n2000-01-02   -0.178098\n2000-01-03    2.122315\n2000-01-04    0.061192\n2000-01-05    0.884111\n                ...   \n2002-09-22    1.847446\n2002-09-23    0.453739\n2002-09-24   -0.302450\n2002-09-25    1.402558\n2002-09-26    1.212354\nFreq: D, Length: 1000, dtype: float64"
          },
          "metadata": {}
        }
      ],
      "execution_count": 15,
      "metadata": {
        "collapsed": false,
        "deletable": true,
        "editable": true,
        "gather": {
          "logged": 1606509804974
        }
      }
    },
    {
      "cell_type": "code",
      "source": [
        "longer_ts['2001']"
      ],
      "outputs": [
        {
          "output_type": "execute_result",
          "execution_count": 16,
          "data": {
            "text/plain": "2001-01-01    0.715359\n2001-01-02   -0.345805\n2001-01-03    0.470886\n2001-01-04   -1.121515\n2001-01-05   -1.544365\n                ...   \n2001-12-27   -0.850688\n2001-12-28    0.207830\n2001-12-29   -0.127188\n2001-12-30    0.279477\n2001-12-31    0.718729\nFreq: D, Length: 365, dtype: float64"
          },
          "metadata": {}
        }
      ],
      "execution_count": 16,
      "metadata": {
        "collapsed": true,
        "jupyter": {
          "source_hidden": false,
          "outputs_hidden": false
        },
        "nteract": {
          "transient": {
            "deleting": false
          }
        },
        "gather": {
          "logged": 1606509814537
        }
      }
    },
    {
      "cell_type": "code",
      "source": [
        "longer_ts['2001-05']"
      ],
      "outputs": [
        {
          "output_type": "execute_result",
          "execution_count": 17,
          "data": {
            "text/plain": "2001-05-01    1.167858\n2001-05-02    0.969001\n2001-05-03   -2.536487\n2001-05-04    0.362754\n2001-05-05   -1.196146\n                ...   \n2001-05-27   -1.333576\n2001-05-28   -0.309119\n2001-05-29    0.028558\n2001-05-30    1.129605\n2001-05-31   -0.374173\nFreq: D, Length: 31, dtype: float64"
          },
          "metadata": {}
        }
      ],
      "execution_count": 17,
      "metadata": {
        "collapsed": false,
        "deletable": true,
        "editable": true,
        "gather": {
          "logged": 1606509818972
        }
      }
    },
    {
      "cell_type": "code",
      "source": [
        "ts[datetime(2011, 1, 7):]"
      ],
      "outputs": [
        {
          "output_type": "execute_result",
          "execution_count": 18,
          "data": {
            "text/plain": "2011-01-07   -0.519439\n2011-01-08   -0.555730\n2011-01-10    1.965781\n2011-01-12    1.393406\ndtype: float64"
          },
          "metadata": {}
        }
      ],
      "execution_count": 18,
      "metadata": {
        "collapsed": false,
        "deletable": true,
        "editable": true,
        "gather": {
          "logged": 1606509823331
        }
      }
    },
    {
      "cell_type": "code",
      "source": [
        "ts['1/6/2011':'1/11/2011']"
      ],
      "outputs": [
        {
          "output_type": "execute_result",
          "execution_count": 19,
          "data": {
            "text/plain": "2011-01-07   -0.519439\n2011-01-08   -0.555730\n2011-01-10    1.965781\ndtype: float64"
          },
          "metadata": {}
        }
      ],
      "execution_count": 19,
      "metadata": {
        "collapsed": false,
        "deletable": true,
        "editable": true,
        "gather": {
          "logged": 1606509835529
        }
      }
    },
    {
      "cell_type": "code",
      "source": [
        "ts.truncate(after='1/9/2011')"
      ],
      "outputs": [
        {
          "output_type": "execute_result",
          "execution_count": 20,
          "data": {
            "text/plain": "2011-01-02   -0.204708\n2011-01-05    0.478943\n2011-01-07   -0.519439\n2011-01-08   -0.555730\ndtype: float64"
          },
          "metadata": {}
        }
      ],
      "execution_count": 20,
      "metadata": {
        "collapsed": false,
        "deletable": true,
        "editable": true,
        "gather": {
          "logged": 1606509841809
        }
      }
    },
    {
      "cell_type": "code",
      "source": [
        "dates = pd.date_range('1/1/2000', periods=100, freq='W-WED')\n",
        "long_df = pd.DataFrame(np.random.randn(100, 4),\n",
        "                       index=dates,\n",
        "                       columns=['Colorado', 'Texas',\n",
        "                                'New York', 'Ohio'])\n",
        "long_df.loc['5-2001']"
      ],
      "outputs": [
        {
          "output_type": "execute_result",
          "execution_count": 21,
          "data": {
            "text/plain": "            Colorado     Texas  New York      Ohio\n2001-05-02 -0.924368 -0.020641 -0.826849 -0.439442\n2001-05-09  0.289190  0.317978  0.035787  1.034372\n2001-05-16 -0.506926  1.228659 -1.079650 -1.503665\n2001-05-23 -0.167360 -0.183889 -1.003073 -0.292718\n2001-05-30 -0.830605 -0.271502  0.825583  1.121559",
            "text/html": "<div>\n<style scoped>\n    .dataframe tbody tr th:only-of-type {\n        vertical-align: middle;\n    }\n\n    .dataframe tbody tr th {\n        vertical-align: top;\n    }\n\n    .dataframe thead th {\n        text-align: right;\n    }\n</style>\n<table border=\"1\" class=\"dataframe\">\n  <thead>\n    <tr style=\"text-align: right;\">\n      <th></th>\n      <th>Colorado</th>\n      <th>Texas</th>\n      <th>New York</th>\n      <th>Ohio</th>\n    </tr>\n  </thead>\n  <tbody>\n    <tr>\n      <th>2001-05-02</th>\n      <td>-0.924368</td>\n      <td>-0.020641</td>\n      <td>-0.826849</td>\n      <td>-0.439442</td>\n    </tr>\n    <tr>\n      <th>2001-05-09</th>\n      <td>0.289190</td>\n      <td>0.317978</td>\n      <td>0.035787</td>\n      <td>1.034372</td>\n    </tr>\n    <tr>\n      <th>2001-05-16</th>\n      <td>-0.506926</td>\n      <td>1.228659</td>\n      <td>-1.079650</td>\n      <td>-1.503665</td>\n    </tr>\n    <tr>\n      <th>2001-05-23</th>\n      <td>-0.167360</td>\n      <td>-0.183889</td>\n      <td>-1.003073</td>\n      <td>-0.292718</td>\n    </tr>\n    <tr>\n      <th>2001-05-30</th>\n      <td>-0.830605</td>\n      <td>-0.271502</td>\n      <td>0.825583</td>\n      <td>1.121559</td>\n    </tr>\n  </tbody>\n</table>\n</div>"
          },
          "metadata": {}
        }
      ],
      "execution_count": 21,
      "metadata": {
        "collapsed": false,
        "deletable": true,
        "editable": true,
        "gather": {
          "logged": 1606509852831
        }
      }
    },
    {
      "cell_type": "markdown",
      "source": [
        "### Time Series with Duplicate Indices"
      ],
      "metadata": {
        "deletable": true,
        "editable": true
      }
    },
    {
      "cell_type": "code",
      "source": [
        "dates = pd.DatetimeIndex(['1/1/2000', '1/2/2000', '1/2/2000',\n",
        "                          '1/2/2000', '1/3/2000'])\n",
        "dup_ts = pd.Series(np.arange(5), index=dates)\n",
        "dup_ts"
      ],
      "outputs": [
        {
          "output_type": "execute_result",
          "execution_count": 22,
          "data": {
            "text/plain": "2000-01-01    0\n2000-01-02    1\n2000-01-02    2\n2000-01-02    3\n2000-01-03    4\ndtype: int64"
          },
          "metadata": {}
        }
      ],
      "execution_count": 22,
      "metadata": {
        "collapsed": false,
        "deletable": true,
        "editable": true,
        "gather": {
          "logged": 1606509873657
        }
      }
    },
    {
      "cell_type": "code",
      "source": [
        "dup_ts.index.is_unique"
      ],
      "outputs": [
        {
          "output_type": "execute_result",
          "execution_count": 23,
          "data": {
            "text/plain": "False"
          },
          "metadata": {}
        }
      ],
      "execution_count": 23,
      "metadata": {
        "collapsed": false,
        "deletable": true,
        "editable": true,
        "gather": {
          "logged": 1606509879303
        }
      }
    },
    {
      "cell_type": "code",
      "source": [
        "dup_ts['1/3/2000']  # not duplicated"
      ],
      "outputs": [
        {
          "output_type": "execute_result",
          "execution_count": 25,
          "data": {
            "text/plain": "4"
          },
          "metadata": {}
        }
      ],
      "execution_count": 25,
      "metadata": {
        "collapsed": false,
        "deletable": true,
        "editable": true,
        "gather": {
          "logged": 1606509898719
        }
      }
    },
    {
      "cell_type": "code",
      "source": [
        "dup_ts['1/2/2000']  # duplicated"
      ],
      "outputs": [
        {
          "output_type": "execute_result",
          "execution_count": 26,
          "data": {
            "text/plain": "2000-01-02    1\n2000-01-02    2\n2000-01-02    3\ndtype: int64"
          },
          "metadata": {}
        }
      ],
      "execution_count": 26,
      "metadata": {
        "collapsed": true,
        "jupyter": {
          "source_hidden": false,
          "outputs_hidden": false
        },
        "nteract": {
          "transient": {
            "deleting": false
          }
        },
        "gather": {
          "logged": 1606509902217
        }
      }
    },
    {
      "cell_type": "code",
      "source": [
        "grouped = dup_ts.groupby(level=0)\n",
        "grouped.mean()"
      ],
      "outputs": [
        {
          "output_type": "execute_result",
          "execution_count": 27,
          "data": {
            "text/plain": "2000-01-01    0\n2000-01-02    2\n2000-01-03    4\ndtype: int64"
          },
          "metadata": {}
        }
      ],
      "execution_count": 27,
      "metadata": {
        "collapsed": false,
        "deletable": true,
        "editable": true,
        "gather": {
          "logged": 1606509917506
        }
      }
    },
    {
      "cell_type": "code",
      "source": [
        "grouped.count()"
      ],
      "outputs": [
        {
          "output_type": "execute_result",
          "execution_count": 28,
          "data": {
            "text/plain": "2000-01-01    1\n2000-01-02    3\n2000-01-03    1\ndtype: int64"
          },
          "metadata": {}
        }
      ],
      "execution_count": 28,
      "metadata": {
        "collapsed": true,
        "jupyter": {
          "source_hidden": false,
          "outputs_hidden": false
        },
        "nteract": {
          "transient": {
            "deleting": false
          }
        },
        "gather": {
          "logged": 1606509922955
        }
      }
    },
    {
      "cell_type": "markdown",
      "source": [
        "### Generating Date Ranges"
      ],
      "metadata": {
        "deletable": true,
        "editable": true
      }
    },
    {
      "cell_type": "code",
      "source": [
        "index = pd.date_range('2012-04-01', '2012-06-01')\n",
        "index"
      ],
      "outputs": [
        {
          "output_type": "execute_result",
          "execution_count": 32,
          "data": {
            "text/plain": "DatetimeIndex(['2012-04-01', '2012-04-02', '2012-04-03', '2012-04-04',\n               '2012-04-05', '2012-04-06', '2012-04-07', '2012-04-08',\n               '2012-04-09', '2012-04-10', '2012-04-11', '2012-04-12',\n               '2012-04-13', '2012-04-14', '2012-04-15', '2012-04-16',\n               '2012-04-17', '2012-04-18', '2012-04-19', '2012-04-20',\n               '2012-04-21', '2012-04-22', '2012-04-23', '2012-04-24',\n               '2012-04-25', '2012-04-26', '2012-04-27', '2012-04-28',\n               '2012-04-29', '2012-04-30', '2012-05-01', '2012-05-02',\n               '2012-05-03', '2012-05-04', '2012-05-05', '2012-05-06',\n               '2012-05-07', '2012-05-08', '2012-05-09', '2012-05-10',\n               '2012-05-11', '2012-05-12', '2012-05-13', '2012-05-14',\n               '2012-05-15', '2012-05-16', '2012-05-17', '2012-05-18',\n               '2012-05-19', '2012-05-20', '2012-05-21', '2012-05-22',\n               '2012-05-23', '2012-05-24', '2012-05-25', '2012-05-26',\n               '2012-05-27', '2012-05-28', '2012-05-29', '2012-05-30',\n               '2012-05-31', '2012-06-01'],\n              dtype='datetime64[ns]', freq='D')"
          },
          "metadata": {}
        }
      ],
      "execution_count": 32,
      "metadata": {
        "collapsed": false,
        "deletable": true,
        "editable": true,
        "gather": {
          "logged": 1606510055285
        }
      }
    },
    {
      "cell_type": "code",
      "source": [
        "pd.date_range(start='2012-04-01', periods=20)\n"
      ],
      "outputs": [
        {
          "output_type": "execute_result",
          "execution_count": 33,
          "data": {
            "text/plain": "DatetimeIndex(['2012-04-01', '2012-04-02', '2012-04-03', '2012-04-04',\n               '2012-04-05', '2012-04-06', '2012-04-07', '2012-04-08',\n               '2012-04-09', '2012-04-10', '2012-04-11', '2012-04-12',\n               '2012-04-13', '2012-04-14', '2012-04-15', '2012-04-16',\n               '2012-04-17', '2012-04-18', '2012-04-19', '2012-04-20'],\n              dtype='datetime64[ns]', freq='D')"
          },
          "metadata": {}
        }
      ],
      "execution_count": 33,
      "metadata": {
        "collapsed": false,
        "deletable": true,
        "editable": true,
        "gather": {
          "logged": 1606510072245
        }
      }
    },
    {
      "cell_type": "code",
      "source": [
        "pd.date_range(end='2012-06-01', periods=20)"
      ],
      "outputs": [
        {
          "output_type": "execute_result",
          "execution_count": 34,
          "data": {
            "text/plain": "DatetimeIndex(['2012-05-13', '2012-05-14', '2012-05-15', '2012-05-16',\n               '2012-05-17', '2012-05-18', '2012-05-19', '2012-05-20',\n               '2012-05-21', '2012-05-22', '2012-05-23', '2012-05-24',\n               '2012-05-25', '2012-05-26', '2012-05-27', '2012-05-28',\n               '2012-05-29', '2012-05-30', '2012-05-31', '2012-06-01'],\n              dtype='datetime64[ns]', freq='D')"
          },
          "metadata": {}
        }
      ],
      "execution_count": 34,
      "metadata": {
        "collapsed": true,
        "jupyter": {
          "source_hidden": false,
          "outputs_hidden": false
        },
        "nteract": {
          "transient": {
            "deleting": false
          }
        },
        "gather": {
          "logged": 1606510083050
        }
      }
    },
    {
      "cell_type": "code",
      "source": [
        "#Último dia útil (dia da semana) do mês\r\n",
        "pd.date_range('2000-01-01', '2000-12-01', freq='BM')"
      ],
      "outputs": [
        {
          "output_type": "execute_result",
          "execution_count": 35,
          "data": {
            "text/plain": "DatetimeIndex(['2000-01-31', '2000-02-29', '2000-03-31', '2000-04-28',\n               '2000-05-31', '2000-06-30', '2000-07-31', '2000-08-31',\n               '2000-09-29', '2000-10-31', '2000-11-30'],\n              dtype='datetime64[ns]', freq='BM')"
          },
          "metadata": {}
        }
      ],
      "execution_count": 35,
      "metadata": {
        "collapsed": false,
        "deletable": true,
        "editable": true,
        "gather": {
          "logged": 1606510090313
        }
      }
    },
    {
      "cell_type": "code",
      "source": [
        "pd.date_range('2012-05-02 12:56:31', periods=5)"
      ],
      "outputs": [
        {
          "output_type": "execute_result",
          "execution_count": 36,
          "data": {
            "text/plain": "DatetimeIndex(['2012-05-02 12:56:31', '2012-05-03 12:56:31',\n               '2012-05-04 12:56:31', '2012-05-05 12:56:31',\n               '2012-05-06 12:56:31'],\n              dtype='datetime64[ns]', freq='D')"
          },
          "metadata": {}
        }
      ],
      "execution_count": 36,
      "metadata": {
        "collapsed": false,
        "deletable": true,
        "editable": true,
        "gather": {
          "logged": 1606510132799
        }
      }
    },
    {
      "cell_type": "code",
      "source": [
        "#Às vezes você terá datas de início ou de \r\n",
        "#fim com informações de hora, mas vai querer \r\n",
        "#gerar um conjunto de timestamps normalizados \r\n",
        "#para a meia-noite como convenção. Para isso, temos a opção normalize:\r\n",
        "pd.date_range('2012-05-02 12:56:31', periods=5, normalize=True)"
      ],
      "outputs": [
        {
          "output_type": "execute_result",
          "execution_count": 37,
          "data": {
            "text/plain": "DatetimeIndex(['2012-05-02', '2012-05-03', '2012-05-04', '2012-05-05',\n               '2012-05-06'],\n              dtype='datetime64[ns]', freq='D')"
          },
          "metadata": {}
        }
      ],
      "execution_count": 37,
      "metadata": {
        "collapsed": false,
        "deletable": true,
        "editable": true,
        "gather": {
          "logged": 1606510147290
        }
      }
    },
    {
      "cell_type": "markdown",
      "source": [
        "### Frequencies and Date Offsets"
      ],
      "metadata": {
        "deletable": true,
        "editable": true
      }
    },
    {
      "cell_type": "code",
      "source": [
        "from pandas.tseries.offsets import Hour, Minute\n",
        "hour = Hour()\n",
        "hour"
      ],
      "outputs": [
        {
          "output_type": "execute_result",
          "execution_count": 38,
          "data": {
            "text/plain": "<Hour>"
          },
          "metadata": {}
        }
      ],
      "execution_count": 38,
      "metadata": {
        "collapsed": false,
        "deletable": true,
        "editable": true,
        "gather": {
          "logged": 1606510221885
        }
      }
    },
    {
      "cell_type": "code",
      "source": [
        "four_hours = Hour(4)\n",
        "four_hours"
      ],
      "outputs": [
        {
          "output_type": "execute_result",
          "execution_count": 39,
          "data": {
            "text/plain": "<4 * Hours>"
          },
          "metadata": {}
        }
      ],
      "execution_count": 39,
      "metadata": {
        "collapsed": false,
        "deletable": true,
        "editable": true,
        "gather": {
          "logged": 1606510226792
        }
      }
    },
    {
      "cell_type": "code",
      "source": [
        "pd.date_range('2000-01-01', '2000-01-03 23:59', freq='4h')"
      ],
      "outputs": [
        {
          "output_type": "execute_result",
          "execution_count": 40,
          "data": {
            "text/plain": "DatetimeIndex(['2000-01-01 00:00:00', '2000-01-01 04:00:00',\n               '2000-01-01 08:00:00', '2000-01-01 12:00:00',\n               '2000-01-01 16:00:00', '2000-01-01 20:00:00',\n               '2000-01-02 00:00:00', '2000-01-02 04:00:00',\n               '2000-01-02 08:00:00', '2000-01-02 12:00:00',\n               '2000-01-02 16:00:00', '2000-01-02 20:00:00',\n               '2000-01-03 00:00:00', '2000-01-03 04:00:00',\n               '2000-01-03 08:00:00', '2000-01-03 12:00:00',\n               '2000-01-03 16:00:00', '2000-01-03 20:00:00'],\n              dtype='datetime64[ns]', freq='4H')"
          },
          "metadata": {}
        }
      ],
      "execution_count": 40,
      "metadata": {
        "collapsed": false,
        "deletable": true,
        "editable": true,
        "gather": {
          "logged": 1606510233497
        }
      }
    },
    {
      "cell_type": "code",
      "source": [
        "Hour(2) + Minute(30)"
      ],
      "outputs": [
        {
          "output_type": "execute_result",
          "execution_count": 41,
          "data": {
            "text/plain": "<150 * Minutes>"
          },
          "metadata": {}
        }
      ],
      "execution_count": 41,
      "metadata": {
        "collapsed": false,
        "deletable": true,
        "editable": true,
        "gather": {
          "logged": 1606510239243
        }
      }
    },
    {
      "cell_type": "code",
      "source": [
        "pd.date_range('2000-01-01', periods=10, freq='1h30min')"
      ],
      "outputs": [
        {
          "output_type": "execute_result",
          "execution_count": 42,
          "data": {
            "text/plain": "DatetimeIndex(['2000-01-01 00:00:00', '2000-01-01 01:30:00',\n               '2000-01-01 03:00:00', '2000-01-01 04:30:00',\n               '2000-01-01 06:00:00', '2000-01-01 07:30:00',\n               '2000-01-01 09:00:00', '2000-01-01 10:30:00',\n               '2000-01-01 12:00:00', '2000-01-01 13:30:00'],\n              dtype='datetime64[ns]', freq='90T')"
          },
          "metadata": {}
        }
      ],
      "execution_count": 42,
      "metadata": {
        "collapsed": false,
        "deletable": true,
        "editable": true,
        "gather": {
          "logged": 1606510245317
        }
      }
    },
    {
      "cell_type": "markdown",
      "source": [
        "#### Week of month dates"
      ],
      "metadata": {
        "deletable": true,
        "editable": true
      }
    },
    {
      "cell_type": "code",
      "source": [
        "#Uma classe de frequência útil é a “semana do mês”, que começa com WOM. \n",
        "#Ela permite obter datas como a terceira sexta-feira de cada mês:\n",
        "rng = pd.date_range('2012-01-01', '2012-09-01', freq='WOM-3FRI')\n",
        "list(rng)"
      ],
      "outputs": [
        {
          "output_type": "execute_result",
          "execution_count": 43,
          "data": {
            "text/plain": "[Timestamp('2012-01-20 00:00:00', freq='WOM-3FRI'),\n Timestamp('2012-02-17 00:00:00', freq='WOM-3FRI'),\n Timestamp('2012-03-16 00:00:00', freq='WOM-3FRI'),\n Timestamp('2012-04-20 00:00:00', freq='WOM-3FRI'),\n Timestamp('2012-05-18 00:00:00', freq='WOM-3FRI'),\n Timestamp('2012-06-15 00:00:00', freq='WOM-3FRI'),\n Timestamp('2012-07-20 00:00:00', freq='WOM-3FRI'),\n Timestamp('2012-08-17 00:00:00', freq='WOM-3FRI')]"
          },
          "metadata": {}
        }
      ],
      "execution_count": 43,
      "metadata": {
        "collapsed": false,
        "deletable": true,
        "editable": true,
        "gather": {
          "logged": 1606510260971
        }
      }
    },
    {
      "cell_type": "markdown",
      "source": [
        "### Shifting (Leading and Lagging) Data\r\n",
        "Deslocamento de datas (adiantando e atrasando)"
      ],
      "metadata": {
        "deletable": true,
        "editable": true
      }
    },
    {
      "cell_type": "code",
      "source": [
        "ts = pd.Series(np.random.randn(4),\n",
        "               index=pd.date_range('1/1/2000', periods=4, freq='M'))\n",
        "ts\n"
      ],
      "outputs": [
        {
          "output_type": "execute_result",
          "execution_count": 44,
          "data": {
            "text/plain": "2000-01-31   -1.677765\n2000-02-29   -0.034771\n2000-03-31   -1.943194\n2000-04-30    0.405850\nFreq: M, dtype: float64"
          },
          "metadata": {}
        }
      ],
      "execution_count": 44,
      "metadata": {
        "collapsed": false,
        "deletable": true,
        "editable": true,
        "gather": {
          "logged": 1606510388917
        }
      }
    },
    {
      "cell_type": "code",
      "source": [
        "ts.shift(2)"
      ],
      "outputs": [
        {
          "output_type": "execute_result",
          "execution_count": 46,
          "data": {
            "text/plain": "2000-01-31         NaN\n2000-02-29         NaN\n2000-03-31   -1.677765\n2000-04-30   -0.034771\nFreq: M, dtype: float64"
          },
          "metadata": {}
        }
      ],
      "execution_count": 46,
      "metadata": {
        "collapsed": true,
        "jupyter": {
          "source_hidden": false,
          "outputs_hidden": false
        },
        "nteract": {
          "transient": {
            "deleting": false
          }
        },
        "gather": {
          "logged": 1606510418678
        }
      }
    },
    {
      "cell_type": "code",
      "source": [
        "ts.shift(-2)"
      ],
      "outputs": [
        {
          "output_type": "execute_result",
          "execution_count": 47,
          "data": {
            "text/plain": "2000-01-31   -1.943194\n2000-02-29    0.405850\n2000-03-31         NaN\n2000-04-30         NaN\nFreq: M, dtype: float64"
          },
          "metadata": {}
        }
      ],
      "execution_count": 47,
      "metadata": {
        "collapsed": true,
        "jupyter": {
          "source_hidden": false,
          "outputs_hidden": false
        },
        "nteract": {
          "transient": {
            "deleting": false
          }
        },
        "gather": {
          "logged": 1606510423957
        }
      }
    },
    {
      "cell_type": "code",
      "source": [
        "ts / ts.shift(1) - 1"
      ],
      "outputs": [
        {
          "output_type": "execute_result",
          "execution_count": 48,
          "data": {
            "text/plain": "2000-01-31          NaN\n2000-02-29    -0.979275\n2000-03-31    54.885256\n2000-04-30    -1.208857\nFreq: M, dtype: float64"
          },
          "metadata": {}
        }
      ],
      "execution_count": 48,
      "metadata": {
        "collapsed": true,
        "jupyter": {
          "source_hidden": false,
          "outputs_hidden": false
        },
        "nteract": {
          "transient": {
            "deleting": false
          }
        },
        "gather": {
          "logged": 1606510437839
        }
      }
    },
    {
      "cell_type": "code",
      "source": [
        "#Como deslocamentos triviais deixam o índice \r\n",
        "#inalterado, alguns dados são descartados. \r\n",
        "#Desse modo, se a frequência for conhecida, \r\n",
        "#ela poderá ser passada para shift a fim \r\n",
        "#de avançar os timestamps, em vez de \r\n",
        "#simplesmente fazer isso com os dados:\r\n",
        "ts"
      ],
      "outputs": [
        {
          "output_type": "execute_result",
          "execution_count": 50,
          "data": {
            "text/plain": "2000-01-31   -1.677765\n2000-02-29   -0.034771\n2000-03-31   -1.943194\n2000-04-30    0.405850\nFreq: M, dtype: float64"
          },
          "metadata": {}
        }
      ],
      "execution_count": 50,
      "metadata": {
        "collapsed": true,
        "jupyter": {
          "source_hidden": false,
          "outputs_hidden": false
        },
        "nteract": {
          "transient": {
            "deleting": false
          }
        },
        "gather": {
          "logged": 1606510537031
        }
      }
    },
    {
      "cell_type": "code",
      "source": [
        "ts.shift(2, freq='M')"
      ],
      "outputs": [
        {
          "output_type": "execute_result",
          "execution_count": 49,
          "data": {
            "text/plain": "2000-03-31   -1.677765\n2000-04-30   -0.034771\n2000-05-31   -1.943194\n2000-06-30    0.405850\nFreq: M, dtype: float64"
          },
          "metadata": {}
        }
      ],
      "execution_count": 49,
      "metadata": {
        "collapsed": false,
        "deletable": true,
        "editable": true,
        "gather": {
          "logged": 1606510450243
        }
      }
    },
    {
      "cell_type": "code",
      "source": [
        "ts.shift(3, freq='D')\n"
      ],
      "outputs": [
        {
          "output_type": "execute_result",
          "execution_count": 51,
          "data": {
            "text/plain": "2000-02-03   -1.677765\n2000-03-03   -0.034771\n2000-04-03   -1.943194\n2000-05-03    0.405850\ndtype: float64"
          },
          "metadata": {}
        }
      ],
      "execution_count": 51,
      "metadata": {
        "collapsed": false,
        "deletable": true,
        "editable": true,
        "gather": {
          "logged": 1606510557529
        }
      }
    },
    {
      "cell_type": "code",
      "source": [
        "#90T = 90 minutos\r\n",
        "ts.shift(1, freq='90T')"
      ],
      "outputs": [
        {
          "output_type": "execute_result",
          "execution_count": 52,
          "data": {
            "text/plain": "2000-01-31 01:30:00   -1.677765\n2000-02-29 01:30:00   -0.034771\n2000-03-31 01:30:00   -1.943194\n2000-04-30 01:30:00    0.405850\nFreq: M, dtype: float64"
          },
          "metadata": {}
        }
      ],
      "execution_count": 52,
      "metadata": {
        "collapsed": true,
        "jupyter": {
          "source_hidden": false,
          "outputs_hidden": false
        },
        "nteract": {
          "transient": {
            "deleting": false
          }
        },
        "gather": {
          "logged": 1606510571649
        }
      }
    },
    {
      "cell_type": "markdown",
      "source": [
        "#### Shifting dates with offsets"
      ],
      "metadata": {
        "deletable": true,
        "editable": true
      }
    },
    {
      "cell_type": "code",
      "source": [
        "from pandas.tseries.offsets import Day, MonthEnd\n",
        "now = datetime(2011, 11, 17)\n",
        "now + 3 * Day()"
      ],
      "outputs": [
        {
          "output_type": "execute_result",
          "execution_count": 53,
          "data": {
            "text/plain": "Timestamp('2011-11-20 00:00:00')"
          },
          "metadata": {}
        }
      ],
      "execution_count": 53,
      "metadata": {
        "collapsed": false,
        "deletable": true,
        "editable": true,
        "gather": {
          "logged": 1606510616034
        }
      }
    },
    {
      "cell_type": "code",
      "source": [
        "now + MonthEnd()"
      ],
      "outputs": [
        {
          "output_type": "execute_result",
          "execution_count": 57,
          "data": {
            "text/plain": "Timestamp('2011-11-30 00:00:00')"
          },
          "metadata": {}
        }
      ],
      "execution_count": 57,
      "metadata": {
        "collapsed": false,
        "deletable": true,
        "editable": true,
        "gather": {
          "logged": 1606510782551
        }
      }
    },
    {
      "cell_type": "code",
      "source": [
        "offset = MonthEnd()\n",
        "offset.rollforward(now)"
      ],
      "outputs": [
        {
          "output_type": "execute_result",
          "execution_count": 59,
          "data": {
            "text/plain": "Timestamp('2011-11-30 00:00:00')"
          },
          "metadata": {}
        }
      ],
      "execution_count": 59,
      "metadata": {
        "collapsed": false,
        "deletable": true,
        "editable": true,
        "gather": {
          "logged": 1606510813151
        }
      }
    },
    {
      "cell_type": "code",
      "source": [
        "offset.rollback(now)"
      ],
      "outputs": [
        {
          "output_type": "execute_result",
          "execution_count": 60,
          "data": {
            "text/plain": "Timestamp('2011-10-31 00:00:00')"
          },
          "metadata": {}
        }
      ],
      "execution_count": 60,
      "metadata": {
        "collapsed": true,
        "jupyter": {
          "source_hidden": false,
          "outputs_hidden": false
        },
        "nteract": {
          "transient": {
            "deleting": false
          }
        },
        "gather": {
          "logged": 1606510821961
        }
      }
    },
    {
      "cell_type": "code",
      "source": [
        "ts = pd.Series(np.random.randn(20),\n",
        "               index=pd.date_range('1/15/2000', periods=20, freq='4d'))\n",
        "ts\n",
        "ts.groupby(offset.rollforward).mean()"
      ],
      "outputs": [
        {
          "output_type": "execute_result",
          "execution_count": 61,
          "data": {
            "text/plain": "2000-01-31   -0.037705\n2000-02-29    0.558794\n2000-03-31    0.580095\ndtype: float64"
          },
          "metadata": {}
        }
      ],
      "execution_count": 61,
      "metadata": {
        "collapsed": false,
        "deletable": true,
        "editable": true,
        "gather": {
          "logged": 1606510842662
        }
      }
    },
    {
      "cell_type": "code",
      "source": [
        "ts.resample('M').mean()"
      ],
      "outputs": [
        {
          "output_type": "execute_result",
          "execution_count": 62,
          "data": {
            "text/plain": "2000-01-31   -0.037705\n2000-02-29    0.558794\n2000-03-31    0.580095\nFreq: M, dtype: float64"
          },
          "metadata": {}
        }
      ],
      "execution_count": 62,
      "metadata": {
        "collapsed": false,
        "deletable": true,
        "editable": true,
        "gather": {
          "logged": 1606510912113
        }
      }
    },
    {
      "cell_type": "markdown",
      "source": [
        "## Time Zone Handling"
      ],
      "metadata": {
        "deletable": true,
        "editable": true
      }
    },
    {
      "cell_type": "code",
      "source": [
        "import pytz\n",
        "pytz.common_timezones[-5:]"
      ],
      "outputs": [
        {
          "output_type": "execute_result",
          "execution_count": 63,
          "data": {
            "text/plain": "['US/Eastern', 'US/Hawaii', 'US/Mountain', 'US/Pacific', 'UTC']"
          },
          "metadata": {}
        }
      ],
      "execution_count": 63,
      "metadata": {
        "collapsed": false,
        "deletable": true,
        "editable": true,
        "gather": {
          "logged": 1606510922844
        }
      }
    },
    {
      "cell_type": "code",
      "source": [
        "tz = pytz.timezone('America/New_York')\n",
        "tz"
      ],
      "outputs": [
        {
          "output_type": "execute_result",
          "execution_count": 64,
          "data": {
            "text/plain": "<DstTzInfo 'America/New_York' LMT-1 day, 19:04:00 STD>"
          },
          "metadata": {}
        }
      ],
      "execution_count": 64,
      "metadata": {
        "collapsed": false,
        "deletable": true,
        "editable": true,
        "gather": {
          "logged": 1606510932223
        }
      }
    },
    {
      "cell_type": "markdown",
      "source": [
        "### Time Zone Localization and Conversion"
      ],
      "metadata": {
        "deletable": true,
        "editable": true
      }
    },
    {
      "cell_type": "code",
      "source": [
        "rng = pd.date_range('3/9/2012 9:30', periods=6, freq='D')\n",
        "ts = pd.Series(np.random.randn(len(rng)), index=rng)\n",
        "ts"
      ],
      "outputs": [
        {
          "output_type": "execute_result",
          "execution_count": 65,
          "data": {
            "text/plain": "2012-03-09 09:30:00    0.217985\n2012-03-10 09:30:00   -0.254538\n2012-03-11 09:30:00   -0.490485\n2012-03-12 09:30:00   -1.606192\n2012-03-13 09:30:00   -0.250439\n2012-03-14 09:30:00   -0.151218\nFreq: D, dtype: float64"
          },
          "metadata": {}
        }
      ],
      "execution_count": 65,
      "metadata": {
        "collapsed": false,
        "deletable": true,
        "editable": true,
        "gather": {
          "logged": 1606510951362
        }
      }
    },
    {
      "cell_type": "code",
      "source": [
        "print(ts.index.tz)"
      ],
      "outputs": [
        {
          "output_type": "stream",
          "name": "stdout",
          "text": [
            "None\n"
          ]
        }
      ],
      "execution_count": 66,
      "metadata": {
        "collapsed": false,
        "deletable": true,
        "editable": true,
        "gather": {
          "logged": 1606510968715
        }
      }
    },
    {
      "cell_type": "code",
      "source": [
        "pd.date_range('3/9/2012 9:30', periods=10, freq='D', tz='UTC')"
      ],
      "outputs": [
        {
          "output_type": "execute_result",
          "execution_count": 67,
          "data": {
            "text/plain": "DatetimeIndex(['2012-03-09 09:30:00+00:00', '2012-03-10 09:30:00+00:00',\n               '2012-03-11 09:30:00+00:00', '2012-03-12 09:30:00+00:00',\n               '2012-03-13 09:30:00+00:00', '2012-03-14 09:30:00+00:00',\n               '2012-03-15 09:30:00+00:00', '2012-03-16 09:30:00+00:00',\n               '2012-03-17 09:30:00+00:00', '2012-03-18 09:30:00+00:00'],\n              dtype='datetime64[ns, UTC]', freq='D')"
          },
          "metadata": {}
        }
      ],
      "execution_count": 67,
      "metadata": {
        "collapsed": false,
        "deletable": true,
        "editable": true,
        "gather": {
          "logged": 1606510974714
        }
      }
    },
    {
      "cell_type": "code",
      "source": [
        "ts\n",
        "ts_utc = ts.tz_localize('UTC')\n",
        "ts_utc\n",
        "ts_utc.index"
      ],
      "outputs": [
        {
          "output_type": "execute_result",
          "execution_count": 68,
          "data": {
            "text/plain": "DatetimeIndex(['2012-03-09 09:30:00+00:00', '2012-03-10 09:30:00+00:00',\n               '2012-03-11 09:30:00+00:00', '2012-03-12 09:30:00+00:00',\n               '2012-03-13 09:30:00+00:00', '2012-03-14 09:30:00+00:00'],\n              dtype='datetime64[ns, UTC]', freq='D')"
          },
          "metadata": {}
        }
      ],
      "execution_count": 68,
      "metadata": {
        "collapsed": false,
        "deletable": true,
        "editable": true,
        "gather": {
          "logged": 1606511002678
        }
      }
    },
    {
      "cell_type": "code",
      "source": [
        "ts_utc.tz_convert('America/New_York')"
      ],
      "outputs": [
        {
          "output_type": "execute_result",
          "execution_count": 69,
          "data": {
            "text/plain": "2012-03-09 04:30:00-05:00    0.217985\n2012-03-10 04:30:00-05:00   -0.254538\n2012-03-11 05:30:00-04:00   -0.490485\n2012-03-12 05:30:00-04:00   -1.606192\n2012-03-13 05:30:00-04:00   -0.250439\n2012-03-14 05:30:00-04:00   -0.151218\nFreq: D, dtype: float64"
          },
          "metadata": {}
        }
      ],
      "execution_count": 69,
      "metadata": {
        "collapsed": false,
        "deletable": true,
        "editable": true,
        "gather": {
          "logged": 1606511012779
        }
      }
    },
    {
      "cell_type": "code",
      "source": [
        "ts_eastern = ts.tz_localize('America/New_York')\n",
        "ts_eastern.tz_convert('UTC')\n"
      ],
      "outputs": [
        {
          "output_type": "execute_result",
          "execution_count": 71,
          "data": {
            "text/plain": "2012-03-09 14:30:00+00:00    0.217985\n2012-03-10 14:30:00+00:00   -0.254538\n2012-03-11 13:30:00+00:00   -0.490485\n2012-03-12 13:30:00+00:00   -1.606192\n2012-03-13 13:30:00+00:00   -0.250439\n2012-03-14 13:30:00+00:00   -0.151218\nFreq: D, dtype: float64"
          },
          "metadata": {}
        }
      ],
      "execution_count": 71,
      "metadata": {
        "collapsed": false,
        "deletable": true,
        "editable": true,
        "gather": {
          "logged": 1606511057887
        }
      }
    },
    {
      "cell_type": "code",
      "source": [
        "ts_eastern.tz_convert('Europe/Berlin')"
      ],
      "outputs": [
        {
          "output_type": "execute_result",
          "execution_count": 72,
          "data": {
            "text/plain": "2012-03-09 15:30:00+01:00    0.217985\n2012-03-10 15:30:00+01:00   -0.254538\n2012-03-11 14:30:00+01:00   -0.490485\n2012-03-12 14:30:00+01:00   -1.606192\n2012-03-13 14:30:00+01:00   -0.250439\n2012-03-14 14:30:00+01:00   -0.151218\nFreq: D, dtype: float64"
          },
          "metadata": {}
        }
      ],
      "execution_count": 72,
      "metadata": {
        "collapsed": true,
        "jupyter": {
          "source_hidden": false,
          "outputs_hidden": false
        },
        "nteract": {
          "transient": {
            "deleting": false
          }
        },
        "gather": {
          "logged": 1606511064190
        }
      }
    },
    {
      "cell_type": "code",
      "source": [
        "ts.index.tz_localize('Asia/Shanghai')"
      ],
      "outputs": [
        {
          "output_type": "execute_result",
          "execution_count": 73,
          "data": {
            "text/plain": "DatetimeIndex(['2012-03-09 09:30:00+08:00', '2012-03-10 09:30:00+08:00',\n               '2012-03-11 09:30:00+08:00', '2012-03-12 09:30:00+08:00',\n               '2012-03-13 09:30:00+08:00', '2012-03-14 09:30:00+08:00'],\n              dtype='datetime64[ns, Asia/Shanghai]', freq='D')"
          },
          "metadata": {}
        }
      ],
      "execution_count": 73,
      "metadata": {
        "collapsed": false,
        "deletable": true,
        "editable": true,
        "gather": {
          "logged": 1606511073053
        }
      }
    },
    {
      "cell_type": "code",
      "source": [
        "ts.index.tz_localize('America/Recife')"
      ],
      "outputs": [
        {
          "output_type": "execute_result",
          "execution_count": 76,
          "data": {
            "text/plain": "DatetimeIndex(['2012-03-09 09:30:00-03:00', '2012-03-10 09:30:00-03:00',\n               '2012-03-11 09:30:00-03:00', '2012-03-12 09:30:00-03:00',\n               '2012-03-13 09:30:00-03:00', '2012-03-14 09:30:00-03:00'],\n              dtype='datetime64[ns, America/Recife]', freq='D')"
          },
          "metadata": {}
        }
      ],
      "execution_count": 76,
      "metadata": {
        "collapsed": true,
        "jupyter": {
          "source_hidden": false,
          "outputs_hidden": false
        },
        "nteract": {
          "transient": {
            "deleting": false
          }
        },
        "gather": {
          "logged": 1606511231824
        }
      }
    }
  ],
  "metadata": {
    "kernelspec": {
      "name": "python3",
      "language": "python",
      "display_name": "Python 3"
    },
    "language_info": {
      "name": "python",
      "version": "3.6.9",
      "mimetype": "text/x-python",
      "codemirror_mode": {
        "name": "ipython",
        "version": 3
      },
      "pygments_lexer": "ipython3",
      "nbconvert_exporter": "python",
      "file_extension": ".py"
    },
    "kernel_info": {
      "name": "python3"
    },
    "nteract": {
      "version": "nteract-front-end@1.0.0"
    }
  },
  "nbformat": 4,
  "nbformat_minor": 0
}