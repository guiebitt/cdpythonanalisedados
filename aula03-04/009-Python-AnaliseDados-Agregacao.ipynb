{
  "cells": [
    {
      "cell_type": "markdown",
      "source": [
        "# Data Aggregation and Group Operations"
      ],
      "metadata": {
        "deletable": true,
        "editable": true
      }
    },
    {
      "cell_type": "code",
      "source": [
        "#Classificar um conjunto de dados e aplicar uma função a cada grupo, \n",
        "#seja uma agregação ou uma transformação, com frequência é um componente \n",
        "#essencial em um fluxo de trabalho de análise de dados. Após carregar, \n",
        "#mesclar e preparar um conjunto de dados, talvez seja necessário calcular \n",
        "#estatísticas de grupos ou, possivelmente, tabelas pivôs visando a \n",
        "#relatórios e visualizações. O pandas oferece uma interface flexível groupby, \n",
        "#que permite manipular e resumir conjuntos de dados de forma natural.\n",
        "import numpy as np\n",
        "import pandas as pd\n",
        "PREVIOUS_MAX_ROWS = pd.options.display.max_rows\n",
        "pd.options.display.max_rows = 20\n",
        "np.random.seed(12345)\n",
        "import matplotlib.pyplot as plt\n",
        "plt.rc('figure', figsize=(10, 6))\n",
        "np.set_printoptions(precision=4, suppress=True)"
      ],
      "outputs": [],
      "execution_count": 1,
      "metadata": {
        "collapsed": false,
        "deletable": true,
        "editable": true,
        "gather": {
          "logged": 1606501056718
        }
      }
    },
    {
      "cell_type": "markdown",
      "source": [
        "## GroupBy Mechanics"
      ],
      "metadata": {
        "deletable": true,
        "editable": true
      }
    },
    {
      "cell_type": "code",
      "source": [
        "#Suponha que quiséssemos calcular a média da coluna data1 \n",
        "#usando os rótulos de key1. Há várias maneiras de fazer \n",
        "#isso. Uma delas é acessar data1 e chamar groupby \n",
        "#com a coluna (uma Series) em key1:\n",
        "df = pd.DataFrame({'key1' : ['a', 'a', 'b', 'b', 'a'],\n",
        "                   'key2' : ['one', 'two', 'one', 'two', 'one'],\n",
        "                   'data1' : np.random.randn(5),\n",
        "                   'data2' : np.random.randn(5)})\n",
        "df"
      ],
      "outputs": [
        {
          "output_type": "execute_result",
          "execution_count": 2,
          "data": {
            "text/plain": "  key1 key2     data1     data2\n0    a  one -0.204708  1.393406\n1    a  two  0.478943  0.092908\n2    b  one -0.519439  0.281746\n3    b  two -0.555730  0.769023\n4    a  one  1.965781  1.246435",
            "text/html": "<div>\n<style scoped>\n    .dataframe tbody tr th:only-of-type {\n        vertical-align: middle;\n    }\n\n    .dataframe tbody tr th {\n        vertical-align: top;\n    }\n\n    .dataframe thead th {\n        text-align: right;\n    }\n</style>\n<table border=\"1\" class=\"dataframe\">\n  <thead>\n    <tr style=\"text-align: right;\">\n      <th></th>\n      <th>key1</th>\n      <th>key2</th>\n      <th>data1</th>\n      <th>data2</th>\n    </tr>\n  </thead>\n  <tbody>\n    <tr>\n      <th>0</th>\n      <td>a</td>\n      <td>one</td>\n      <td>-0.204708</td>\n      <td>1.393406</td>\n    </tr>\n    <tr>\n      <th>1</th>\n      <td>a</td>\n      <td>two</td>\n      <td>0.478943</td>\n      <td>0.092908</td>\n    </tr>\n    <tr>\n      <th>2</th>\n      <td>b</td>\n      <td>one</td>\n      <td>-0.519439</td>\n      <td>0.281746</td>\n    </tr>\n    <tr>\n      <th>3</th>\n      <td>b</td>\n      <td>two</td>\n      <td>-0.555730</td>\n      <td>0.769023</td>\n    </tr>\n    <tr>\n      <th>4</th>\n      <td>a</td>\n      <td>one</td>\n      <td>1.965781</td>\n      <td>1.246435</td>\n    </tr>\n  </tbody>\n</table>\n</div>"
          },
          "metadata": {}
        }
      ],
      "execution_count": 2,
      "metadata": {
        "collapsed": false,
        "deletable": true,
        "editable": true,
        "gather": {
          "logged": 1606501060520
        }
      }
    },
    {
      "cell_type": "code",
      "source": [
        "grouped = df['data1'].groupby(df['key1'])\n",
        "grouped.head()"
      ],
      "outputs": [
        {
          "output_type": "execute_result",
          "execution_count": 5,
          "data": {
            "text/plain": "0   -0.204708\n1    0.478943\n2   -0.519439\n3   -0.555730\n4    1.965781\nName: data1, dtype: float64"
          },
          "metadata": {}
        }
      ],
      "execution_count": 5,
      "metadata": {
        "collapsed": false,
        "deletable": true,
        "editable": true,
        "gather": {
          "logged": 1606501211462
        }
      }
    },
    {
      "cell_type": "code",
      "source": [
        "grouped.mean()"
      ],
      "outputs": [
        {
          "output_type": "execute_result",
          "execution_count": 6,
          "data": {
            "text/plain": "key1\na    0.746672\nb   -0.537585\nName: data1, dtype: float64"
          },
          "metadata": {}
        }
      ],
      "execution_count": 6,
      "metadata": {
        "collapsed": false,
        "deletable": true,
        "editable": true,
        "gather": {
          "logged": 1606501263539
        }
      }
    },
    {
      "cell_type": "code",
      "source": [
        "means = df['data1'].groupby([df['key1'], df['key2']]).mean()\n",
        "means"
      ],
      "outputs": [
        {
          "output_type": "execute_result",
          "execution_count": 7,
          "data": {
            "text/plain": "key1  key2\na     one     0.880536\n      two     0.478943\nb     one    -0.519439\n      two    -0.555730\nName: data1, dtype: float64"
          },
          "metadata": {}
        }
      ],
      "execution_count": 7,
      "metadata": {
        "collapsed": false,
        "deletable": true,
        "editable": true,
        "gather": {
          "logged": 1606501287199
        }
      }
    },
    {
      "cell_type": "code",
      "source": [
        "means.unstack()"
      ],
      "outputs": [
        {
          "output_type": "execute_result",
          "execution_count": 8,
          "data": {
            "text/plain": "key2       one       two\nkey1                    \na     0.880536  0.478943\nb    -0.519439 -0.555730",
            "text/html": "<div>\n<style scoped>\n    .dataframe tbody tr th:only-of-type {\n        vertical-align: middle;\n    }\n\n    .dataframe tbody tr th {\n        vertical-align: top;\n    }\n\n    .dataframe thead th {\n        text-align: right;\n    }\n</style>\n<table border=\"1\" class=\"dataframe\">\n  <thead>\n    <tr style=\"text-align: right;\">\n      <th>key2</th>\n      <th>one</th>\n      <th>two</th>\n    </tr>\n    <tr>\n      <th>key1</th>\n      <th></th>\n      <th></th>\n    </tr>\n  </thead>\n  <tbody>\n    <tr>\n      <th>a</th>\n      <td>0.880536</td>\n      <td>0.478943</td>\n    </tr>\n    <tr>\n      <th>b</th>\n      <td>-0.519439</td>\n      <td>-0.555730</td>\n    </tr>\n  </tbody>\n</table>\n</div>"
          },
          "metadata": {}
        }
      ],
      "execution_count": 8,
      "metadata": {
        "collapsed": false,
        "deletable": true,
        "editable": true,
        "gather": {
          "logged": 1606501310215
        }
      }
    },
    {
      "cell_type": "code",
      "source": [
        "states = np.array(['Ohio', 'California', 'California', 'Ohio', 'Ohio'])\n",
        "years = np.array([2005, 2005, 2006, 2005, 2006])\n",
        "df['data1'].groupby([states, years]).mean()"
      ],
      "outputs": [
        {
          "output_type": "execute_result",
          "execution_count": 9,
          "data": {
            "text/plain": "California  2005    0.478943\n            2006   -0.519439\nOhio        2005   -0.380219\n            2006    1.965781\nName: data1, dtype: float64"
          },
          "metadata": {}
        }
      ],
      "execution_count": 9,
      "metadata": {
        "collapsed": false,
        "deletable": true,
        "editable": true,
        "gather": {
          "logged": 1606501332404
        }
      }
    },
    {
      "cell_type": "code",
      "source": [
        "df.groupby('key1').mean()"
      ],
      "outputs": [
        {
          "output_type": "execute_result",
          "execution_count": 11,
          "data": {
            "text/plain": "         data1     data2\nkey1                    \na     0.746672  0.910916\nb    -0.537585  0.525384",
            "text/html": "<div>\n<style scoped>\n    .dataframe tbody tr th:only-of-type {\n        vertical-align: middle;\n    }\n\n    .dataframe tbody tr th {\n        vertical-align: top;\n    }\n\n    .dataframe thead th {\n        text-align: right;\n    }\n</style>\n<table border=\"1\" class=\"dataframe\">\n  <thead>\n    <tr style=\"text-align: right;\">\n      <th></th>\n      <th>data1</th>\n      <th>data2</th>\n    </tr>\n    <tr>\n      <th>key1</th>\n      <th></th>\n      <th></th>\n    </tr>\n  </thead>\n  <tbody>\n    <tr>\n      <th>a</th>\n      <td>0.746672</td>\n      <td>0.910916</td>\n    </tr>\n    <tr>\n      <th>b</th>\n      <td>-0.537585</td>\n      <td>0.525384</td>\n    </tr>\n  </tbody>\n</table>\n</div>"
          },
          "metadata": {}
        }
      ],
      "execution_count": 11,
      "metadata": {
        "collapsed": false,
        "deletable": true,
        "editable": true,
        "gather": {
          "logged": 1606501456062
        }
      }
    },
    {
      "cell_type": "code",
      "source": [
        "df.groupby(['key1', 'key2']).mean()"
      ],
      "outputs": [
        {
          "output_type": "execute_result",
          "execution_count": 12,
          "data": {
            "text/plain": "              data1     data2\nkey1 key2                    \na    one   0.880536  1.319920\n     two   0.478943  0.092908\nb    one  -0.519439  0.281746\n     two  -0.555730  0.769023",
            "text/html": "<div>\n<style scoped>\n    .dataframe tbody tr th:only-of-type {\n        vertical-align: middle;\n    }\n\n    .dataframe tbody tr th {\n        vertical-align: top;\n    }\n\n    .dataframe thead th {\n        text-align: right;\n    }\n</style>\n<table border=\"1\" class=\"dataframe\">\n  <thead>\n    <tr style=\"text-align: right;\">\n      <th></th>\n      <th></th>\n      <th>data1</th>\n      <th>data2</th>\n    </tr>\n    <tr>\n      <th>key1</th>\n      <th>key2</th>\n      <th></th>\n      <th></th>\n    </tr>\n  </thead>\n  <tbody>\n    <tr>\n      <th rowspan=\"2\" valign=\"top\">a</th>\n      <th>one</th>\n      <td>0.880536</td>\n      <td>1.319920</td>\n    </tr>\n    <tr>\n      <th>two</th>\n      <td>0.478943</td>\n      <td>0.092908</td>\n    </tr>\n    <tr>\n      <th rowspan=\"2\" valign=\"top\">b</th>\n      <th>one</th>\n      <td>-0.519439</td>\n      <td>0.281746</td>\n    </tr>\n    <tr>\n      <th>two</th>\n      <td>-0.555730</td>\n      <td>0.769023</td>\n    </tr>\n  </tbody>\n</table>\n</div>"
          },
          "metadata": {}
        }
      ],
      "execution_count": 12,
      "metadata": {
        "collapsed": true,
        "jupyter": {
          "source_hidden": false,
          "outputs_hidden": false
        },
        "nteract": {
          "transient": {
            "deleting": false
          }
        },
        "gather": {
          "logged": 1606501462533
        }
      }
    },
    {
      "cell_type": "code",
      "source": [
        "df.groupby(['key1', 'key2']).size()"
      ],
      "outputs": [
        {
          "output_type": "execute_result",
          "execution_count": 13,
          "data": {
            "text/plain": "key1  key2\na     one     2\n      two     1\nb     one     1\n      two     1\ndtype: int64"
          },
          "metadata": {}
        }
      ],
      "execution_count": 13,
      "metadata": {
        "collapsed": false,
        "deletable": true,
        "editable": true,
        "gather": {
          "logged": 1606501468268
        }
      }
    },
    {
      "cell_type": "markdown",
      "source": [
        "### Iterating Over Groups"
      ],
      "metadata": {
        "deletable": true,
        "editable": true
      }
    },
    {
      "cell_type": "code",
      "source": [
        "for name, group in df.groupby('key1'):\n",
        "    print(name)\n",
        "    print(group)"
      ],
      "outputs": [
        {
          "output_type": "stream",
          "name": "stdout",
          "text": [
            "a\n",
            "  key1 key2     data1     data2\n",
            "0    a  one -0.204708  1.393406\n",
            "1    a  two  0.478943  0.092908\n",
            "4    a  one  1.965781  1.246435\n",
            "b\n",
            "  key1 key2     data1     data2\n",
            "2    b  one -0.519439  0.281746\n",
            "3    b  two -0.555730  0.769023\n"
          ]
        }
      ],
      "execution_count": 14,
      "metadata": {
        "collapsed": false,
        "deletable": true,
        "editable": true,
        "gather": {
          "logged": 1606501480158
        }
      }
    },
    {
      "cell_type": "code",
      "source": [
        "for (k1, k2), group in df.groupby(['key1', 'key2']):\n",
        "    print((k1, k2))\n",
        "    print(group)"
      ],
      "outputs": [
        {
          "output_type": "stream",
          "name": "stdout",
          "text": [
            "('a', 'one')\n",
            "  key1 key2     data1     data2\n",
            "0    a  one -0.204708  1.393406\n",
            "4    a  one  1.965781  1.246435\n",
            "('a', 'two')\n",
            "  key1 key2     data1     data2\n",
            "1    a  two  0.478943  0.092908\n",
            "('b', 'one')\n",
            "  key1 key2     data1     data2\n",
            "2    b  one -0.519439  0.281746\n",
            "('b', 'two')\n",
            "  key1 key2    data1     data2\n",
            "3    b  two -0.55573  0.769023\n"
          ]
        }
      ],
      "execution_count": 15,
      "metadata": {
        "collapsed": false,
        "deletable": true,
        "editable": true,
        "gather": {
          "logged": 1606501507140
        }
      }
    },
    {
      "cell_type": "code",
      "source": [
        "pieces = dict(list(df.groupby('key1')))\n",
        "pieces['b']"
      ],
      "outputs": [
        {
          "output_type": "execute_result",
          "execution_count": 18,
          "data": {
            "text/plain": "  key1 key2     data1     data2\n2    b  one -0.519439  0.281746\n3    b  two -0.555730  0.769023",
            "text/html": "<div>\n<style scoped>\n    .dataframe tbody tr th:only-of-type {\n        vertical-align: middle;\n    }\n\n    .dataframe tbody tr th {\n        vertical-align: top;\n    }\n\n    .dataframe thead th {\n        text-align: right;\n    }\n</style>\n<table border=\"1\" class=\"dataframe\">\n  <thead>\n    <tr style=\"text-align: right;\">\n      <th></th>\n      <th>key1</th>\n      <th>key2</th>\n      <th>data1</th>\n      <th>data2</th>\n    </tr>\n  </thead>\n  <tbody>\n    <tr>\n      <th>2</th>\n      <td>b</td>\n      <td>one</td>\n      <td>-0.519439</td>\n      <td>0.281746</td>\n    </tr>\n    <tr>\n      <th>3</th>\n      <td>b</td>\n      <td>two</td>\n      <td>-0.555730</td>\n      <td>0.769023</td>\n    </tr>\n  </tbody>\n</table>\n</div>"
          },
          "metadata": {}
        }
      ],
      "execution_count": 18,
      "metadata": {
        "collapsed": false,
        "deletable": true,
        "editable": true,
        "gather": {
          "logged": 1606501539882
        }
      }
    },
    {
      "cell_type": "code",
      "source": [
        "df.dtypes\n"
      ],
      "outputs": [
        {
          "output_type": "execute_result",
          "execution_count": 20,
          "data": {
            "text/plain": "key1      object\nkey2      object\ndata1    float64\ndata2    float64\ndtype: object"
          },
          "metadata": {}
        }
      ],
      "execution_count": 20,
      "metadata": {
        "collapsed": false,
        "deletable": true,
        "editable": true,
        "gather": {
          "logged": 1606501560064
        }
      }
    },
    {
      "cell_type": "code",
      "source": [
        "grouped = df.groupby(df.dtypes, axis=1)"
      ],
      "outputs": [],
      "execution_count": 21,
      "metadata": {
        "collapsed": true,
        "jupyter": {
          "source_hidden": false,
          "outputs_hidden": false
        },
        "nteract": {
          "transient": {
            "deleting": false
          }
        },
        "gather": {
          "logged": 1606501568360
        }
      }
    },
    {
      "cell_type": "code",
      "source": [
        "for dtype, group in grouped:\n",
        "    print(dtype)\n",
        "    print(group)"
      ],
      "outputs": [
        {
          "output_type": "stream",
          "name": "stdout",
          "text": [
            "float64\n",
            "      data1     data2\n",
            "0 -0.204708  1.393406\n",
            "1  0.478943  0.092908\n",
            "2 -0.519439  0.281746\n",
            "3 -0.555730  0.769023\n",
            "4  1.965781  1.246435\n",
            "object\n",
            "  key1 key2\n",
            "0    a  one\n",
            "1    a  two\n",
            "2    b  one\n",
            "3    b  two\n",
            "4    a  one\n"
          ]
        }
      ],
      "execution_count": 22,
      "metadata": {
        "collapsed": false,
        "deletable": true,
        "editable": true,
        "gather": {
          "logged": 1606501571384
        }
      }
    },
    {
      "cell_type": "markdown",
      "source": [
        "### Selecting a Column or Subset of Columns"
      ],
      "metadata": {
        "deletable": true,
        "editable": true
      }
    },
    {
      "cell_type": "code",
      "source": [
        "df.groupby('key1')['data1']\n",
        "df.groupby('key1')[['data2']]"
      ],
      "outputs": [
        {
          "output_type": "execute_result",
          "execution_count": 24,
          "data": {
            "text/plain": "<pandas.core.groupby.generic.DataFrameGroupBy object at 0x7fd328174438>"
          },
          "metadata": {}
        }
      ],
      "execution_count": 24,
      "metadata": {
        "collapsed": true,
        "jupyter": {
          "source_hidden": false,
          "outputs_hidden": false
        },
        "nteract": {
          "transient": {
            "deleting": false
          }
        },
        "gather": {
          "logged": 1606501671852
        }
      }
    },
    {
      "cell_type": "code",
      "source": [
        "df['data1'].groupby(df['key1'])\n",
        "df[['data2']].groupby(df['key1'])"
      ],
      "outputs": [
        {
          "output_type": "execute_result",
          "execution_count": 25,
          "data": {
            "text/plain": "<pandas.core.groupby.generic.DataFrameGroupBy object at 0x7fd328174748>"
          },
          "metadata": {}
        }
      ],
      "execution_count": 25,
      "metadata": {
        "collapsed": true,
        "jupyter": {
          "source_hidden": false,
          "outputs_hidden": false
        },
        "nteract": {
          "transient": {
            "deleting": false
          }
        },
        "gather": {
          "logged": 1606501754162
        }
      }
    },
    {
      "cell_type": "code",
      "source": [
        "df.groupby(['key1', 'key2'])[['data2']].mean()"
      ],
      "outputs": [
        {
          "output_type": "execute_result",
          "execution_count": 30,
          "data": {
            "text/plain": "              data2\nkey1 key2          \na    one   1.319920\n     two   0.092908\nb    one   0.281746\n     two   0.769023",
            "text/html": "<div>\n<style scoped>\n    .dataframe tbody tr th:only-of-type {\n        vertical-align: middle;\n    }\n\n    .dataframe tbody tr th {\n        vertical-align: top;\n    }\n\n    .dataframe thead th {\n        text-align: right;\n    }\n</style>\n<table border=\"1\" class=\"dataframe\">\n  <thead>\n    <tr style=\"text-align: right;\">\n      <th></th>\n      <th></th>\n      <th>data2</th>\n    </tr>\n    <tr>\n      <th>key1</th>\n      <th>key2</th>\n      <th></th>\n    </tr>\n  </thead>\n  <tbody>\n    <tr>\n      <th rowspan=\"2\" valign=\"top\">a</th>\n      <th>one</th>\n      <td>1.319920</td>\n    </tr>\n    <tr>\n      <th>two</th>\n      <td>0.092908</td>\n    </tr>\n    <tr>\n      <th rowspan=\"2\" valign=\"top\">b</th>\n      <th>one</th>\n      <td>0.281746</td>\n    </tr>\n    <tr>\n      <th>two</th>\n      <td>0.769023</td>\n    </tr>\n  </tbody>\n</table>\n</div>"
          },
          "metadata": {}
        }
      ],
      "execution_count": 30,
      "metadata": {
        "collapsed": false,
        "deletable": true,
        "editable": true,
        "gather": {
          "logged": 1606501859091
        }
      }
    },
    {
      "cell_type": "markdown",
      "source": [
        "### Grouping with Dicts and Series"
      ],
      "metadata": {
        "deletable": true,
        "editable": true
      }
    },
    {
      "cell_type": "code",
      "source": [
        "people = pd.DataFrame(np.random.randn(5, 5),\n",
        "                      columns=['a', 'b', 'c', 'd', 'e'],\n",
        "                      index=['Joe', 'Steve', 'Wes', 'Jim', 'Travis'])\n",
        "people.iloc[2:3, [1, 2]] = np.nan # Add a few NA values\n",
        "people"
      ],
      "outputs": [
        {
          "output_type": "execute_result",
          "execution_count": 34,
          "data": {
            "text/plain": "               a         b         c         d         e\nJoe     1.007189 -1.296221  0.274992  0.228913  1.352917\nSteve   0.886429 -2.001637 -0.371843  1.669025 -0.438570\nWes    -0.539741       NaN       NaN -1.021228 -0.577087\nJim     0.124121  0.302614  0.523772  0.000940  1.343810\nTravis -0.713544 -0.831154 -2.370232 -1.860761 -0.860757",
            "text/html": "<div>\n<style scoped>\n    .dataframe tbody tr th:only-of-type {\n        vertical-align: middle;\n    }\n\n    .dataframe tbody tr th {\n        vertical-align: top;\n    }\n\n    .dataframe thead th {\n        text-align: right;\n    }\n</style>\n<table border=\"1\" class=\"dataframe\">\n  <thead>\n    <tr style=\"text-align: right;\">\n      <th></th>\n      <th>a</th>\n      <th>b</th>\n      <th>c</th>\n      <th>d</th>\n      <th>e</th>\n    </tr>\n  </thead>\n  <tbody>\n    <tr>\n      <th>Joe</th>\n      <td>1.007189</td>\n      <td>-1.296221</td>\n      <td>0.274992</td>\n      <td>0.228913</td>\n      <td>1.352917</td>\n    </tr>\n    <tr>\n      <th>Steve</th>\n      <td>0.886429</td>\n      <td>-2.001637</td>\n      <td>-0.371843</td>\n      <td>1.669025</td>\n      <td>-0.438570</td>\n    </tr>\n    <tr>\n      <th>Wes</th>\n      <td>-0.539741</td>\n      <td>NaN</td>\n      <td>NaN</td>\n      <td>-1.021228</td>\n      <td>-0.577087</td>\n    </tr>\n    <tr>\n      <th>Jim</th>\n      <td>0.124121</td>\n      <td>0.302614</td>\n      <td>0.523772</td>\n      <td>0.000940</td>\n      <td>1.343810</td>\n    </tr>\n    <tr>\n      <th>Travis</th>\n      <td>-0.713544</td>\n      <td>-0.831154</td>\n      <td>-2.370232</td>\n      <td>-1.860761</td>\n      <td>-0.860757</td>\n    </tr>\n  </tbody>\n</table>\n</div>"
          },
          "metadata": {}
        }
      ],
      "execution_count": 34,
      "metadata": {
        "collapsed": false,
        "deletable": true,
        "editable": true,
        "gather": {
          "logged": 1606501943430
        }
      }
    },
    {
      "cell_type": "code",
      "source": [
        "mapping = {'a': 'red', 'b': 'red', 'c': 'blue',\n",
        "           'd': 'blue', 'e': 'red', 'f' : 'orange'}"
      ],
      "outputs": [],
      "execution_count": 35,
      "metadata": {
        "collapsed": false,
        "deletable": true,
        "editable": true,
        "gather": {
          "logged": 1606501955913
        }
      }
    },
    {
      "cell_type": "code",
      "source": [
        "by_column = people.groupby(mapping, axis=1)\n",
        "by_column.sum()"
      ],
      "outputs": [
        {
          "output_type": "execute_result",
          "execution_count": 36,
          "data": {
            "text/plain": "            blue       red\nJoe     0.503905  1.063885\nSteve   1.297183 -1.553778\nWes    -1.021228 -1.116829\nJim     0.524712  1.770545\nTravis -4.230992 -2.405455",
            "text/html": "<div>\n<style scoped>\n    .dataframe tbody tr th:only-of-type {\n        vertical-align: middle;\n    }\n\n    .dataframe tbody tr th {\n        vertical-align: top;\n    }\n\n    .dataframe thead th {\n        text-align: right;\n    }\n</style>\n<table border=\"1\" class=\"dataframe\">\n  <thead>\n    <tr style=\"text-align: right;\">\n      <th></th>\n      <th>blue</th>\n      <th>red</th>\n    </tr>\n  </thead>\n  <tbody>\n    <tr>\n      <th>Joe</th>\n      <td>0.503905</td>\n      <td>1.063885</td>\n    </tr>\n    <tr>\n      <th>Steve</th>\n      <td>1.297183</td>\n      <td>-1.553778</td>\n    </tr>\n    <tr>\n      <th>Wes</th>\n      <td>-1.021228</td>\n      <td>-1.116829</td>\n    </tr>\n    <tr>\n      <th>Jim</th>\n      <td>0.524712</td>\n      <td>1.770545</td>\n    </tr>\n    <tr>\n      <th>Travis</th>\n      <td>-4.230992</td>\n      <td>-2.405455</td>\n    </tr>\n  </tbody>\n</table>\n</div>"
          },
          "metadata": {}
        }
      ],
      "execution_count": 36,
      "metadata": {
        "collapsed": false,
        "deletable": true,
        "editable": true,
        "gather": {
          "logged": 1606501960623
        }
      }
    },
    {
      "cell_type": "code",
      "source": [
        "map_series = pd.Series(mapping)\n",
        "map_series"
      ],
      "outputs": [
        {
          "output_type": "execute_result",
          "execution_count": 37,
          "data": {
            "text/plain": "a       red\nb       red\nc      blue\nd      blue\ne       red\nf    orange\ndtype: object"
          },
          "metadata": {}
        }
      ],
      "execution_count": 37,
      "metadata": {
        "collapsed": false,
        "deletable": true,
        "editable": true,
        "gather": {
          "logged": 1606501993215
        }
      }
    },
    {
      "cell_type": "code",
      "source": [
        "people.groupby(map_series, axis=1).count()"
      ],
      "outputs": [
        {
          "output_type": "execute_result",
          "execution_count": 38,
          "data": {
            "text/plain": "        blue  red\nJoe        2    3\nSteve      2    3\nWes        1    2\nJim        2    3\nTravis     2    3",
            "text/html": "<div>\n<style scoped>\n    .dataframe tbody tr th:only-of-type {\n        vertical-align: middle;\n    }\n\n    .dataframe tbody tr th {\n        vertical-align: top;\n    }\n\n    .dataframe thead th {\n        text-align: right;\n    }\n</style>\n<table border=\"1\" class=\"dataframe\">\n  <thead>\n    <tr style=\"text-align: right;\">\n      <th></th>\n      <th>blue</th>\n      <th>red</th>\n    </tr>\n  </thead>\n  <tbody>\n    <tr>\n      <th>Joe</th>\n      <td>2</td>\n      <td>3</td>\n    </tr>\n    <tr>\n      <th>Steve</th>\n      <td>2</td>\n      <td>3</td>\n    </tr>\n    <tr>\n      <th>Wes</th>\n      <td>1</td>\n      <td>2</td>\n    </tr>\n    <tr>\n      <th>Jim</th>\n      <td>2</td>\n      <td>3</td>\n    </tr>\n    <tr>\n      <th>Travis</th>\n      <td>2</td>\n      <td>3</td>\n    </tr>\n  </tbody>\n</table>\n</div>"
          },
          "metadata": {}
        }
      ],
      "execution_count": 38,
      "metadata": {
        "collapsed": true,
        "jupyter": {
          "source_hidden": false,
          "outputs_hidden": false
        },
        "nteract": {
          "transient": {
            "deleting": false
          }
        },
        "gather": {
          "logged": 1606502001473
        }
      }
    },
    {
      "cell_type": "markdown",
      "source": [
        "### Grouping with Functions"
      ],
      "metadata": {
        "deletable": true,
        "editable": true
      }
    },
    {
      "cell_type": "code",
      "source": [
        "people.groupby(len).sum()"
      ],
      "outputs": [
        {
          "output_type": "execute_result",
          "execution_count": 39,
          "data": {
            "text/plain": "          a         b         c         d         e\n3  0.591569 -0.993608  0.798764 -0.791374  2.119639\n5  0.886429 -2.001637 -0.371843  1.669025 -0.438570\n6 -0.713544 -0.831154 -2.370232 -1.860761 -0.860757",
            "text/html": "<div>\n<style scoped>\n    .dataframe tbody tr th:only-of-type {\n        vertical-align: middle;\n    }\n\n    .dataframe tbody tr th {\n        vertical-align: top;\n    }\n\n    .dataframe thead th {\n        text-align: right;\n    }\n</style>\n<table border=\"1\" class=\"dataframe\">\n  <thead>\n    <tr style=\"text-align: right;\">\n      <th></th>\n      <th>a</th>\n      <th>b</th>\n      <th>c</th>\n      <th>d</th>\n      <th>e</th>\n    </tr>\n  </thead>\n  <tbody>\n    <tr>\n      <th>3</th>\n      <td>0.591569</td>\n      <td>-0.993608</td>\n      <td>0.798764</td>\n      <td>-0.791374</td>\n      <td>2.119639</td>\n    </tr>\n    <tr>\n      <th>5</th>\n      <td>0.886429</td>\n      <td>-2.001637</td>\n      <td>-0.371843</td>\n      <td>1.669025</td>\n      <td>-0.438570</td>\n    </tr>\n    <tr>\n      <th>6</th>\n      <td>-0.713544</td>\n      <td>-0.831154</td>\n      <td>-2.370232</td>\n      <td>-1.860761</td>\n      <td>-0.860757</td>\n    </tr>\n  </tbody>\n</table>\n</div>"
          },
          "metadata": {}
        }
      ],
      "execution_count": 39,
      "metadata": {
        "collapsed": false,
        "deletable": true,
        "editable": true,
        "gather": {
          "logged": 1606502202433
        }
      }
    },
    {
      "cell_type": "markdown",
      "source": [
        "### Grouping by Index Levels"
      ],
      "metadata": {
        "deletable": true,
        "editable": true
      }
    },
    {
      "cell_type": "code",
      "source": [
        "columns = pd.MultiIndex.from_arrays([['US', 'US', 'US', 'JP', 'JP'],\n",
        "                                    [1, 3, 5, 1, 3]],\n",
        "                                    names=['cty', 'tenor'])\n",
        "hier_df = pd.DataFrame(np.random.randn(4, 5), columns=columns)\n",
        "hier_df"
      ],
      "outputs": [
        {
          "output_type": "execute_result",
          "execution_count": 41,
          "data": {
            "text/plain": "cty          US                            JP          \ntenor         1         3         5         1         3\n0      0.560145 -1.265934  0.119827 -1.063512  0.332883\n1     -2.359419 -0.199543 -1.541996 -0.970736 -1.307030\n2      0.286350  0.377984 -0.753887  0.331286  1.349742\n3      0.069877  0.246674 -0.011862  1.004812  1.327195",
            "text/html": "<div>\n<style scoped>\n    .dataframe tbody tr th:only-of-type {\n        vertical-align: middle;\n    }\n\n    .dataframe tbody tr th {\n        vertical-align: top;\n    }\n\n    .dataframe thead tr th {\n        text-align: left;\n    }\n</style>\n<table border=\"1\" class=\"dataframe\">\n  <thead>\n    <tr>\n      <th>cty</th>\n      <th colspan=\"3\" halign=\"left\">US</th>\n      <th colspan=\"2\" halign=\"left\">JP</th>\n    </tr>\n    <tr>\n      <th>tenor</th>\n      <th>1</th>\n      <th>3</th>\n      <th>5</th>\n      <th>1</th>\n      <th>3</th>\n    </tr>\n  </thead>\n  <tbody>\n    <tr>\n      <th>0</th>\n      <td>0.560145</td>\n      <td>-1.265934</td>\n      <td>0.119827</td>\n      <td>-1.063512</td>\n      <td>0.332883</td>\n    </tr>\n    <tr>\n      <th>1</th>\n      <td>-2.359419</td>\n      <td>-0.199543</td>\n      <td>-1.541996</td>\n      <td>-0.970736</td>\n      <td>-1.307030</td>\n    </tr>\n    <tr>\n      <th>2</th>\n      <td>0.286350</td>\n      <td>0.377984</td>\n      <td>-0.753887</td>\n      <td>0.331286</td>\n      <td>1.349742</td>\n    </tr>\n    <tr>\n      <th>3</th>\n      <td>0.069877</td>\n      <td>0.246674</td>\n      <td>-0.011862</td>\n      <td>1.004812</td>\n      <td>1.327195</td>\n    </tr>\n  </tbody>\n</table>\n</div>"
          },
          "metadata": {}
        }
      ],
      "execution_count": 41,
      "metadata": {
        "collapsed": false,
        "deletable": true,
        "editable": true,
        "gather": {
          "logged": 1606502364799
        }
      }
    },
    {
      "cell_type": "code",
      "source": [
        "hier_df.groupby(level='cty', axis=1).count()"
      ],
      "outputs": [
        {
          "output_type": "execute_result",
          "execution_count": 44,
          "data": {
            "text/plain": "cty  JP  US\n0     2   3\n1     2   3\n2     2   3\n3     2   3",
            "text/html": "<div>\n<style scoped>\n    .dataframe tbody tr th:only-of-type {\n        vertical-align: middle;\n    }\n\n    .dataframe tbody tr th {\n        vertical-align: top;\n    }\n\n    .dataframe thead th {\n        text-align: right;\n    }\n</style>\n<table border=\"1\" class=\"dataframe\">\n  <thead>\n    <tr style=\"text-align: right;\">\n      <th>cty</th>\n      <th>JP</th>\n      <th>US</th>\n    </tr>\n  </thead>\n  <tbody>\n    <tr>\n      <th>0</th>\n      <td>2</td>\n      <td>3</td>\n    </tr>\n    <tr>\n      <th>1</th>\n      <td>2</td>\n      <td>3</td>\n    </tr>\n    <tr>\n      <th>2</th>\n      <td>2</td>\n      <td>3</td>\n    </tr>\n    <tr>\n      <th>3</th>\n      <td>2</td>\n      <td>3</td>\n    </tr>\n  </tbody>\n</table>\n</div>"
          },
          "metadata": {}
        }
      ],
      "execution_count": 44,
      "metadata": {
        "collapsed": false,
        "deletable": true,
        "editable": true,
        "gather": {
          "logged": 1606502424878
        }
      }
    },
    {
      "cell_type": "markdown",
      "source": [
        "## Data Aggregation"
      ],
      "metadata": {
        "deletable": true,
        "editable": true
      }
    },
    {
      "cell_type": "code",
      "source": [
        "#As agregações referem-se a qualquer transformação de \n",
        "#dados que gere valores escalares a partir de arrays. \n",
        "#Os exemplos anteriores usaram várias delas, #\n",
        "#incluindo mean, count, min e sum.\n",
        "df\n"
      ],
      "outputs": [
        {
          "output_type": "execute_result",
          "execution_count": 46,
          "data": {
            "text/plain": "  key1 key2     data1     data2\n0    a  one -0.204708  1.393406\n1    a  two  0.478943  0.092908\n2    b  one -0.519439  0.281746\n3    b  two -0.555730  0.769023\n4    a  one  1.965781  1.246435",
            "text/html": "<div>\n<style scoped>\n    .dataframe tbody tr th:only-of-type {\n        vertical-align: middle;\n    }\n\n    .dataframe tbody tr th {\n        vertical-align: top;\n    }\n\n    .dataframe thead th {\n        text-align: right;\n    }\n</style>\n<table border=\"1\" class=\"dataframe\">\n  <thead>\n    <tr style=\"text-align: right;\">\n      <th></th>\n      <th>key1</th>\n      <th>key2</th>\n      <th>data1</th>\n      <th>data2</th>\n    </tr>\n  </thead>\n  <tbody>\n    <tr>\n      <th>0</th>\n      <td>a</td>\n      <td>one</td>\n      <td>-0.204708</td>\n      <td>1.393406</td>\n    </tr>\n    <tr>\n      <th>1</th>\n      <td>a</td>\n      <td>two</td>\n      <td>0.478943</td>\n      <td>0.092908</td>\n    </tr>\n    <tr>\n      <th>2</th>\n      <td>b</td>\n      <td>one</td>\n      <td>-0.519439</td>\n      <td>0.281746</td>\n    </tr>\n    <tr>\n      <th>3</th>\n      <td>b</td>\n      <td>two</td>\n      <td>-0.555730</td>\n      <td>0.769023</td>\n    </tr>\n    <tr>\n      <th>4</th>\n      <td>a</td>\n      <td>one</td>\n      <td>1.965781</td>\n      <td>1.246435</td>\n    </tr>\n  </tbody>\n</table>\n</div>"
          },
          "metadata": {}
        }
      ],
      "execution_count": 46,
      "metadata": {
        "collapsed": false,
        "deletable": true,
        "editable": true,
        "gather": {
          "logged": 1606502531222
        }
      }
    },
    {
      "cell_type": "code",
      "source": [
        "#Os quantis dividem os dados ordenados em q subconjuntos \r\n",
        "#de dados de dimensão essencialmente igual\r\n",
        "grouped = df.groupby('key1')\r\n",
        "grouped['data1'].quantile(0.9)"
      ],
      "outputs": [
        {
          "output_type": "execute_result",
          "execution_count": 47,
          "data": {
            "text/plain": "key1\na    1.668413\nb   -0.523068\nName: data1, dtype: float64"
          },
          "metadata": {}
        }
      ],
      "execution_count": 47,
      "metadata": {
        "collapsed": true,
        "jupyter": {
          "source_hidden": false,
          "outputs_hidden": false
        },
        "nteract": {
          "transient": {
            "deleting": false
          }
        },
        "gather": {
          "logged": 1606502536340
        }
      }
    },
    {
      "cell_type": "code",
      "source": [
        "#Para usar suas próprias funções de agregação, \n",
        "#passe qualquer função que agregue um array \n",
        "#para o método aggregate ou agg:\n",
        "def peak_to_peak(arr):\n",
        "    return arr.max() - arr.min()\n",
        "grouped.agg(peak_to_peak)"
      ],
      "outputs": [
        {
          "output_type": "execute_result",
          "execution_count": 48,
          "data": {
            "text/plain": "         data1     data2\nkey1                    \na     2.170488  1.300498\nb     0.036292  0.487276",
            "text/html": "<div>\n<style scoped>\n    .dataframe tbody tr th:only-of-type {\n        vertical-align: middle;\n    }\n\n    .dataframe tbody tr th {\n        vertical-align: top;\n    }\n\n    .dataframe thead th {\n        text-align: right;\n    }\n</style>\n<table border=\"1\" class=\"dataframe\">\n  <thead>\n    <tr style=\"text-align: right;\">\n      <th></th>\n      <th>data1</th>\n      <th>data2</th>\n    </tr>\n    <tr>\n      <th>key1</th>\n      <th></th>\n      <th></th>\n    </tr>\n  </thead>\n  <tbody>\n    <tr>\n      <th>a</th>\n      <td>2.170488</td>\n      <td>1.300498</td>\n    </tr>\n    <tr>\n      <th>b</th>\n      <td>0.036292</td>\n      <td>0.487276</td>\n    </tr>\n  </tbody>\n</table>\n</div>"
          },
          "metadata": {}
        }
      ],
      "execution_count": 48,
      "metadata": {
        "collapsed": false,
        "deletable": true,
        "editable": true,
        "gather": {
          "logged": 1606502633963
        }
      }
    },
    {
      "cell_type": "code",
      "source": [
        "grouped.describe()"
      ],
      "outputs": [
        {
          "output_type": "execute_result",
          "execution_count": 49,
          "data": {
            "text/plain": "     data1                                                              \\\n     count      mean       std       min       25%       50%       75%   \nkey1                                                                     \na      3.0  0.746672  1.109736 -0.204708  0.137118  0.478943  1.222362   \nb      2.0 -0.537585  0.025662 -0.555730 -0.546657 -0.537585 -0.528512   \n\n               data2                                                    \\\n           max count      mean       std       min       25%       50%   \nkey1                                                                     \na     1.965781   3.0  0.910916  0.712217  0.092908  0.669671  1.246435   \nb    -0.519439   2.0  0.525384  0.344556  0.281746  0.403565  0.525384   \n\n                          \n           75%       max  \nkey1                      \na     1.319920  1.393406  \nb     0.647203  0.769023  ",
            "text/html": "<div>\n<style scoped>\n    .dataframe tbody tr th:only-of-type {\n        vertical-align: middle;\n    }\n\n    .dataframe tbody tr th {\n        vertical-align: top;\n    }\n\n    .dataframe thead tr th {\n        text-align: left;\n    }\n\n    .dataframe thead tr:last-of-type th {\n        text-align: right;\n    }\n</style>\n<table border=\"1\" class=\"dataframe\">\n  <thead>\n    <tr>\n      <th></th>\n      <th colspan=\"8\" halign=\"left\">data1</th>\n      <th colspan=\"8\" halign=\"left\">data2</th>\n    </tr>\n    <tr>\n      <th></th>\n      <th>count</th>\n      <th>mean</th>\n      <th>std</th>\n      <th>min</th>\n      <th>25%</th>\n      <th>50%</th>\n      <th>75%</th>\n      <th>max</th>\n      <th>count</th>\n      <th>mean</th>\n      <th>std</th>\n      <th>min</th>\n      <th>25%</th>\n      <th>50%</th>\n      <th>75%</th>\n      <th>max</th>\n    </tr>\n    <tr>\n      <th>key1</th>\n      <th></th>\n      <th></th>\n      <th></th>\n      <th></th>\n      <th></th>\n      <th></th>\n      <th></th>\n      <th></th>\n      <th></th>\n      <th></th>\n      <th></th>\n      <th></th>\n      <th></th>\n      <th></th>\n      <th></th>\n      <th></th>\n    </tr>\n  </thead>\n  <tbody>\n    <tr>\n      <th>a</th>\n      <td>3.0</td>\n      <td>0.746672</td>\n      <td>1.109736</td>\n      <td>-0.204708</td>\n      <td>0.137118</td>\n      <td>0.478943</td>\n      <td>1.222362</td>\n      <td>1.965781</td>\n      <td>3.0</td>\n      <td>0.910916</td>\n      <td>0.712217</td>\n      <td>0.092908</td>\n      <td>0.669671</td>\n      <td>1.246435</td>\n      <td>1.319920</td>\n      <td>1.393406</td>\n    </tr>\n    <tr>\n      <th>b</th>\n      <td>2.0</td>\n      <td>-0.537585</td>\n      <td>0.025662</td>\n      <td>-0.555730</td>\n      <td>-0.546657</td>\n      <td>-0.537585</td>\n      <td>-0.528512</td>\n      <td>-0.519439</td>\n      <td>2.0</td>\n      <td>0.525384</td>\n      <td>0.344556</td>\n      <td>0.281746</td>\n      <td>0.403565</td>\n      <td>0.525384</td>\n      <td>0.647203</td>\n      <td>0.769023</td>\n    </tr>\n  </tbody>\n</table>\n</div>"
          },
          "metadata": {}
        }
      ],
      "execution_count": 49,
      "metadata": {
        "collapsed": false,
        "deletable": true,
        "editable": true,
        "gather": {
          "logged": 1606502682645
        }
      }
    },
    {
      "cell_type": "markdown",
      "source": [
        "### Aplicação de função nas colunas e aplicação de várias funções"
      ],
      "metadata": {
        "deletable": true,
        "editable": true
      }
    },
    {
      "cell_type": "code",
      "source": [
        "tips = pd.read_csv('examples/tips.csv')\n",
        "# Add tip percentage of total bill\n",
        "tips['tip_pct'] = tips['tip'] / tips['total_bill']\n",
        "tips[:6]"
      ],
      "outputs": [
        {
          "output_type": "execute_result",
          "execution_count": 50,
          "data": {
            "text/plain": "   total_bill   tip smoker  day    time  size   tip_pct\n0       16.99  1.01     No  Sun  Dinner     2  0.059447\n1       10.34  1.66     No  Sun  Dinner     3  0.160542\n2       21.01  3.50     No  Sun  Dinner     3  0.166587\n3       23.68  3.31     No  Sun  Dinner     2  0.139780\n4       24.59  3.61     No  Sun  Dinner     4  0.146808\n5       25.29  4.71     No  Sun  Dinner     4  0.186240",
            "text/html": "<div>\n<style scoped>\n    .dataframe tbody tr th:only-of-type {\n        vertical-align: middle;\n    }\n\n    .dataframe tbody tr th {\n        vertical-align: top;\n    }\n\n    .dataframe thead th {\n        text-align: right;\n    }\n</style>\n<table border=\"1\" class=\"dataframe\">\n  <thead>\n    <tr style=\"text-align: right;\">\n      <th></th>\n      <th>total_bill</th>\n      <th>tip</th>\n      <th>smoker</th>\n      <th>day</th>\n      <th>time</th>\n      <th>size</th>\n      <th>tip_pct</th>\n    </tr>\n  </thead>\n  <tbody>\n    <tr>\n      <th>0</th>\n      <td>16.99</td>\n      <td>1.01</td>\n      <td>No</td>\n      <td>Sun</td>\n      <td>Dinner</td>\n      <td>2</td>\n      <td>0.059447</td>\n    </tr>\n    <tr>\n      <th>1</th>\n      <td>10.34</td>\n      <td>1.66</td>\n      <td>No</td>\n      <td>Sun</td>\n      <td>Dinner</td>\n      <td>3</td>\n      <td>0.160542</td>\n    </tr>\n    <tr>\n      <th>2</th>\n      <td>21.01</td>\n      <td>3.50</td>\n      <td>No</td>\n      <td>Sun</td>\n      <td>Dinner</td>\n      <td>3</td>\n      <td>0.166587</td>\n    </tr>\n    <tr>\n      <th>3</th>\n      <td>23.68</td>\n      <td>3.31</td>\n      <td>No</td>\n      <td>Sun</td>\n      <td>Dinner</td>\n      <td>2</td>\n      <td>0.139780</td>\n    </tr>\n    <tr>\n      <th>4</th>\n      <td>24.59</td>\n      <td>3.61</td>\n      <td>No</td>\n      <td>Sun</td>\n      <td>Dinner</td>\n      <td>4</td>\n      <td>0.146808</td>\n    </tr>\n    <tr>\n      <th>5</th>\n      <td>25.29</td>\n      <td>4.71</td>\n      <td>No</td>\n      <td>Sun</td>\n      <td>Dinner</td>\n      <td>4</td>\n      <td>0.186240</td>\n    </tr>\n  </tbody>\n</table>\n</div>"
          },
          "metadata": {}
        }
      ],
      "execution_count": 50,
      "metadata": {
        "collapsed": false,
        "deletable": true,
        "editable": true,
        "gather": {
          "logged": 1606502718195
        }
      }
    },
    {
      "cell_type": "code",
      "source": [
        "grouped = tips.groupby(['day', 'smoker'])"
      ],
      "outputs": [],
      "execution_count": 54,
      "metadata": {
        "collapsed": false,
        "deletable": true,
        "editable": true,
        "gather": {
          "logged": 1606502785776
        }
      }
    },
    {
      "cell_type": "code",
      "source": [
        "grouped_pct = grouped['tip_pct']\n",
        "grouped_pct.agg('mean')"
      ],
      "outputs": [
        {
          "output_type": "execute_result",
          "execution_count": 55,
          "data": {
            "text/plain": "day   smoker\nFri   No        0.151650\n      Yes       0.174783\nSat   No        0.158048\n      Yes       0.147906\nSun   No        0.160113\n      Yes       0.187250\nThur  No        0.160298\n      Yes       0.163863\nName: tip_pct, dtype: float64"
          },
          "metadata": {}
        }
      ],
      "execution_count": 55,
      "metadata": {
        "collapsed": false,
        "deletable": true,
        "editable": true,
        "gather": {
          "logged": 1606502790534
        }
      }
    },
    {
      "cell_type": "code",
      "source": [
        "grouped_pct.agg(['mean', 'std', peak_to_peak])"
      ],
      "outputs": [
        {
          "output_type": "execute_result",
          "execution_count": 56,
          "data": {
            "text/plain": "                 mean       std  peak_to_peak\nday  smoker                                  \nFri  No      0.151650  0.028123      0.067349\n     Yes     0.174783  0.051293      0.159925\nSat  No      0.158048  0.039767      0.235193\n     Yes     0.147906  0.061375      0.290095\nSun  No      0.160113  0.042347      0.193226\n     Yes     0.187250  0.154134      0.644685\nThur No      0.160298  0.038774      0.193350\n     Yes     0.163863  0.039389      0.151240",
            "text/html": "<div>\n<style scoped>\n    .dataframe tbody tr th:only-of-type {\n        vertical-align: middle;\n    }\n\n    .dataframe tbody tr th {\n        vertical-align: top;\n    }\n\n    .dataframe thead th {\n        text-align: right;\n    }\n</style>\n<table border=\"1\" class=\"dataframe\">\n  <thead>\n    <tr style=\"text-align: right;\">\n      <th></th>\n      <th></th>\n      <th>mean</th>\n      <th>std</th>\n      <th>peak_to_peak</th>\n    </tr>\n    <tr>\n      <th>day</th>\n      <th>smoker</th>\n      <th></th>\n      <th></th>\n      <th></th>\n    </tr>\n  </thead>\n  <tbody>\n    <tr>\n      <th rowspan=\"2\" valign=\"top\">Fri</th>\n      <th>No</th>\n      <td>0.151650</td>\n      <td>0.028123</td>\n      <td>0.067349</td>\n    </tr>\n    <tr>\n      <th>Yes</th>\n      <td>0.174783</td>\n      <td>0.051293</td>\n      <td>0.159925</td>\n    </tr>\n    <tr>\n      <th rowspan=\"2\" valign=\"top\">Sat</th>\n      <th>No</th>\n      <td>0.158048</td>\n      <td>0.039767</td>\n      <td>0.235193</td>\n    </tr>\n    <tr>\n      <th>Yes</th>\n      <td>0.147906</td>\n      <td>0.061375</td>\n      <td>0.290095</td>\n    </tr>\n    <tr>\n      <th rowspan=\"2\" valign=\"top\">Sun</th>\n      <th>No</th>\n      <td>0.160113</td>\n      <td>0.042347</td>\n      <td>0.193226</td>\n    </tr>\n    <tr>\n      <th>Yes</th>\n      <td>0.187250</td>\n      <td>0.154134</td>\n      <td>0.644685</td>\n    </tr>\n    <tr>\n      <th rowspan=\"2\" valign=\"top\">Thur</th>\n      <th>No</th>\n      <td>0.160298</td>\n      <td>0.038774</td>\n      <td>0.193350</td>\n    </tr>\n    <tr>\n      <th>Yes</th>\n      <td>0.163863</td>\n      <td>0.039389</td>\n      <td>0.151240</td>\n    </tr>\n  </tbody>\n</table>\n</div>"
          },
          "metadata": {}
        }
      ],
      "execution_count": 56,
      "metadata": {
        "collapsed": false,
        "deletable": true,
        "editable": true,
        "gather": {
          "logged": 1606502850853
        }
      }
    },
    {
      "cell_type": "code",
      "source": [
        "grouped_pct.agg([('col1', 'mean'), ('col2', np.std)])"
      ],
      "outputs": [
        {
          "output_type": "execute_result",
          "execution_count": 58,
          "data": {
            "text/plain": "                 col1      col2\nday  smoker                    \nFri  No      0.151650  0.028123\n     Yes     0.174783  0.051293\nSat  No      0.158048  0.039767\n     Yes     0.147906  0.061375\nSun  No      0.160113  0.042347\n     Yes     0.187250  0.154134\nThur No      0.160298  0.038774\n     Yes     0.163863  0.039389",
            "text/html": "<div>\n<style scoped>\n    .dataframe tbody tr th:only-of-type {\n        vertical-align: middle;\n    }\n\n    .dataframe tbody tr th {\n        vertical-align: top;\n    }\n\n    .dataframe thead th {\n        text-align: right;\n    }\n</style>\n<table border=\"1\" class=\"dataframe\">\n  <thead>\n    <tr style=\"text-align: right;\">\n      <th></th>\n      <th></th>\n      <th>col1</th>\n      <th>col2</th>\n    </tr>\n    <tr>\n      <th>day</th>\n      <th>smoker</th>\n      <th></th>\n      <th></th>\n    </tr>\n  </thead>\n  <tbody>\n    <tr>\n      <th rowspan=\"2\" valign=\"top\">Fri</th>\n      <th>No</th>\n      <td>0.151650</td>\n      <td>0.028123</td>\n    </tr>\n    <tr>\n      <th>Yes</th>\n      <td>0.174783</td>\n      <td>0.051293</td>\n    </tr>\n    <tr>\n      <th rowspan=\"2\" valign=\"top\">Sat</th>\n      <th>No</th>\n      <td>0.158048</td>\n      <td>0.039767</td>\n    </tr>\n    <tr>\n      <th>Yes</th>\n      <td>0.147906</td>\n      <td>0.061375</td>\n    </tr>\n    <tr>\n      <th rowspan=\"2\" valign=\"top\">Sun</th>\n      <th>No</th>\n      <td>0.160113</td>\n      <td>0.042347</td>\n    </tr>\n    <tr>\n      <th>Yes</th>\n      <td>0.187250</td>\n      <td>0.154134</td>\n    </tr>\n    <tr>\n      <th rowspan=\"2\" valign=\"top\">Thur</th>\n      <th>No</th>\n      <td>0.160298</td>\n      <td>0.038774</td>\n    </tr>\n    <tr>\n      <th>Yes</th>\n      <td>0.163863</td>\n      <td>0.039389</td>\n    </tr>\n  </tbody>\n</table>\n</div>"
          },
          "metadata": {}
        }
      ],
      "execution_count": 58,
      "metadata": {
        "collapsed": false,
        "deletable": true,
        "editable": true,
        "gather": {
          "logged": 1606502926093
        }
      }
    },
    {
      "cell_type": "code",
      "source": [
        "functions = ['count', 'mean', 'max']\n",
        "result = grouped['tip_pct', 'total_bill'].agg(functions)\n",
        "result"
      ],
      "outputs": [
        {
          "output_type": "execute_result",
          "execution_count": 59,
          "data": {
            "text/plain": "            tip_pct                     total_bill                  \n              count      mean       max      count       mean    max\nday  smoker                                                         \nFri  No           4  0.151650  0.187735          4  18.420000  22.75\n     Yes         15  0.174783  0.263480         15  16.813333  40.17\nSat  No          45  0.158048  0.291990         45  19.661778  48.33\n     Yes         42  0.147906  0.325733         42  21.276667  50.81\nSun  No          57  0.160113  0.252672         57  20.506667  48.17\n     Yes         19  0.187250  0.710345         19  24.120000  45.35\nThur No          45  0.160298  0.266312         45  17.113111  41.19\n     Yes         17  0.163863  0.241255         17  19.190588  43.11",
            "text/html": "<div>\n<style scoped>\n    .dataframe tbody tr th:only-of-type {\n        vertical-align: middle;\n    }\n\n    .dataframe tbody tr th {\n        vertical-align: top;\n    }\n\n    .dataframe thead tr th {\n        text-align: left;\n    }\n\n    .dataframe thead tr:last-of-type th {\n        text-align: right;\n    }\n</style>\n<table border=\"1\" class=\"dataframe\">\n  <thead>\n    <tr>\n      <th></th>\n      <th></th>\n      <th colspan=\"3\" halign=\"left\">tip_pct</th>\n      <th colspan=\"3\" halign=\"left\">total_bill</th>\n    </tr>\n    <tr>\n      <th></th>\n      <th></th>\n      <th>count</th>\n      <th>mean</th>\n      <th>max</th>\n      <th>count</th>\n      <th>mean</th>\n      <th>max</th>\n    </tr>\n    <tr>\n      <th>day</th>\n      <th>smoker</th>\n      <th></th>\n      <th></th>\n      <th></th>\n      <th></th>\n      <th></th>\n      <th></th>\n    </tr>\n  </thead>\n  <tbody>\n    <tr>\n      <th rowspan=\"2\" valign=\"top\">Fri</th>\n      <th>No</th>\n      <td>4</td>\n      <td>0.151650</td>\n      <td>0.187735</td>\n      <td>4</td>\n      <td>18.420000</td>\n      <td>22.75</td>\n    </tr>\n    <tr>\n      <th>Yes</th>\n      <td>15</td>\n      <td>0.174783</td>\n      <td>0.263480</td>\n      <td>15</td>\n      <td>16.813333</td>\n      <td>40.17</td>\n    </tr>\n    <tr>\n      <th rowspan=\"2\" valign=\"top\">Sat</th>\n      <th>No</th>\n      <td>45</td>\n      <td>0.158048</td>\n      <td>0.291990</td>\n      <td>45</td>\n      <td>19.661778</td>\n      <td>48.33</td>\n    </tr>\n    <tr>\n      <th>Yes</th>\n      <td>42</td>\n      <td>0.147906</td>\n      <td>0.325733</td>\n      <td>42</td>\n      <td>21.276667</td>\n      <td>50.81</td>\n    </tr>\n    <tr>\n      <th rowspan=\"2\" valign=\"top\">Sun</th>\n      <th>No</th>\n      <td>57</td>\n      <td>0.160113</td>\n      <td>0.252672</td>\n      <td>57</td>\n      <td>20.506667</td>\n      <td>48.17</td>\n    </tr>\n    <tr>\n      <th>Yes</th>\n      <td>19</td>\n      <td>0.187250</td>\n      <td>0.710345</td>\n      <td>19</td>\n      <td>24.120000</td>\n      <td>45.35</td>\n    </tr>\n    <tr>\n      <th rowspan=\"2\" valign=\"top\">Thur</th>\n      <th>No</th>\n      <td>45</td>\n      <td>0.160298</td>\n      <td>0.266312</td>\n      <td>45</td>\n      <td>17.113111</td>\n      <td>41.19</td>\n    </tr>\n    <tr>\n      <th>Yes</th>\n      <td>17</td>\n      <td>0.163863</td>\n      <td>0.241255</td>\n      <td>17</td>\n      <td>19.190588</td>\n      <td>43.11</td>\n    </tr>\n  </tbody>\n</table>\n</div>"
          },
          "metadata": {}
        }
      ],
      "execution_count": 59,
      "metadata": {
        "collapsed": false,
        "deletable": true,
        "editable": true,
        "gather": {
          "logged": 1606502940204
        }
      }
    },
    {
      "cell_type": "code",
      "source": [
        "result['tip_pct']"
      ],
      "outputs": [
        {
          "output_type": "execute_result",
          "execution_count": 60,
          "data": {
            "text/plain": "             count      mean       max\nday  smoker                           \nFri  No          4  0.151650  0.187735\n     Yes        15  0.174783  0.263480\nSat  No         45  0.158048  0.291990\n     Yes        42  0.147906  0.325733\nSun  No         57  0.160113  0.252672\n     Yes        19  0.187250  0.710345\nThur No         45  0.160298  0.266312\n     Yes        17  0.163863  0.241255",
            "text/html": "<div>\n<style scoped>\n    .dataframe tbody tr th:only-of-type {\n        vertical-align: middle;\n    }\n\n    .dataframe tbody tr th {\n        vertical-align: top;\n    }\n\n    .dataframe thead th {\n        text-align: right;\n    }\n</style>\n<table border=\"1\" class=\"dataframe\">\n  <thead>\n    <tr style=\"text-align: right;\">\n      <th></th>\n      <th></th>\n      <th>count</th>\n      <th>mean</th>\n      <th>max</th>\n    </tr>\n    <tr>\n      <th>day</th>\n      <th>smoker</th>\n      <th></th>\n      <th></th>\n      <th></th>\n    </tr>\n  </thead>\n  <tbody>\n    <tr>\n      <th rowspan=\"2\" valign=\"top\">Fri</th>\n      <th>No</th>\n      <td>4</td>\n      <td>0.151650</td>\n      <td>0.187735</td>\n    </tr>\n    <tr>\n      <th>Yes</th>\n      <td>15</td>\n      <td>0.174783</td>\n      <td>0.263480</td>\n    </tr>\n    <tr>\n      <th rowspan=\"2\" valign=\"top\">Sat</th>\n      <th>No</th>\n      <td>45</td>\n      <td>0.158048</td>\n      <td>0.291990</td>\n    </tr>\n    <tr>\n      <th>Yes</th>\n      <td>42</td>\n      <td>0.147906</td>\n      <td>0.325733</td>\n    </tr>\n    <tr>\n      <th rowspan=\"2\" valign=\"top\">Sun</th>\n      <th>No</th>\n      <td>57</td>\n      <td>0.160113</td>\n      <td>0.252672</td>\n    </tr>\n    <tr>\n      <th>Yes</th>\n      <td>19</td>\n      <td>0.187250</td>\n      <td>0.710345</td>\n    </tr>\n    <tr>\n      <th rowspan=\"2\" valign=\"top\">Thur</th>\n      <th>No</th>\n      <td>45</td>\n      <td>0.160298</td>\n      <td>0.266312</td>\n    </tr>\n    <tr>\n      <th>Yes</th>\n      <td>17</td>\n      <td>0.163863</td>\n      <td>0.241255</td>\n    </tr>\n  </tbody>\n</table>\n</div>"
          },
          "metadata": {}
        }
      ],
      "execution_count": 60,
      "metadata": {
        "collapsed": false,
        "deletable": true,
        "editable": true,
        "gather": {
          "logged": 1606502955796
        }
      }
    },
    {
      "cell_type": "code",
      "source": [
        "ftuples = [('Durchschnitt', 'mean'), ('Abweichung', np.var)]\n",
        "grouped['tip_pct', 'total_bill'].agg(ftuples)"
      ],
      "outputs": [
        {
          "output_type": "execute_result",
          "execution_count": 61,
          "data": {
            "text/plain": "                 tip_pct              total_bill            \n            Durchschnitt Abweichung Durchschnitt  Abweichung\nday  smoker                                                 \nFri  No         0.151650   0.000791    18.420000   25.596333\n     Yes        0.174783   0.002631    16.813333   82.562438\nSat  No         0.158048   0.001581    19.661778   79.908965\n     Yes        0.147906   0.003767    21.276667  101.387535\nSun  No         0.160113   0.001793    20.506667   66.099980\n     Yes        0.187250   0.023757    24.120000  109.046044\nThur No         0.160298   0.001503    17.113111   59.625081\n     Yes        0.163863   0.001551    19.190588   69.808518",
            "text/html": "<div>\n<style scoped>\n    .dataframe tbody tr th:only-of-type {\n        vertical-align: middle;\n    }\n\n    .dataframe tbody tr th {\n        vertical-align: top;\n    }\n\n    .dataframe thead tr th {\n        text-align: left;\n    }\n\n    .dataframe thead tr:last-of-type th {\n        text-align: right;\n    }\n</style>\n<table border=\"1\" class=\"dataframe\">\n  <thead>\n    <tr>\n      <th></th>\n      <th></th>\n      <th colspan=\"2\" halign=\"left\">tip_pct</th>\n      <th colspan=\"2\" halign=\"left\">total_bill</th>\n    </tr>\n    <tr>\n      <th></th>\n      <th></th>\n      <th>Durchschnitt</th>\n      <th>Abweichung</th>\n      <th>Durchschnitt</th>\n      <th>Abweichung</th>\n    </tr>\n    <tr>\n      <th>day</th>\n      <th>smoker</th>\n      <th></th>\n      <th></th>\n      <th></th>\n      <th></th>\n    </tr>\n  </thead>\n  <tbody>\n    <tr>\n      <th rowspan=\"2\" valign=\"top\">Fri</th>\n      <th>No</th>\n      <td>0.151650</td>\n      <td>0.000791</td>\n      <td>18.420000</td>\n      <td>25.596333</td>\n    </tr>\n    <tr>\n      <th>Yes</th>\n      <td>0.174783</td>\n      <td>0.002631</td>\n      <td>16.813333</td>\n      <td>82.562438</td>\n    </tr>\n    <tr>\n      <th rowspan=\"2\" valign=\"top\">Sat</th>\n      <th>No</th>\n      <td>0.158048</td>\n      <td>0.001581</td>\n      <td>19.661778</td>\n      <td>79.908965</td>\n    </tr>\n    <tr>\n      <th>Yes</th>\n      <td>0.147906</td>\n      <td>0.003767</td>\n      <td>21.276667</td>\n      <td>101.387535</td>\n    </tr>\n    <tr>\n      <th rowspan=\"2\" valign=\"top\">Sun</th>\n      <th>No</th>\n      <td>0.160113</td>\n      <td>0.001793</td>\n      <td>20.506667</td>\n      <td>66.099980</td>\n    </tr>\n    <tr>\n      <th>Yes</th>\n      <td>0.187250</td>\n      <td>0.023757</td>\n      <td>24.120000</td>\n      <td>109.046044</td>\n    </tr>\n    <tr>\n      <th rowspan=\"2\" valign=\"top\">Thur</th>\n      <th>No</th>\n      <td>0.160298</td>\n      <td>0.001503</td>\n      <td>17.113111</td>\n      <td>59.625081</td>\n    </tr>\n    <tr>\n      <th>Yes</th>\n      <td>0.163863</td>\n      <td>0.001551</td>\n      <td>19.190588</td>\n      <td>69.808518</td>\n    </tr>\n  </tbody>\n</table>\n</div>"
          },
          "metadata": {}
        }
      ],
      "execution_count": 61,
      "metadata": {
        "collapsed": false,
        "deletable": true,
        "editable": true,
        "gather": {
          "logged": 1606503049492
        }
      }
    },
    {
      "cell_type": "code",
      "source": [
        "grouped.agg({'tip_pct' : ['min', 'max', 'mean', 'std'],\n",
        "             'size' : 'sum'})"
      ],
      "outputs": [
        {
          "output_type": "execute_result",
          "execution_count": 63,
          "data": {
            "text/plain": "              tip_pct                               size\n                  min       max      mean       std  sum\nday  smoker                                             \nFri  No      0.120385  0.187735  0.151650  0.028123    9\n     Yes     0.103555  0.263480  0.174783  0.051293   31\nSat  No      0.056797  0.291990  0.158048  0.039767  115\n     Yes     0.035638  0.325733  0.147906  0.061375  104\nSun  No      0.059447  0.252672  0.160113  0.042347  167\n     Yes     0.065660  0.710345  0.187250  0.154134   49\nThur No      0.072961  0.266312  0.160298  0.038774  112\n     Yes     0.090014  0.241255  0.163863  0.039389   40",
            "text/html": "<div>\n<style scoped>\n    .dataframe tbody tr th:only-of-type {\n        vertical-align: middle;\n    }\n\n    .dataframe tbody tr th {\n        vertical-align: top;\n    }\n\n    .dataframe thead tr th {\n        text-align: left;\n    }\n\n    .dataframe thead tr:last-of-type th {\n        text-align: right;\n    }\n</style>\n<table border=\"1\" class=\"dataframe\">\n  <thead>\n    <tr>\n      <th></th>\n      <th></th>\n      <th colspan=\"4\" halign=\"left\">tip_pct</th>\n      <th>size</th>\n    </tr>\n    <tr>\n      <th></th>\n      <th></th>\n      <th>min</th>\n      <th>max</th>\n      <th>mean</th>\n      <th>std</th>\n      <th>sum</th>\n    </tr>\n    <tr>\n      <th>day</th>\n      <th>smoker</th>\n      <th></th>\n      <th></th>\n      <th></th>\n      <th></th>\n      <th></th>\n    </tr>\n  </thead>\n  <tbody>\n    <tr>\n      <th rowspan=\"2\" valign=\"top\">Fri</th>\n      <th>No</th>\n      <td>0.120385</td>\n      <td>0.187735</td>\n      <td>0.151650</td>\n      <td>0.028123</td>\n      <td>9</td>\n    </tr>\n    <tr>\n      <th>Yes</th>\n      <td>0.103555</td>\n      <td>0.263480</td>\n      <td>0.174783</td>\n      <td>0.051293</td>\n      <td>31</td>\n    </tr>\n    <tr>\n      <th rowspan=\"2\" valign=\"top\">Sat</th>\n      <th>No</th>\n      <td>0.056797</td>\n      <td>0.291990</td>\n      <td>0.158048</td>\n      <td>0.039767</td>\n      <td>115</td>\n    </tr>\n    <tr>\n      <th>Yes</th>\n      <td>0.035638</td>\n      <td>0.325733</td>\n      <td>0.147906</td>\n      <td>0.061375</td>\n      <td>104</td>\n    </tr>\n    <tr>\n      <th rowspan=\"2\" valign=\"top\">Sun</th>\n      <th>No</th>\n      <td>0.059447</td>\n      <td>0.252672</td>\n      <td>0.160113</td>\n      <td>0.042347</td>\n      <td>167</td>\n    </tr>\n    <tr>\n      <th>Yes</th>\n      <td>0.065660</td>\n      <td>0.710345</td>\n      <td>0.187250</td>\n      <td>0.154134</td>\n      <td>49</td>\n    </tr>\n    <tr>\n      <th rowspan=\"2\" valign=\"top\">Thur</th>\n      <th>No</th>\n      <td>0.072961</td>\n      <td>0.266312</td>\n      <td>0.160298</td>\n      <td>0.038774</td>\n      <td>112</td>\n    </tr>\n    <tr>\n      <th>Yes</th>\n      <td>0.090014</td>\n      <td>0.241255</td>\n      <td>0.163863</td>\n      <td>0.039389</td>\n      <td>40</td>\n    </tr>\n  </tbody>\n</table>\n</div>"
          },
          "metadata": {}
        }
      ],
      "execution_count": 63,
      "metadata": {
        "collapsed": false,
        "deletable": true,
        "editable": true,
        "gather": {
          "logged": 1606503124916
        }
      }
    },
    {
      "cell_type": "markdown",
      "source": [
        "### Returning Aggregated Data Without Row Indexes"
      ],
      "metadata": {
        "deletable": true,
        "editable": true
      }
    },
    {
      "cell_type": "code",
      "source": [
        "tips.groupby(['day', 'smoker'], as_index=False).mean()"
      ],
      "outputs": [
        {
          "output_type": "execute_result",
          "execution_count": 66,
          "data": {
            "text/plain": "    day smoker  total_bill       tip      size   tip_pct\n0   Fri     No   18.420000  2.812500  2.250000  0.151650\n1   Fri    Yes   16.813333  2.714000  2.066667  0.174783\n2   Sat     No   19.661778  3.102889  2.555556  0.158048\n3   Sat    Yes   21.276667  2.875476  2.476190  0.147906\n4   Sun     No   20.506667  3.167895  2.929825  0.160113\n5   Sun    Yes   24.120000  3.516842  2.578947  0.187250\n6  Thur     No   17.113111  2.673778  2.488889  0.160298\n7  Thur    Yes   19.190588  3.030000  2.352941  0.163863",
            "text/html": "<div>\n<style scoped>\n    .dataframe tbody tr th:only-of-type {\n        vertical-align: middle;\n    }\n\n    .dataframe tbody tr th {\n        vertical-align: top;\n    }\n\n    .dataframe thead th {\n        text-align: right;\n    }\n</style>\n<table border=\"1\" class=\"dataframe\">\n  <thead>\n    <tr style=\"text-align: right;\">\n      <th></th>\n      <th>day</th>\n      <th>smoker</th>\n      <th>total_bill</th>\n      <th>tip</th>\n      <th>size</th>\n      <th>tip_pct</th>\n    </tr>\n  </thead>\n  <tbody>\n    <tr>\n      <th>0</th>\n      <td>Fri</td>\n      <td>No</td>\n      <td>18.420000</td>\n      <td>2.812500</td>\n      <td>2.250000</td>\n      <td>0.151650</td>\n    </tr>\n    <tr>\n      <th>1</th>\n      <td>Fri</td>\n      <td>Yes</td>\n      <td>16.813333</td>\n      <td>2.714000</td>\n      <td>2.066667</td>\n      <td>0.174783</td>\n    </tr>\n    <tr>\n      <th>2</th>\n      <td>Sat</td>\n      <td>No</td>\n      <td>19.661778</td>\n      <td>3.102889</td>\n      <td>2.555556</td>\n      <td>0.158048</td>\n    </tr>\n    <tr>\n      <th>3</th>\n      <td>Sat</td>\n      <td>Yes</td>\n      <td>21.276667</td>\n      <td>2.875476</td>\n      <td>2.476190</td>\n      <td>0.147906</td>\n    </tr>\n    <tr>\n      <th>4</th>\n      <td>Sun</td>\n      <td>No</td>\n      <td>20.506667</td>\n      <td>3.167895</td>\n      <td>2.929825</td>\n      <td>0.160113</td>\n    </tr>\n    <tr>\n      <th>5</th>\n      <td>Sun</td>\n      <td>Yes</td>\n      <td>24.120000</td>\n      <td>3.516842</td>\n      <td>2.578947</td>\n      <td>0.187250</td>\n    </tr>\n    <tr>\n      <th>6</th>\n      <td>Thur</td>\n      <td>No</td>\n      <td>17.113111</td>\n      <td>2.673778</td>\n      <td>2.488889</td>\n      <td>0.160298</td>\n    </tr>\n    <tr>\n      <th>7</th>\n      <td>Thur</td>\n      <td>Yes</td>\n      <td>19.190588</td>\n      <td>3.030000</td>\n      <td>2.352941</td>\n      <td>0.163863</td>\n    </tr>\n  </tbody>\n</table>\n</div>"
          },
          "metadata": {}
        }
      ],
      "execution_count": 66,
      "metadata": {
        "collapsed": false,
        "deletable": true,
        "editable": true,
        "gather": {
          "logged": 1606503176835
        }
      }
    },
    {
      "cell_type": "markdown",
      "source": [
        "## Apply: General split-apply-combine"
      ],
      "metadata": {
        "deletable": true,
        "editable": true
      }
    },
    {
      "cell_type": "code",
      "source": [
        "def top(df, n=5, column='tip_pct'):\n",
        "    return df.sort_values(by=column)[-n:]\n",
        "top(tips, n=6)"
      ],
      "outputs": [
        {
          "output_type": "execute_result",
          "execution_count": 67,
          "data": {
            "text/plain": "     total_bill   tip smoker  day    time  size   tip_pct\n109       14.31  4.00    Yes  Sat  Dinner     2  0.279525\n183       23.17  6.50    Yes  Sun  Dinner     4  0.280535\n232       11.61  3.39     No  Sat  Dinner     2  0.291990\n67         3.07  1.00    Yes  Sat  Dinner     1  0.325733\n178        9.60  4.00    Yes  Sun  Dinner     2  0.416667\n172        7.25  5.15    Yes  Sun  Dinner     2  0.710345",
            "text/html": "<div>\n<style scoped>\n    .dataframe tbody tr th:only-of-type {\n        vertical-align: middle;\n    }\n\n    .dataframe tbody tr th {\n        vertical-align: top;\n    }\n\n    .dataframe thead th {\n        text-align: right;\n    }\n</style>\n<table border=\"1\" class=\"dataframe\">\n  <thead>\n    <tr style=\"text-align: right;\">\n      <th></th>\n      <th>total_bill</th>\n      <th>tip</th>\n      <th>smoker</th>\n      <th>day</th>\n      <th>time</th>\n      <th>size</th>\n      <th>tip_pct</th>\n    </tr>\n  </thead>\n  <tbody>\n    <tr>\n      <th>109</th>\n      <td>14.31</td>\n      <td>4.00</td>\n      <td>Yes</td>\n      <td>Sat</td>\n      <td>Dinner</td>\n      <td>2</td>\n      <td>0.279525</td>\n    </tr>\n    <tr>\n      <th>183</th>\n      <td>23.17</td>\n      <td>6.50</td>\n      <td>Yes</td>\n      <td>Sun</td>\n      <td>Dinner</td>\n      <td>4</td>\n      <td>0.280535</td>\n    </tr>\n    <tr>\n      <th>232</th>\n      <td>11.61</td>\n      <td>3.39</td>\n      <td>No</td>\n      <td>Sat</td>\n      <td>Dinner</td>\n      <td>2</td>\n      <td>0.291990</td>\n    </tr>\n    <tr>\n      <th>67</th>\n      <td>3.07</td>\n      <td>1.00</td>\n      <td>Yes</td>\n      <td>Sat</td>\n      <td>Dinner</td>\n      <td>1</td>\n      <td>0.325733</td>\n    </tr>\n    <tr>\n      <th>178</th>\n      <td>9.60</td>\n      <td>4.00</td>\n      <td>Yes</td>\n      <td>Sun</td>\n      <td>Dinner</td>\n      <td>2</td>\n      <td>0.416667</td>\n    </tr>\n    <tr>\n      <th>172</th>\n      <td>7.25</td>\n      <td>5.15</td>\n      <td>Yes</td>\n      <td>Sun</td>\n      <td>Dinner</td>\n      <td>2</td>\n      <td>0.710345</td>\n    </tr>\n  </tbody>\n</table>\n</div>"
          },
          "metadata": {}
        }
      ],
      "execution_count": 67,
      "metadata": {
        "collapsed": false,
        "deletable": true,
        "editable": true,
        "gather": {
          "logged": 1606503214210
        }
      }
    },
    {
      "cell_type": "code",
      "source": [
        "tips.groupby('smoker').apply(top)"
      ],
      "outputs": [
        {
          "output_type": "execute_result",
          "execution_count": 68,
          "data": {
            "text/plain": "            total_bill   tip smoker   day    time  size   tip_pct\nsmoker                                                           \nNo     88        24.71  5.85     No  Thur   Lunch     2  0.236746\n       185       20.69  5.00     No   Sun  Dinner     5  0.241663\n       51        10.29  2.60     No   Sun  Dinner     2  0.252672\n       149        7.51  2.00     No  Thur   Lunch     2  0.266312\n       232       11.61  3.39     No   Sat  Dinner     2  0.291990\nYes    109       14.31  4.00    Yes   Sat  Dinner     2  0.279525\n       183       23.17  6.50    Yes   Sun  Dinner     4  0.280535\n       67         3.07  1.00    Yes   Sat  Dinner     1  0.325733\n       178        9.60  4.00    Yes   Sun  Dinner     2  0.416667\n       172        7.25  5.15    Yes   Sun  Dinner     2  0.710345",
            "text/html": "<div>\n<style scoped>\n    .dataframe tbody tr th:only-of-type {\n        vertical-align: middle;\n    }\n\n    .dataframe tbody tr th {\n        vertical-align: top;\n    }\n\n    .dataframe thead th {\n        text-align: right;\n    }\n</style>\n<table border=\"1\" class=\"dataframe\">\n  <thead>\n    <tr style=\"text-align: right;\">\n      <th></th>\n      <th></th>\n      <th>total_bill</th>\n      <th>tip</th>\n      <th>smoker</th>\n      <th>day</th>\n      <th>time</th>\n      <th>size</th>\n      <th>tip_pct</th>\n    </tr>\n    <tr>\n      <th>smoker</th>\n      <th></th>\n      <th></th>\n      <th></th>\n      <th></th>\n      <th></th>\n      <th></th>\n      <th></th>\n      <th></th>\n    </tr>\n  </thead>\n  <tbody>\n    <tr>\n      <th rowspan=\"5\" valign=\"top\">No</th>\n      <th>88</th>\n      <td>24.71</td>\n      <td>5.85</td>\n      <td>No</td>\n      <td>Thur</td>\n      <td>Lunch</td>\n      <td>2</td>\n      <td>0.236746</td>\n    </tr>\n    <tr>\n      <th>185</th>\n      <td>20.69</td>\n      <td>5.00</td>\n      <td>No</td>\n      <td>Sun</td>\n      <td>Dinner</td>\n      <td>5</td>\n      <td>0.241663</td>\n    </tr>\n    <tr>\n      <th>51</th>\n      <td>10.29</td>\n      <td>2.60</td>\n      <td>No</td>\n      <td>Sun</td>\n      <td>Dinner</td>\n      <td>2</td>\n      <td>0.252672</td>\n    </tr>\n    <tr>\n      <th>149</th>\n      <td>7.51</td>\n      <td>2.00</td>\n      <td>No</td>\n      <td>Thur</td>\n      <td>Lunch</td>\n      <td>2</td>\n      <td>0.266312</td>\n    </tr>\n    <tr>\n      <th>232</th>\n      <td>11.61</td>\n      <td>3.39</td>\n      <td>No</td>\n      <td>Sat</td>\n      <td>Dinner</td>\n      <td>2</td>\n      <td>0.291990</td>\n    </tr>\n    <tr>\n      <th rowspan=\"5\" valign=\"top\">Yes</th>\n      <th>109</th>\n      <td>14.31</td>\n      <td>4.00</td>\n      <td>Yes</td>\n      <td>Sat</td>\n      <td>Dinner</td>\n      <td>2</td>\n      <td>0.279525</td>\n    </tr>\n    <tr>\n      <th>183</th>\n      <td>23.17</td>\n      <td>6.50</td>\n      <td>Yes</td>\n      <td>Sun</td>\n      <td>Dinner</td>\n      <td>4</td>\n      <td>0.280535</td>\n    </tr>\n    <tr>\n      <th>67</th>\n      <td>3.07</td>\n      <td>1.00</td>\n      <td>Yes</td>\n      <td>Sat</td>\n      <td>Dinner</td>\n      <td>1</td>\n      <td>0.325733</td>\n    </tr>\n    <tr>\n      <th>178</th>\n      <td>9.60</td>\n      <td>4.00</td>\n      <td>Yes</td>\n      <td>Sun</td>\n      <td>Dinner</td>\n      <td>2</td>\n      <td>0.416667</td>\n    </tr>\n    <tr>\n      <th>172</th>\n      <td>7.25</td>\n      <td>5.15</td>\n      <td>Yes</td>\n      <td>Sun</td>\n      <td>Dinner</td>\n      <td>2</td>\n      <td>0.710345</td>\n    </tr>\n  </tbody>\n</table>\n</div>"
          },
          "metadata": {}
        }
      ],
      "execution_count": 68,
      "metadata": {
        "collapsed": false,
        "deletable": true,
        "editable": true,
        "gather": {
          "logged": 1606503242926
        }
      }
    },
    {
      "cell_type": "code",
      "source": [
        "tips.groupby(['smoker', 'day']).apply(top, n=1, column='total_bill')"
      ],
      "outputs": [
        {
          "output_type": "execute_result",
          "execution_count": 69,
          "data": {
            "text/plain": "                 total_bill    tip smoker   day    time  size   tip_pct\nsmoker day                                                             \nNo     Fri  94        22.75   3.25     No   Fri  Dinner     2  0.142857\n       Sat  212       48.33   9.00     No   Sat  Dinner     4  0.186220\n       Sun  156       48.17   5.00     No   Sun  Dinner     6  0.103799\n       Thur 142       41.19   5.00     No  Thur   Lunch     5  0.121389\nYes    Fri  95        40.17   4.73    Yes   Fri  Dinner     4  0.117750\n       Sat  170       50.81  10.00    Yes   Sat  Dinner     3  0.196812\n       Sun  182       45.35   3.50    Yes   Sun  Dinner     3  0.077178\n       Thur 197       43.11   5.00    Yes  Thur   Lunch     4  0.115982",
            "text/html": "<div>\n<style scoped>\n    .dataframe tbody tr th:only-of-type {\n        vertical-align: middle;\n    }\n\n    .dataframe tbody tr th {\n        vertical-align: top;\n    }\n\n    .dataframe thead th {\n        text-align: right;\n    }\n</style>\n<table border=\"1\" class=\"dataframe\">\n  <thead>\n    <tr style=\"text-align: right;\">\n      <th></th>\n      <th></th>\n      <th></th>\n      <th>total_bill</th>\n      <th>tip</th>\n      <th>smoker</th>\n      <th>day</th>\n      <th>time</th>\n      <th>size</th>\n      <th>tip_pct</th>\n    </tr>\n    <tr>\n      <th>smoker</th>\n      <th>day</th>\n      <th></th>\n      <th></th>\n      <th></th>\n      <th></th>\n      <th></th>\n      <th></th>\n      <th></th>\n      <th></th>\n    </tr>\n  </thead>\n  <tbody>\n    <tr>\n      <th rowspan=\"4\" valign=\"top\">No</th>\n      <th>Fri</th>\n      <th>94</th>\n      <td>22.75</td>\n      <td>3.25</td>\n      <td>No</td>\n      <td>Fri</td>\n      <td>Dinner</td>\n      <td>2</td>\n      <td>0.142857</td>\n    </tr>\n    <tr>\n      <th>Sat</th>\n      <th>212</th>\n      <td>48.33</td>\n      <td>9.00</td>\n      <td>No</td>\n      <td>Sat</td>\n      <td>Dinner</td>\n      <td>4</td>\n      <td>0.186220</td>\n    </tr>\n    <tr>\n      <th>Sun</th>\n      <th>156</th>\n      <td>48.17</td>\n      <td>5.00</td>\n      <td>No</td>\n      <td>Sun</td>\n      <td>Dinner</td>\n      <td>6</td>\n      <td>0.103799</td>\n    </tr>\n    <tr>\n      <th>Thur</th>\n      <th>142</th>\n      <td>41.19</td>\n      <td>5.00</td>\n      <td>No</td>\n      <td>Thur</td>\n      <td>Lunch</td>\n      <td>5</td>\n      <td>0.121389</td>\n    </tr>\n    <tr>\n      <th rowspan=\"4\" valign=\"top\">Yes</th>\n      <th>Fri</th>\n      <th>95</th>\n      <td>40.17</td>\n      <td>4.73</td>\n      <td>Yes</td>\n      <td>Fri</td>\n      <td>Dinner</td>\n      <td>4</td>\n      <td>0.117750</td>\n    </tr>\n    <tr>\n      <th>Sat</th>\n      <th>170</th>\n      <td>50.81</td>\n      <td>10.00</td>\n      <td>Yes</td>\n      <td>Sat</td>\n      <td>Dinner</td>\n      <td>3</td>\n      <td>0.196812</td>\n    </tr>\n    <tr>\n      <th>Sun</th>\n      <th>182</th>\n      <td>45.35</td>\n      <td>3.50</td>\n      <td>Yes</td>\n      <td>Sun</td>\n      <td>Dinner</td>\n      <td>3</td>\n      <td>0.077178</td>\n    </tr>\n    <tr>\n      <th>Thur</th>\n      <th>197</th>\n      <td>43.11</td>\n      <td>5.00</td>\n      <td>Yes</td>\n      <td>Thur</td>\n      <td>Lunch</td>\n      <td>4</td>\n      <td>0.115982</td>\n    </tr>\n  </tbody>\n</table>\n</div>"
          },
          "metadata": {}
        }
      ],
      "execution_count": 69,
      "metadata": {
        "collapsed": false,
        "deletable": true,
        "editable": true,
        "gather": {
          "logged": 1606503266487
        }
      }
    },
    {
      "cell_type": "code",
      "source": [
        "result = tips.groupby('smoker')['tip_pct'].describe()\n",
        "result"
      ],
      "outputs": [
        {
          "output_type": "execute_result",
          "execution_count": 72,
          "data": {
            "text/plain": "        count      mean       std       min       25%       50%       75%  \\\nsmoker                                                                      \nNo      151.0  0.159328  0.039910  0.056797  0.136906  0.155625  0.185014   \nYes      93.0  0.163196  0.085119  0.035638  0.106771  0.153846  0.195059   \n\n             max  \nsmoker            \nNo      0.291990  \nYes     0.710345  ",
            "text/html": "<div>\n<style scoped>\n    .dataframe tbody tr th:only-of-type {\n        vertical-align: middle;\n    }\n\n    .dataframe tbody tr th {\n        vertical-align: top;\n    }\n\n    .dataframe thead th {\n        text-align: right;\n    }\n</style>\n<table border=\"1\" class=\"dataframe\">\n  <thead>\n    <tr style=\"text-align: right;\">\n      <th></th>\n      <th>count</th>\n      <th>mean</th>\n      <th>std</th>\n      <th>min</th>\n      <th>25%</th>\n      <th>50%</th>\n      <th>75%</th>\n      <th>max</th>\n    </tr>\n    <tr>\n      <th>smoker</th>\n      <th></th>\n      <th></th>\n      <th></th>\n      <th></th>\n      <th></th>\n      <th></th>\n      <th></th>\n      <th></th>\n    </tr>\n  </thead>\n  <tbody>\n    <tr>\n      <th>No</th>\n      <td>151.0</td>\n      <td>0.159328</td>\n      <td>0.039910</td>\n      <td>0.056797</td>\n      <td>0.136906</td>\n      <td>0.155625</td>\n      <td>0.185014</td>\n      <td>0.291990</td>\n    </tr>\n    <tr>\n      <th>Yes</th>\n      <td>93.0</td>\n      <td>0.163196</td>\n      <td>0.085119</td>\n      <td>0.035638</td>\n      <td>0.106771</td>\n      <td>0.153846</td>\n      <td>0.195059</td>\n      <td>0.710345</td>\n    </tr>\n  </tbody>\n</table>\n</div>"
          },
          "metadata": {}
        }
      ],
      "execution_count": 72,
      "metadata": {
        "collapsed": false,
        "deletable": true,
        "editable": true,
        "gather": {
          "logged": 1606503307223
        }
      }
    },
    {
      "cell_type": "code",
      "source": [
        "result.unstack('smoker')"
      ],
      "outputs": [
        {
          "output_type": "execute_result",
          "execution_count": 75,
          "data": {
            "text/plain": "       smoker\ncount  No        151.000000\n       Yes        93.000000\nmean   No          0.159328\n       Yes         0.163196\nstd    No          0.039910\n       Yes         0.085119\nmin    No          0.056797\n       Yes         0.035638\n25%    No          0.136906\n       Yes         0.106771\n50%    No          0.155625\n       Yes         0.153846\n75%    No          0.185014\n       Yes         0.195059\nmax    No          0.291990\n       Yes         0.710345\ndtype: float64"
          },
          "metadata": {}
        }
      ],
      "execution_count": 75,
      "metadata": {
        "collapsed": true,
        "jupyter": {
          "source_hidden": false,
          "outputs_hidden": false
        },
        "nteract": {
          "transient": {
            "deleting": false
          }
        },
        "gather": {
          "logged": 1606503344748
        }
      }
    },
    {
      "cell_type": "code",
      "source": [
        "f = lambda x: x.describe()\n",
        "grouped.apply(f)"
      ],
      "outputs": [
        {
          "output_type": "execute_result",
          "execution_count": 76,
          "data": {
            "text/plain": "                   total_bill       tip  size   tip_pct\nday  smoker                                            \nFri  No     count    4.000000  4.000000  4.00  4.000000\n            mean    18.420000  2.812500  2.25  0.151650\n            std      5.059282  0.898494  0.50  0.028123\n            min     12.460000  1.500000  2.00  0.120385\n            25%     15.100000  2.625000  2.00  0.137239\n...                       ...       ...   ...       ...\nThur Yes    min     10.340000  2.000000  2.00  0.090014\n            25%     13.510000  2.000000  2.00  0.148038\n            50%     16.470000  2.560000  2.00  0.153846\n            75%     19.810000  4.000000  2.00  0.194837\n            max     43.110000  5.000000  4.00  0.241255\n\n[64 rows x 4 columns]",
            "text/html": "<div>\n<style scoped>\n    .dataframe tbody tr th:only-of-type {\n        vertical-align: middle;\n    }\n\n    .dataframe tbody tr th {\n        vertical-align: top;\n    }\n\n    .dataframe thead th {\n        text-align: right;\n    }\n</style>\n<table border=\"1\" class=\"dataframe\">\n  <thead>\n    <tr style=\"text-align: right;\">\n      <th></th>\n      <th></th>\n      <th></th>\n      <th>total_bill</th>\n      <th>tip</th>\n      <th>size</th>\n      <th>tip_pct</th>\n    </tr>\n    <tr>\n      <th>day</th>\n      <th>smoker</th>\n      <th></th>\n      <th></th>\n      <th></th>\n      <th></th>\n      <th></th>\n    </tr>\n  </thead>\n  <tbody>\n    <tr>\n      <th rowspan=\"5\" valign=\"top\">Fri</th>\n      <th rowspan=\"5\" valign=\"top\">No</th>\n      <th>count</th>\n      <td>4.000000</td>\n      <td>4.000000</td>\n      <td>4.00</td>\n      <td>4.000000</td>\n    </tr>\n    <tr>\n      <th>mean</th>\n      <td>18.420000</td>\n      <td>2.812500</td>\n      <td>2.25</td>\n      <td>0.151650</td>\n    </tr>\n    <tr>\n      <th>std</th>\n      <td>5.059282</td>\n      <td>0.898494</td>\n      <td>0.50</td>\n      <td>0.028123</td>\n    </tr>\n    <tr>\n      <th>min</th>\n      <td>12.460000</td>\n      <td>1.500000</td>\n      <td>2.00</td>\n      <td>0.120385</td>\n    </tr>\n    <tr>\n      <th>25%</th>\n      <td>15.100000</td>\n      <td>2.625000</td>\n      <td>2.00</td>\n      <td>0.137239</td>\n    </tr>\n    <tr>\n      <th>...</th>\n      <th>...</th>\n      <th>...</th>\n      <td>...</td>\n      <td>...</td>\n      <td>...</td>\n      <td>...</td>\n    </tr>\n    <tr>\n      <th rowspan=\"5\" valign=\"top\">Thur</th>\n      <th rowspan=\"5\" valign=\"top\">Yes</th>\n      <th>min</th>\n      <td>10.340000</td>\n      <td>2.000000</td>\n      <td>2.00</td>\n      <td>0.090014</td>\n    </tr>\n    <tr>\n      <th>25%</th>\n      <td>13.510000</td>\n      <td>2.000000</td>\n      <td>2.00</td>\n      <td>0.148038</td>\n    </tr>\n    <tr>\n      <th>50%</th>\n      <td>16.470000</td>\n      <td>2.560000</td>\n      <td>2.00</td>\n      <td>0.153846</td>\n    </tr>\n    <tr>\n      <th>75%</th>\n      <td>19.810000</td>\n      <td>4.000000</td>\n      <td>2.00</td>\n      <td>0.194837</td>\n    </tr>\n    <tr>\n      <th>max</th>\n      <td>43.110000</td>\n      <td>5.000000</td>\n      <td>4.00</td>\n      <td>0.241255</td>\n    </tr>\n  </tbody>\n</table>\n<p>64 rows × 4 columns</p>\n</div>"
          },
          "metadata": {}
        }
      ],
      "execution_count": 76,
      "metadata": {
        "collapsed": true,
        "jupyter": {
          "source_hidden": false,
          "outputs_hidden": false
        },
        "nteract": {
          "transient": {
            "deleting": false
          }
        },
        "gather": {
          "logged": 1606503354581
        }
      }
    },
    {
      "cell_type": "markdown",
      "source": [
        "### Suppressing the Group Keys"
      ],
      "metadata": {
        "deletable": true,
        "editable": true
      }
    },
    {
      "cell_type": "code",
      "source": [
        "tips.groupby('smoker', group_keys=False).apply(top)"
      ],
      "outputs": [
        {
          "output_type": "execute_result",
          "execution_count": 79,
          "data": {
            "text/plain": "     total_bill   tip smoker   day    time  size   tip_pct\n88        24.71  5.85     No  Thur   Lunch     2  0.236746\n185       20.69  5.00     No   Sun  Dinner     5  0.241663\n51        10.29  2.60     No   Sun  Dinner     2  0.252672\n149        7.51  2.00     No  Thur   Lunch     2  0.266312\n232       11.61  3.39     No   Sat  Dinner     2  0.291990\n109       14.31  4.00    Yes   Sat  Dinner     2  0.279525\n183       23.17  6.50    Yes   Sun  Dinner     4  0.280535\n67         3.07  1.00    Yes   Sat  Dinner     1  0.325733\n178        9.60  4.00    Yes   Sun  Dinner     2  0.416667\n172        7.25  5.15    Yes   Sun  Dinner     2  0.710345",
            "text/html": "<div>\n<style scoped>\n    .dataframe tbody tr th:only-of-type {\n        vertical-align: middle;\n    }\n\n    .dataframe tbody tr th {\n        vertical-align: top;\n    }\n\n    .dataframe thead th {\n        text-align: right;\n    }\n</style>\n<table border=\"1\" class=\"dataframe\">\n  <thead>\n    <tr style=\"text-align: right;\">\n      <th></th>\n      <th>total_bill</th>\n      <th>tip</th>\n      <th>smoker</th>\n      <th>day</th>\n      <th>time</th>\n      <th>size</th>\n      <th>tip_pct</th>\n    </tr>\n  </thead>\n  <tbody>\n    <tr>\n      <th>88</th>\n      <td>24.71</td>\n      <td>5.85</td>\n      <td>No</td>\n      <td>Thur</td>\n      <td>Lunch</td>\n      <td>2</td>\n      <td>0.236746</td>\n    </tr>\n    <tr>\n      <th>185</th>\n      <td>20.69</td>\n      <td>5.00</td>\n      <td>No</td>\n      <td>Sun</td>\n      <td>Dinner</td>\n      <td>5</td>\n      <td>0.241663</td>\n    </tr>\n    <tr>\n      <th>51</th>\n      <td>10.29</td>\n      <td>2.60</td>\n      <td>No</td>\n      <td>Sun</td>\n      <td>Dinner</td>\n      <td>2</td>\n      <td>0.252672</td>\n    </tr>\n    <tr>\n      <th>149</th>\n      <td>7.51</td>\n      <td>2.00</td>\n      <td>No</td>\n      <td>Thur</td>\n      <td>Lunch</td>\n      <td>2</td>\n      <td>0.266312</td>\n    </tr>\n    <tr>\n      <th>232</th>\n      <td>11.61</td>\n      <td>3.39</td>\n      <td>No</td>\n      <td>Sat</td>\n      <td>Dinner</td>\n      <td>2</td>\n      <td>0.291990</td>\n    </tr>\n    <tr>\n      <th>109</th>\n      <td>14.31</td>\n      <td>4.00</td>\n      <td>Yes</td>\n      <td>Sat</td>\n      <td>Dinner</td>\n      <td>2</td>\n      <td>0.279525</td>\n    </tr>\n    <tr>\n      <th>183</th>\n      <td>23.17</td>\n      <td>6.50</td>\n      <td>Yes</td>\n      <td>Sun</td>\n      <td>Dinner</td>\n      <td>4</td>\n      <td>0.280535</td>\n    </tr>\n    <tr>\n      <th>67</th>\n      <td>3.07</td>\n      <td>1.00</td>\n      <td>Yes</td>\n      <td>Sat</td>\n      <td>Dinner</td>\n      <td>1</td>\n      <td>0.325733</td>\n    </tr>\n    <tr>\n      <th>178</th>\n      <td>9.60</td>\n      <td>4.00</td>\n      <td>Yes</td>\n      <td>Sun</td>\n      <td>Dinner</td>\n      <td>2</td>\n      <td>0.416667</td>\n    </tr>\n    <tr>\n      <th>172</th>\n      <td>7.25</td>\n      <td>5.15</td>\n      <td>Yes</td>\n      <td>Sun</td>\n      <td>Dinner</td>\n      <td>2</td>\n      <td>0.710345</td>\n    </tr>\n  </tbody>\n</table>\n</div>"
          },
          "metadata": {}
        }
      ],
      "execution_count": 79,
      "metadata": {
        "collapsed": false,
        "deletable": true,
        "editable": true,
        "gather": {
          "logged": 1606503434619
        }
      }
    },
    {
      "cell_type": "markdown",
      "source": [
        "### Quantile and Bucket Analysis"
      ],
      "metadata": {
        "deletable": true,
        "editable": true
      }
    },
    {
      "cell_type": "code",
      "source": [
        "frame = pd.DataFrame({'data1': np.random.randn(1000),\n",
        "                      'data2': np.random.randn(1000)})\n",
        "quartiles = pd.cut(frame.data1, 4)\n",
        "quartiles[:10]"
      ],
      "outputs": [
        {
          "output_type": "execute_result",
          "execution_count": 80,
          "data": {
            "text/plain": "0     (-1.23, 0.489]\n1    (-2.956, -1.23]\n2     (-1.23, 0.489]\n3     (0.489, 2.208]\n4     (-1.23, 0.489]\n5     (0.489, 2.208]\n6     (-1.23, 0.489]\n7     (-1.23, 0.489]\n8     (0.489, 2.208]\n9     (0.489, 2.208]\nName: data1, dtype: category\nCategories (4, interval[float64]): [(-2.956, -1.23] < (-1.23, 0.489] < (0.489, 2.208] < (2.208, 3.928]]"
          },
          "metadata": {}
        }
      ],
      "execution_count": 80,
      "metadata": {
        "collapsed": false,
        "deletable": true,
        "editable": true,
        "gather": {
          "logged": 1606503455493
        }
      }
    },
    {
      "cell_type": "code",
      "source": [
        "\n",
        "def get_stats(group):\n",
        "    return {'min': group.min(), 'max': group.max(),\n",
        "            'count': group.count(), 'mean': group.mean()}\n",
        "grouped = frame.data2.groupby(quartiles)\n",
        "grouped.apply(get_stats).unstack()"
      ],
      "outputs": [
        {
          "output_type": "execute_result",
          "execution_count": 81,
          "data": {
            "text/plain": "                      min       max  count      mean\ndata1                                               \n(-2.956, -1.23] -3.399312  1.670835   95.0 -0.039521\n(-1.23, 0.489]  -2.989741  3.260383  598.0 -0.002051\n(0.489, 2.208]  -3.745356  2.954439  297.0  0.081822\n(2.208, 3.928]  -1.929776  1.765640   10.0  0.024750",
            "text/html": "<div>\n<style scoped>\n    .dataframe tbody tr th:only-of-type {\n        vertical-align: middle;\n    }\n\n    .dataframe tbody tr th {\n        vertical-align: top;\n    }\n\n    .dataframe thead th {\n        text-align: right;\n    }\n</style>\n<table border=\"1\" class=\"dataframe\">\n  <thead>\n    <tr style=\"text-align: right;\">\n      <th></th>\n      <th>min</th>\n      <th>max</th>\n      <th>count</th>\n      <th>mean</th>\n    </tr>\n    <tr>\n      <th>data1</th>\n      <th></th>\n      <th></th>\n      <th></th>\n      <th></th>\n    </tr>\n  </thead>\n  <tbody>\n    <tr>\n      <th>(-2.956, -1.23]</th>\n      <td>-3.399312</td>\n      <td>1.670835</td>\n      <td>95.0</td>\n      <td>-0.039521</td>\n    </tr>\n    <tr>\n      <th>(-1.23, 0.489]</th>\n      <td>-2.989741</td>\n      <td>3.260383</td>\n      <td>598.0</td>\n      <td>-0.002051</td>\n    </tr>\n    <tr>\n      <th>(0.489, 2.208]</th>\n      <td>-3.745356</td>\n      <td>2.954439</td>\n      <td>297.0</td>\n      <td>0.081822</td>\n    </tr>\n    <tr>\n      <th>(2.208, 3.928]</th>\n      <td>-1.929776</td>\n      <td>1.765640</td>\n      <td>10.0</td>\n      <td>0.024750</td>\n    </tr>\n  </tbody>\n</table>\n</div>"
          },
          "metadata": {}
        }
      ],
      "execution_count": 81,
      "metadata": {
        "collapsed": false,
        "deletable": true,
        "editable": true,
        "gather": {
          "logged": 1606504016748
        }
      }
    },
    {
      "cell_type": "code",
      "source": [
        "# Return quantile numbers\n",
        "grouping = pd.qcut(frame.data1, 10, labels=False)\n",
        "grouped = frame.data2.groupby(grouping)\n",
        "grouped.apply(get_stats).unstack()"
      ],
      "outputs": [
        {
          "output_type": "execute_result",
          "execution_count": 82,
          "data": {
            "text/plain": "            min       max  count      mean\ndata1                                     \n0     -3.399312  1.670835  100.0 -0.049902\n1     -1.950098  2.628441  100.0  0.030989\n2     -2.925113  2.527939  100.0 -0.067179\n3     -2.315555  3.260383  100.0  0.065713\n4     -2.047939  2.074345  100.0 -0.111653\n5     -2.989741  2.184810  100.0  0.052130\n6     -2.223506  2.458842  100.0 -0.021489\n7     -3.056990  2.954439  100.0 -0.026459\n8     -3.745356  2.735527  100.0  0.103406\n9     -2.064111  2.377020  100.0  0.220122",
            "text/html": "<div>\n<style scoped>\n    .dataframe tbody tr th:only-of-type {\n        vertical-align: middle;\n    }\n\n    .dataframe tbody tr th {\n        vertical-align: top;\n    }\n\n    .dataframe thead th {\n        text-align: right;\n    }\n</style>\n<table border=\"1\" class=\"dataframe\">\n  <thead>\n    <tr style=\"text-align: right;\">\n      <th></th>\n      <th>min</th>\n      <th>max</th>\n      <th>count</th>\n      <th>mean</th>\n    </tr>\n    <tr>\n      <th>data1</th>\n      <th></th>\n      <th></th>\n      <th></th>\n      <th></th>\n    </tr>\n  </thead>\n  <tbody>\n    <tr>\n      <th>0</th>\n      <td>-3.399312</td>\n      <td>1.670835</td>\n      <td>100.0</td>\n      <td>-0.049902</td>\n    </tr>\n    <tr>\n      <th>1</th>\n      <td>-1.950098</td>\n      <td>2.628441</td>\n      <td>100.0</td>\n      <td>0.030989</td>\n    </tr>\n    <tr>\n      <th>2</th>\n      <td>-2.925113</td>\n      <td>2.527939</td>\n      <td>100.0</td>\n      <td>-0.067179</td>\n    </tr>\n    <tr>\n      <th>3</th>\n      <td>-2.315555</td>\n      <td>3.260383</td>\n      <td>100.0</td>\n      <td>0.065713</td>\n    </tr>\n    <tr>\n      <th>4</th>\n      <td>-2.047939</td>\n      <td>2.074345</td>\n      <td>100.0</td>\n      <td>-0.111653</td>\n    </tr>\n    <tr>\n      <th>5</th>\n      <td>-2.989741</td>\n      <td>2.184810</td>\n      <td>100.0</td>\n      <td>0.052130</td>\n    </tr>\n    <tr>\n      <th>6</th>\n      <td>-2.223506</td>\n      <td>2.458842</td>\n      <td>100.0</td>\n      <td>-0.021489</td>\n    </tr>\n    <tr>\n      <th>7</th>\n      <td>-3.056990</td>\n      <td>2.954439</td>\n      <td>100.0</td>\n      <td>-0.026459</td>\n    </tr>\n    <tr>\n      <th>8</th>\n      <td>-3.745356</td>\n      <td>2.735527</td>\n      <td>100.0</td>\n      <td>0.103406</td>\n    </tr>\n    <tr>\n      <th>9</th>\n      <td>-2.064111</td>\n      <td>2.377020</td>\n      <td>100.0</td>\n      <td>0.220122</td>\n    </tr>\n  </tbody>\n</table>\n</div>"
          },
          "metadata": {}
        }
      ],
      "execution_count": 82,
      "metadata": {
        "collapsed": false,
        "deletable": true,
        "editable": true,
        "gather": {
          "logged": 1606504066978
        }
      }
    },
    {
      "cell_type": "markdown",
      "source": [
        "### Example: Filling Missing Values with Group-Specific       Values"
      ],
      "metadata": {
        "deletable": true,
        "editable": true
      }
    },
    {
      "cell_type": "code",
      "source": [
        "s = pd.Series(np.random.randn(6))\n",
        "s[::2] = np.nan\n",
        "s\n"
      ],
      "outputs": [
        {
          "output_type": "execute_result",
          "execution_count": 83,
          "data": {
            "text/plain": "0         NaN\n1   -0.125921\n2         NaN\n3   -0.884475\n4         NaN\n5    0.227290\ndtype: float64"
          },
          "metadata": {}
        }
      ],
      "execution_count": 83,
      "metadata": {
        "collapsed": false,
        "deletable": true,
        "editable": true,
        "gather": {
          "logged": 1606504127774
        }
      }
    },
    {
      "cell_type": "code",
      "source": [
        "s.fillna(s.mean())"
      ],
      "outputs": [
        {
          "output_type": "execute_result",
          "execution_count": 84,
          "data": {
            "text/plain": "0   -0.261035\n1   -0.125921\n2   -0.261035\n3   -0.884475\n4   -0.261035\n5    0.227290\ndtype: float64"
          },
          "metadata": {}
        }
      ],
      "execution_count": 84,
      "metadata": {
        "collapsed": true,
        "jupyter": {
          "source_hidden": false,
          "outputs_hidden": false
        },
        "nteract": {
          "transient": {
            "deleting": false
          }
        },
        "gather": {
          "logged": 1606504131474
        }
      }
    },
    {
      "cell_type": "code",
      "source": [
        "states = ['Ohio', 'New York', 'Vermont', 'Florida',\n",
        "          'Oregon', 'Nevada', 'California', 'Idaho']\n",
        "group_key = ['East'] * 4 + ['West'] * 4\n",
        "group_key"
      ],
      "outputs": [
        {
          "output_type": "execute_result",
          "execution_count": 88,
          "data": {
            "text/plain": "['East', 'East', 'East', 'East', 'West', 'West', 'West', 'West']"
          },
          "metadata": {}
        }
      ],
      "execution_count": 88,
      "metadata": {
        "collapsed": false,
        "deletable": true,
        "editable": true,
        "gather": {
          "logged": 1606504217411
        }
      }
    },
    {
      "cell_type": "code",
      "source": [
        "data = pd.Series(np.random.randn(8), index=states)\r\n",
        "data"
      ],
      "outputs": [
        {
          "output_type": "execute_result",
          "execution_count": 89,
          "data": {
            "text/plain": "Ohio          1.561587\nNew York      0.406510\nVermont       0.359244\nFlorida      -0.614436\nOregon       -1.691656\nNevada        0.758701\nCalifornia   -0.682273\nIdaho        -1.038534\ndtype: float64"
          },
          "metadata": {}
        }
      ],
      "execution_count": 89,
      "metadata": {
        "collapsed": true,
        "jupyter": {
          "source_hidden": false,
          "outputs_hidden": false
        },
        "nteract": {
          "transient": {
            "deleting": false
          }
        },
        "gather": {
          "logged": 1606504221047
        }
      }
    },
    {
      "cell_type": "code",
      "source": [
        "data[['Vermont', 'Nevada', 'Idaho']] = np.nan\n",
        "data"
      ],
      "outputs": [
        {
          "output_type": "execute_result",
          "execution_count": 90,
          "data": {
            "text/plain": "Ohio          1.561587\nNew York      0.406510\nVermont            NaN\nFlorida      -0.614436\nOregon       -1.691656\nNevada             NaN\nCalifornia   -0.682273\nIdaho              NaN\ndtype: float64"
          },
          "metadata": {}
        }
      ],
      "execution_count": 90,
      "metadata": {
        "collapsed": false,
        "deletable": true,
        "editable": true,
        "gather": {
          "logged": 1606504244752
        }
      }
    },
    {
      "cell_type": "code",
      "source": [
        "data.groupby(group_key).mean()"
      ],
      "outputs": [
        {
          "output_type": "execute_result",
          "execution_count": 91,
          "data": {
            "text/plain": "East    0.451220\nWest   -1.186964\ndtype: float64"
          },
          "metadata": {}
        }
      ],
      "execution_count": 91,
      "metadata": {
        "collapsed": true,
        "jupyter": {
          "source_hidden": false,
          "outputs_hidden": false
        },
        "nteract": {
          "transient": {
            "deleting": false
          }
        },
        "gather": {
          "logged": 1606504252151
        }
      }
    },
    {
      "cell_type": "code",
      "source": [
        "fill_mean = lambda g: g.fillna(g.mean())\n",
        "data.groupby(group_key).apply(fill_mean)"
      ],
      "outputs": [
        {
          "output_type": "execute_result",
          "execution_count": 92,
          "data": {
            "text/plain": "Ohio          1.561587\nNew York      0.406510\nVermont       0.451220\nFlorida      -0.614436\nOregon       -1.691656\nNevada       -1.186964\nCalifornia   -0.682273\nIdaho        -1.186964\ndtype: float64"
          },
          "metadata": {}
        }
      ],
      "execution_count": 92,
      "metadata": {
        "collapsed": false,
        "deletable": true,
        "editable": true,
        "gather": {
          "logged": 1606504357681
        }
      }
    },
    {
      "cell_type": "markdown",
      "source": [
        "### Example: Random Sampling and Permutation"
      ],
      "metadata": {
        "deletable": true,
        "editable": true
      }
    },
    {
      "cell_type": "code",
      "source": [
        "# Hearts, Spades, Clubs, Diamonds\n",
        "# Copas, Espadas, Paus, Ouros\n",
        "suits = ['H', 'S', 'C', 'D']\n",
        "card_val = (list(range(1, 11)) + [10] * 3) * 4\n",
        "base_names = ['A'] + list(range(2, 11)) + ['J', 'K', 'Q']\n",
        "cards = []\n",
        "for suit in ['H', 'S', 'C', 'D']:\n",
        "    cards.extend(str(num) + suit for num in base_names)\n",
        "\n",
        "deck = pd.Series(card_val, index=cards)"
      ],
      "outputs": [],
      "execution_count": 93,
      "metadata": {
        "collapsed": false,
        "deletable": true,
        "editable": true,
        "gather": {
          "logged": 1606504526244
        }
      }
    },
    {
      "cell_type": "code",
      "source": [
        "deck[:13]"
      ],
      "outputs": [
        {
          "output_type": "execute_result",
          "execution_count": 94,
          "data": {
            "text/plain": "AH      1\n2H      2\n3H      3\n4H      4\n5H      5\n6H      6\n7H      7\n8H      8\n9H      9\n10H    10\nJH     10\nKH     10\nQH     10\ndtype: int64"
          },
          "metadata": {}
        }
      ],
      "execution_count": 94,
      "metadata": {
        "collapsed": false,
        "deletable": true,
        "editable": true,
        "gather": {
          "logged": 1606504528376
        }
      }
    },
    {
      "cell_type": "code",
      "source": [
        "#Com base no que dissemos antes, sortear uma \n",
        "#mão de cinco cartas do baralho poderia ser escrito da seguinte maneira:\n",
        "def draw(deck, n=5):\n",
        "    return deck.sample(n)\n",
        "draw(deck)"
      ],
      "outputs": [
        {
          "output_type": "execute_result",
          "execution_count": 96,
          "data": {
            "text/plain": "5H     5\nJS    10\n2D     2\n3H     3\n7H     7\ndtype: int64"
          },
          "metadata": {}
        }
      ],
      "execution_count": 96,
      "metadata": {
        "collapsed": false,
        "deletable": true,
        "editable": true,
        "gather": {
          "logged": 1606504660288
        }
      }
    },
    {
      "cell_type": "code",
      "source": [
        "#Suponha que quiséssemos duas cartas aleatórias de cada naipe. \n",
        "#Como o naipe é o último caractere do nome de cada carta, \n",
        "#podemos fazer agrupamentos com base nisso e usar apply:\n",
        "get_suit = lambda card: card[-1] # last letter is suit\n",
        "deck.groupby(get_suit).apply(draw, n=2)"
      ],
      "outputs": [
        {
          "output_type": "execute_result",
          "execution_count": 97,
          "data": {
            "text/plain": "C  JC     10\n   6C      6\nD  QD     10\n   7D      7\nH  10H    10\n   8H      8\nS  QS     10\n   2S      2\ndtype: int64"
          },
          "metadata": {}
        }
      ],
      "execution_count": 97,
      "metadata": {
        "collapsed": false,
        "deletable": true,
        "editable": true,
        "gather": {
          "logged": 1606504674557
        }
      }
    },
    {
      "cell_type": "markdown",
      "source": [
        "## Tabelas pivôs e tabulação cruzada"
      ],
      "metadata": {
        "deletable": true,
        "editable": true
      }
    },
    {
      "cell_type": "code",
      "source": [
        "#Uma tabela pivô é uma ferramenta de sintetização de dados \r\n",
        "#frequentemente encontrada em programas de planilhas e em \r\n",
        "#outros softwares de análise de dados. Ela agrega uma \r\n",
        "#tabela de dados de acordo com uma ou mais chaves, \r\n",
        "#organizando os dados em um retângulo com algumas das \r\n",
        "#chaves de grupo nas linhas e outras nas colunas. As \r\n",
        "#tabelas pivôs em Python com pandas são possíveis por meio \r\n",
        "#do recurso groupby descrito neste capítulo, em conjunto \r\n",
        "#com operações de reformatação que utilizam indexação \r\n",
        "#hierárquica. O DataFrame tem um método pivot_table, e há \r\n",
        "#também uma função pandas.pivot_table. Além de oferecer \r\n",
        "#uma interface conveniente para groupby, pivot_table \r\n",
        "#pode somar totais parciais, também conhecidos como margens\r\n",
        "\r\n",
        "\r\n",
        "tips"
      ],
      "outputs": [
        {
          "output_type": "execute_result",
          "execution_count": 101,
          "data": {
            "text/plain": "     total_bill   tip smoker   day    time  size   tip_pct\n0         16.99  1.01     No   Sun  Dinner     2  0.059447\n1         10.34  1.66     No   Sun  Dinner     3  0.160542\n2         21.01  3.50     No   Sun  Dinner     3  0.166587\n3         23.68  3.31     No   Sun  Dinner     2  0.139780\n4         24.59  3.61     No   Sun  Dinner     4  0.146808\n..          ...   ...    ...   ...     ...   ...       ...\n239       29.03  5.92     No   Sat  Dinner     3  0.203927\n240       27.18  2.00    Yes   Sat  Dinner     2  0.073584\n241       22.67  2.00    Yes   Sat  Dinner     2  0.088222\n242       17.82  1.75     No   Sat  Dinner     2  0.098204\n243       18.78  3.00     No  Thur  Dinner     2  0.159744\n\n[244 rows x 7 columns]",
            "text/html": "<div>\n<style scoped>\n    .dataframe tbody tr th:only-of-type {\n        vertical-align: middle;\n    }\n\n    .dataframe tbody tr th {\n        vertical-align: top;\n    }\n\n    .dataframe thead th {\n        text-align: right;\n    }\n</style>\n<table border=\"1\" class=\"dataframe\">\n  <thead>\n    <tr style=\"text-align: right;\">\n      <th></th>\n      <th>total_bill</th>\n      <th>tip</th>\n      <th>smoker</th>\n      <th>day</th>\n      <th>time</th>\n      <th>size</th>\n      <th>tip_pct</th>\n    </tr>\n  </thead>\n  <tbody>\n    <tr>\n      <th>0</th>\n      <td>16.99</td>\n      <td>1.01</td>\n      <td>No</td>\n      <td>Sun</td>\n      <td>Dinner</td>\n      <td>2</td>\n      <td>0.059447</td>\n    </tr>\n    <tr>\n      <th>1</th>\n      <td>10.34</td>\n      <td>1.66</td>\n      <td>No</td>\n      <td>Sun</td>\n      <td>Dinner</td>\n      <td>3</td>\n      <td>0.160542</td>\n    </tr>\n    <tr>\n      <th>2</th>\n      <td>21.01</td>\n      <td>3.50</td>\n      <td>No</td>\n      <td>Sun</td>\n      <td>Dinner</td>\n      <td>3</td>\n      <td>0.166587</td>\n    </tr>\n    <tr>\n      <th>3</th>\n      <td>23.68</td>\n      <td>3.31</td>\n      <td>No</td>\n      <td>Sun</td>\n      <td>Dinner</td>\n      <td>2</td>\n      <td>0.139780</td>\n    </tr>\n    <tr>\n      <th>4</th>\n      <td>24.59</td>\n      <td>3.61</td>\n      <td>No</td>\n      <td>Sun</td>\n      <td>Dinner</td>\n      <td>4</td>\n      <td>0.146808</td>\n    </tr>\n    <tr>\n      <th>...</th>\n      <td>...</td>\n      <td>...</td>\n      <td>...</td>\n      <td>...</td>\n      <td>...</td>\n      <td>...</td>\n      <td>...</td>\n    </tr>\n    <tr>\n      <th>239</th>\n      <td>29.03</td>\n      <td>5.92</td>\n      <td>No</td>\n      <td>Sat</td>\n      <td>Dinner</td>\n      <td>3</td>\n      <td>0.203927</td>\n    </tr>\n    <tr>\n      <th>240</th>\n      <td>27.18</td>\n      <td>2.00</td>\n      <td>Yes</td>\n      <td>Sat</td>\n      <td>Dinner</td>\n      <td>2</td>\n      <td>0.073584</td>\n    </tr>\n    <tr>\n      <th>241</th>\n      <td>22.67</td>\n      <td>2.00</td>\n      <td>Yes</td>\n      <td>Sat</td>\n      <td>Dinner</td>\n      <td>2</td>\n      <td>0.088222</td>\n    </tr>\n    <tr>\n      <th>242</th>\n      <td>17.82</td>\n      <td>1.75</td>\n      <td>No</td>\n      <td>Sat</td>\n      <td>Dinner</td>\n      <td>2</td>\n      <td>0.098204</td>\n    </tr>\n    <tr>\n      <th>243</th>\n      <td>18.78</td>\n      <td>3.00</td>\n      <td>No</td>\n      <td>Thur</td>\n      <td>Dinner</td>\n      <td>2</td>\n      <td>0.159744</td>\n    </tr>\n  </tbody>\n</table>\n<p>244 rows × 7 columns</p>\n</div>"
          },
          "metadata": {}
        }
      ],
      "execution_count": 101,
      "metadata": {
        "collapsed": false,
        "deletable": true,
        "editable": true,
        "gather": {
          "logged": 1606505014039
        }
      }
    },
    {
      "cell_type": "code",
      "source": [
        "tips.pivot_table(index=['day', 'smoker'])"
      ],
      "outputs": [
        {
          "output_type": "execute_result",
          "execution_count": 102,
          "data": {
            "text/plain": "                 size       tip   tip_pct  total_bill\nday  smoker                                          \nFri  No      2.250000  2.812500  0.151650   18.420000\n     Yes     2.066667  2.714000  0.174783   16.813333\nSat  No      2.555556  3.102889  0.158048   19.661778\n     Yes     2.476190  2.875476  0.147906   21.276667\nSun  No      2.929825  3.167895  0.160113   20.506667\n     Yes     2.578947  3.516842  0.187250   24.120000\nThur No      2.488889  2.673778  0.160298   17.113111\n     Yes     2.352941  3.030000  0.163863   19.190588",
            "text/html": "<div>\n<style scoped>\n    .dataframe tbody tr th:only-of-type {\n        vertical-align: middle;\n    }\n\n    .dataframe tbody tr th {\n        vertical-align: top;\n    }\n\n    .dataframe thead th {\n        text-align: right;\n    }\n</style>\n<table border=\"1\" class=\"dataframe\">\n  <thead>\n    <tr style=\"text-align: right;\">\n      <th></th>\n      <th></th>\n      <th>size</th>\n      <th>tip</th>\n      <th>tip_pct</th>\n      <th>total_bill</th>\n    </tr>\n    <tr>\n      <th>day</th>\n      <th>smoker</th>\n      <th></th>\n      <th></th>\n      <th></th>\n      <th></th>\n    </tr>\n  </thead>\n  <tbody>\n    <tr>\n      <th rowspan=\"2\" valign=\"top\">Fri</th>\n      <th>No</th>\n      <td>2.250000</td>\n      <td>2.812500</td>\n      <td>0.151650</td>\n      <td>18.420000</td>\n    </tr>\n    <tr>\n      <th>Yes</th>\n      <td>2.066667</td>\n      <td>2.714000</td>\n      <td>0.174783</td>\n      <td>16.813333</td>\n    </tr>\n    <tr>\n      <th rowspan=\"2\" valign=\"top\">Sat</th>\n      <th>No</th>\n      <td>2.555556</td>\n      <td>3.102889</td>\n      <td>0.158048</td>\n      <td>19.661778</td>\n    </tr>\n    <tr>\n      <th>Yes</th>\n      <td>2.476190</td>\n      <td>2.875476</td>\n      <td>0.147906</td>\n      <td>21.276667</td>\n    </tr>\n    <tr>\n      <th rowspan=\"2\" valign=\"top\">Sun</th>\n      <th>No</th>\n      <td>2.929825</td>\n      <td>3.167895</td>\n      <td>0.160113</td>\n      <td>20.506667</td>\n    </tr>\n    <tr>\n      <th>Yes</th>\n      <td>2.578947</td>\n      <td>3.516842</td>\n      <td>0.187250</td>\n      <td>24.120000</td>\n    </tr>\n    <tr>\n      <th rowspan=\"2\" valign=\"top\">Thur</th>\n      <th>No</th>\n      <td>2.488889</td>\n      <td>2.673778</td>\n      <td>0.160298</td>\n      <td>17.113111</td>\n    </tr>\n    <tr>\n      <th>Yes</th>\n      <td>2.352941</td>\n      <td>3.030000</td>\n      <td>0.163863</td>\n      <td>19.190588</td>\n    </tr>\n  </tbody>\n</table>\n</div>"
          },
          "metadata": {}
        }
      ],
      "execution_count": 102,
      "metadata": {
        "collapsed": true,
        "jupyter": {
          "source_hidden": false,
          "outputs_hidden": false
        },
        "nteract": {
          "transient": {
            "deleting": false
          }
        },
        "gather": {
          "logged": 1606505023499
        }
      }
    },
    {
      "cell_type": "code",
      "source": [
        "tips.pivot_table(['tip_pct', 'size'], index=['time', 'day'],\n",
        "                 columns='smoker')"
      ],
      "outputs": [
        {
          "output_type": "execute_result",
          "execution_count": 100,
          "data": {
            "text/plain": "                 size             tip_pct          \nsmoker             No       Yes        No       Yes\ntime   day                                         \nDinner Fri   2.000000  2.222222  0.139622  0.165347\n       Sat   2.555556  2.476190  0.158048  0.147906\n       Sun   2.929825  2.578947  0.160113  0.187250\n       Thur  2.000000       NaN  0.159744       NaN\nLunch  Fri   3.000000  1.833333  0.187735  0.188937\n       Thur  2.500000  2.352941  0.160311  0.163863",
            "text/html": "<div>\n<style scoped>\n    .dataframe tbody tr th:only-of-type {\n        vertical-align: middle;\n    }\n\n    .dataframe tbody tr th {\n        vertical-align: top;\n    }\n\n    .dataframe thead tr th {\n        text-align: left;\n    }\n\n    .dataframe thead tr:last-of-type th {\n        text-align: right;\n    }\n</style>\n<table border=\"1\" class=\"dataframe\">\n  <thead>\n    <tr>\n      <th></th>\n      <th></th>\n      <th colspan=\"2\" halign=\"left\">size</th>\n      <th colspan=\"2\" halign=\"left\">tip_pct</th>\n    </tr>\n    <tr>\n      <th></th>\n      <th>smoker</th>\n      <th>No</th>\n      <th>Yes</th>\n      <th>No</th>\n      <th>Yes</th>\n    </tr>\n    <tr>\n      <th>time</th>\n      <th>day</th>\n      <th></th>\n      <th></th>\n      <th></th>\n      <th></th>\n    </tr>\n  </thead>\n  <tbody>\n    <tr>\n      <th rowspan=\"4\" valign=\"top\">Dinner</th>\n      <th>Fri</th>\n      <td>2.000000</td>\n      <td>2.222222</td>\n      <td>0.139622</td>\n      <td>0.165347</td>\n    </tr>\n    <tr>\n      <th>Sat</th>\n      <td>2.555556</td>\n      <td>2.476190</td>\n      <td>0.158048</td>\n      <td>0.147906</td>\n    </tr>\n    <tr>\n      <th>Sun</th>\n      <td>2.929825</td>\n      <td>2.578947</td>\n      <td>0.160113</td>\n      <td>0.187250</td>\n    </tr>\n    <tr>\n      <th>Thur</th>\n      <td>2.000000</td>\n      <td>NaN</td>\n      <td>0.159744</td>\n      <td>NaN</td>\n    </tr>\n    <tr>\n      <th rowspan=\"2\" valign=\"top\">Lunch</th>\n      <th>Fri</th>\n      <td>3.000000</td>\n      <td>1.833333</td>\n      <td>0.187735</td>\n      <td>0.188937</td>\n    </tr>\n    <tr>\n      <th>Thur</th>\n      <td>2.500000</td>\n      <td>2.352941</td>\n      <td>0.160311</td>\n      <td>0.163863</td>\n    </tr>\n  </tbody>\n</table>\n</div>"
          },
          "metadata": {}
        }
      ],
      "execution_count": 100,
      "metadata": {
        "collapsed": false,
        "deletable": true,
        "editable": true,
        "gather": {
          "logged": 1606504986887
        }
      }
    },
    {
      "cell_type": "code",
      "source": [
        "#Poderíamos expandir essa tabela de modo que inclua \n",
        "#totais parciais, passando margins=True. Isso tem \n",
        "#o efeito de adicionar rótulos All para linhas e \n",
        "#colunas, com os valores correspondentes sendo \n",
        "#as estatísticas de grupo para todos os dados \n",
        "#em uma única camada:\n",
        "#Nesse exemplo, os valores de All são as médias, \n",
        "#sem levar em consideração os fumantes versus os \n",
        "#não fumantes (as colunas de All) nem qualquer \n",
        "#um dos dois níveis de agrupamento nas linhas (a linha All).\n",
        "\n",
        "tips.pivot_table(['tip_pct', 'size'], index=['time', 'day'],\n",
        "                 columns='smoker', margins=True)"
      ],
      "outputs": [
        {
          "output_type": "execute_result",
          "execution_count": 104,
          "data": {
            "text/plain": "                 size                       tip_pct                    \nsmoker             No       Yes       All        No       Yes       All\ntime   day                                                             \nDinner Fri   2.000000  2.222222  2.166667  0.139622  0.165347  0.158916\n       Sat   2.555556  2.476190  2.517241  0.158048  0.147906  0.153152\n       Sun   2.929825  2.578947  2.842105  0.160113  0.187250  0.166897\n       Thur  2.000000       NaN  2.000000  0.159744       NaN  0.159744\nLunch  Fri   3.000000  1.833333  2.000000  0.187735  0.188937  0.188765\n       Thur  2.500000  2.352941  2.459016  0.160311  0.163863  0.161301\nAll          2.668874  2.408602  2.569672  0.159328  0.163196  0.160803",
            "text/html": "<div>\n<style scoped>\n    .dataframe tbody tr th:only-of-type {\n        vertical-align: middle;\n    }\n\n    .dataframe tbody tr th {\n        vertical-align: top;\n    }\n\n    .dataframe thead tr th {\n        text-align: left;\n    }\n\n    .dataframe thead tr:last-of-type th {\n        text-align: right;\n    }\n</style>\n<table border=\"1\" class=\"dataframe\">\n  <thead>\n    <tr>\n      <th></th>\n      <th></th>\n      <th colspan=\"3\" halign=\"left\">size</th>\n      <th colspan=\"3\" halign=\"left\">tip_pct</th>\n    </tr>\n    <tr>\n      <th></th>\n      <th>smoker</th>\n      <th>No</th>\n      <th>Yes</th>\n      <th>All</th>\n      <th>No</th>\n      <th>Yes</th>\n      <th>All</th>\n    </tr>\n    <tr>\n      <th>time</th>\n      <th>day</th>\n      <th></th>\n      <th></th>\n      <th></th>\n      <th></th>\n      <th></th>\n      <th></th>\n    </tr>\n  </thead>\n  <tbody>\n    <tr>\n      <th rowspan=\"4\" valign=\"top\">Dinner</th>\n      <th>Fri</th>\n      <td>2.000000</td>\n      <td>2.222222</td>\n      <td>2.166667</td>\n      <td>0.139622</td>\n      <td>0.165347</td>\n      <td>0.158916</td>\n    </tr>\n    <tr>\n      <th>Sat</th>\n      <td>2.555556</td>\n      <td>2.476190</td>\n      <td>2.517241</td>\n      <td>0.158048</td>\n      <td>0.147906</td>\n      <td>0.153152</td>\n    </tr>\n    <tr>\n      <th>Sun</th>\n      <td>2.929825</td>\n      <td>2.578947</td>\n      <td>2.842105</td>\n      <td>0.160113</td>\n      <td>0.187250</td>\n      <td>0.166897</td>\n    </tr>\n    <tr>\n      <th>Thur</th>\n      <td>2.000000</td>\n      <td>NaN</td>\n      <td>2.000000</td>\n      <td>0.159744</td>\n      <td>NaN</td>\n      <td>0.159744</td>\n    </tr>\n    <tr>\n      <th rowspan=\"2\" valign=\"top\">Lunch</th>\n      <th>Fri</th>\n      <td>3.000000</td>\n      <td>1.833333</td>\n      <td>2.000000</td>\n      <td>0.187735</td>\n      <td>0.188937</td>\n      <td>0.188765</td>\n    </tr>\n    <tr>\n      <th>Thur</th>\n      <td>2.500000</td>\n      <td>2.352941</td>\n      <td>2.459016</td>\n      <td>0.160311</td>\n      <td>0.163863</td>\n      <td>0.161301</td>\n    </tr>\n    <tr>\n      <th>All</th>\n      <th></th>\n      <td>2.668874</td>\n      <td>2.408602</td>\n      <td>2.569672</td>\n      <td>0.159328</td>\n      <td>0.163196</td>\n      <td>0.160803</td>\n    </tr>\n  </tbody>\n</table>\n</div>"
          },
          "metadata": {}
        }
      ],
      "execution_count": 104,
      "metadata": {
        "collapsed": false,
        "deletable": true,
        "editable": true,
        "gather": {
          "logged": 1606505161070
        }
      }
    },
    {
      "cell_type": "code",
      "source": [
        "tips.pivot_table('tip_pct', index=['time', 'size', 'smoker'],\n",
        "                 columns='day', aggfunc='mean', fill_value=0)"
      ],
      "outputs": [
        {
          "output_type": "execute_result",
          "execution_count": 109,
          "data": {
            "text/plain": "day                      Fri       Sat       Sun      Thur\ntime   size smoker                                        \nDinner 1    No      0.000000  0.137931  0.000000  0.000000\n            Yes     0.000000  0.325733  0.000000  0.000000\n       2    No      0.139622  0.162705  0.168859  0.159744\n            Yes     0.171297  0.148668  0.207893  0.000000\n       3    No      0.000000  0.154661  0.152663  0.000000\n...                      ...       ...       ...       ...\nLunch  3    Yes     0.000000  0.000000  0.000000  0.204952\n       4    No      0.000000  0.000000  0.000000  0.138919\n            Yes     0.000000  0.000000  0.000000  0.155410\n       5    No      0.000000  0.000000  0.000000  0.121389\n       6    No      0.000000  0.000000  0.000000  0.173706\n\n[21 rows x 4 columns]",
            "text/html": "<div>\n<style scoped>\n    .dataframe tbody tr th:only-of-type {\n        vertical-align: middle;\n    }\n\n    .dataframe tbody tr th {\n        vertical-align: top;\n    }\n\n    .dataframe thead th {\n        text-align: right;\n    }\n</style>\n<table border=\"1\" class=\"dataframe\">\n  <thead>\n    <tr style=\"text-align: right;\">\n      <th></th>\n      <th></th>\n      <th>day</th>\n      <th>Fri</th>\n      <th>Sat</th>\n      <th>Sun</th>\n      <th>Thur</th>\n    </tr>\n    <tr>\n      <th>time</th>\n      <th>size</th>\n      <th>smoker</th>\n      <th></th>\n      <th></th>\n      <th></th>\n      <th></th>\n    </tr>\n  </thead>\n  <tbody>\n    <tr>\n      <th rowspan=\"5\" valign=\"top\">Dinner</th>\n      <th rowspan=\"2\" valign=\"top\">1</th>\n      <th>No</th>\n      <td>0.000000</td>\n      <td>0.137931</td>\n      <td>0.000000</td>\n      <td>0.000000</td>\n    </tr>\n    <tr>\n      <th>Yes</th>\n      <td>0.000000</td>\n      <td>0.325733</td>\n      <td>0.000000</td>\n      <td>0.000000</td>\n    </tr>\n    <tr>\n      <th rowspan=\"2\" valign=\"top\">2</th>\n      <th>No</th>\n      <td>0.139622</td>\n      <td>0.162705</td>\n      <td>0.168859</td>\n      <td>0.159744</td>\n    </tr>\n    <tr>\n      <th>Yes</th>\n      <td>0.171297</td>\n      <td>0.148668</td>\n      <td>0.207893</td>\n      <td>0.000000</td>\n    </tr>\n    <tr>\n      <th>3</th>\n      <th>No</th>\n      <td>0.000000</td>\n      <td>0.154661</td>\n      <td>0.152663</td>\n      <td>0.000000</td>\n    </tr>\n    <tr>\n      <th>...</th>\n      <th>...</th>\n      <th>...</th>\n      <td>...</td>\n      <td>...</td>\n      <td>...</td>\n      <td>...</td>\n    </tr>\n    <tr>\n      <th rowspan=\"5\" valign=\"top\">Lunch</th>\n      <th>3</th>\n      <th>Yes</th>\n      <td>0.000000</td>\n      <td>0.000000</td>\n      <td>0.000000</td>\n      <td>0.204952</td>\n    </tr>\n    <tr>\n      <th rowspan=\"2\" valign=\"top\">4</th>\n      <th>No</th>\n      <td>0.000000</td>\n      <td>0.000000</td>\n      <td>0.000000</td>\n      <td>0.138919</td>\n    </tr>\n    <tr>\n      <th>Yes</th>\n      <td>0.000000</td>\n      <td>0.000000</td>\n      <td>0.000000</td>\n      <td>0.155410</td>\n    </tr>\n    <tr>\n      <th>5</th>\n      <th>No</th>\n      <td>0.000000</td>\n      <td>0.000000</td>\n      <td>0.000000</td>\n      <td>0.121389</td>\n    </tr>\n    <tr>\n      <th>6</th>\n      <th>No</th>\n      <td>0.000000</td>\n      <td>0.000000</td>\n      <td>0.000000</td>\n      <td>0.173706</td>\n    </tr>\n  </tbody>\n</table>\n<p>21 rows × 4 columns</p>\n</div>"
          },
          "metadata": {}
        }
      ],
      "execution_count": 109,
      "metadata": {
        "collapsed": false,
        "deletable": true,
        "editable": true,
        "gather": {
          "logged": 1606505328663
        }
      }
    },
    {
      "cell_type": "markdown",
      "source": [
        "### Cross-Tabulations: Crosstab\r\n",
        "Uma tabulação cruzada (ou crosstab, em sua forma abreviada) \r\n",
        "é um caso especial de uma tabela pivô que calcula frequências de grupos. Eis um exemplo:\r\n"
      ],
      "metadata": {
        "deletable": true,
        "editable": true
      }
    },
    {
      "cell_type": "code",
      "source": [
        "from io import StringIO\n",
        "data = \"\"\"\\\n",
        "Sample  Nationality  Handedness\n",
        "1   USA  Right-handed\n",
        "2   Japan    Left-handed\n",
        "3   USA  Right-handed\n",
        "4   Japan    Right-handed\n",
        "5   Japan    Left-handed\n",
        "6   Japan    Right-handed\n",
        "7   USA  Right-handed\n",
        "8   USA  Left-handed\n",
        "9   Japan    Right-handed\n",
        "10  USA  Right-handed\"\"\"\n",
        "data = pd.read_table(StringIO(data), sep='\\s+')"
      ],
      "outputs": [],
      "execution_count": 110,
      "metadata": {
        "collapsed": false,
        "deletable": true,
        "editable": true,
        "gather": {
          "logged": 1606505364202
        }
      }
    },
    {
      "cell_type": "code",
      "source": [
        "data"
      ],
      "outputs": [
        {
          "output_type": "execute_result",
          "execution_count": 111,
          "data": {
            "text/plain": "   Sample Nationality    Handedness\n0       1         USA  Right-handed\n1       2       Japan   Left-handed\n2       3         USA  Right-handed\n3       4       Japan  Right-handed\n4       5       Japan   Left-handed\n5       6       Japan  Right-handed\n6       7         USA  Right-handed\n7       8         USA   Left-handed\n8       9       Japan  Right-handed\n9      10         USA  Right-handed",
            "text/html": "<div>\n<style scoped>\n    .dataframe tbody tr th:only-of-type {\n        vertical-align: middle;\n    }\n\n    .dataframe tbody tr th {\n        vertical-align: top;\n    }\n\n    .dataframe thead th {\n        text-align: right;\n    }\n</style>\n<table border=\"1\" class=\"dataframe\">\n  <thead>\n    <tr style=\"text-align: right;\">\n      <th></th>\n      <th>Sample</th>\n      <th>Nationality</th>\n      <th>Handedness</th>\n    </tr>\n  </thead>\n  <tbody>\n    <tr>\n      <th>0</th>\n      <td>1</td>\n      <td>USA</td>\n      <td>Right-handed</td>\n    </tr>\n    <tr>\n      <th>1</th>\n      <td>2</td>\n      <td>Japan</td>\n      <td>Left-handed</td>\n    </tr>\n    <tr>\n      <th>2</th>\n      <td>3</td>\n      <td>USA</td>\n      <td>Right-handed</td>\n    </tr>\n    <tr>\n      <th>3</th>\n      <td>4</td>\n      <td>Japan</td>\n      <td>Right-handed</td>\n    </tr>\n    <tr>\n      <th>4</th>\n      <td>5</td>\n      <td>Japan</td>\n      <td>Left-handed</td>\n    </tr>\n    <tr>\n      <th>5</th>\n      <td>6</td>\n      <td>Japan</td>\n      <td>Right-handed</td>\n    </tr>\n    <tr>\n      <th>6</th>\n      <td>7</td>\n      <td>USA</td>\n      <td>Right-handed</td>\n    </tr>\n    <tr>\n      <th>7</th>\n      <td>8</td>\n      <td>USA</td>\n      <td>Left-handed</td>\n    </tr>\n    <tr>\n      <th>8</th>\n      <td>9</td>\n      <td>Japan</td>\n      <td>Right-handed</td>\n    </tr>\n    <tr>\n      <th>9</th>\n      <td>10</td>\n      <td>USA</td>\n      <td>Right-handed</td>\n    </tr>\n  </tbody>\n</table>\n</div>"
          },
          "metadata": {}
        }
      ],
      "execution_count": 111,
      "metadata": {
        "collapsed": false,
        "deletable": true,
        "editable": true,
        "gather": {
          "logged": 1606505366897
        }
      }
    },
    {
      "cell_type": "code",
      "source": [
        "pd.crosstab(data.Nationality, data.Handedness, margins=True)"
      ],
      "outputs": [
        {
          "output_type": "execute_result",
          "execution_count": 112,
          "data": {
            "text/plain": "Handedness   Left-handed  Right-handed  All\nNationality                                \nJapan                  2             3    5\nUSA                    1             4    5\nAll                    3             7   10",
            "text/html": "<div>\n<style scoped>\n    .dataframe tbody tr th:only-of-type {\n        vertical-align: middle;\n    }\n\n    .dataframe tbody tr th {\n        vertical-align: top;\n    }\n\n    .dataframe thead th {\n        text-align: right;\n    }\n</style>\n<table border=\"1\" class=\"dataframe\">\n  <thead>\n    <tr style=\"text-align: right;\">\n      <th>Handedness</th>\n      <th>Left-handed</th>\n      <th>Right-handed</th>\n      <th>All</th>\n    </tr>\n    <tr>\n      <th>Nationality</th>\n      <th></th>\n      <th></th>\n      <th></th>\n    </tr>\n  </thead>\n  <tbody>\n    <tr>\n      <th>Japan</th>\n      <td>2</td>\n      <td>3</td>\n      <td>5</td>\n    </tr>\n    <tr>\n      <th>USA</th>\n      <td>1</td>\n      <td>4</td>\n      <td>5</td>\n    </tr>\n    <tr>\n      <th>All</th>\n      <td>3</td>\n      <td>7</td>\n      <td>10</td>\n    </tr>\n  </tbody>\n</table>\n</div>"
          },
          "metadata": {}
        }
      ],
      "execution_count": 112,
      "metadata": {
        "collapsed": false,
        "deletable": true,
        "editable": true,
        "gather": {
          "logged": 1606505393741
        }
      }
    },
    {
      "cell_type": "code",
      "source": [
        "pd.crosstab([tips.time, tips.day], tips.smoker, margins=True)"
      ],
      "outputs": [
        {
          "output_type": "execute_result",
          "execution_count": 113,
          "data": {
            "text/plain": "smoker        No  Yes  All\ntime   day                \nDinner Fri     3    9   12\n       Sat    45   42   87\n       Sun    57   19   76\n       Thur    1    0    1\nLunch  Fri     1    6    7\n       Thur   44   17   61\nAll          151   93  244",
            "text/html": "<div>\n<style scoped>\n    .dataframe tbody tr th:only-of-type {\n        vertical-align: middle;\n    }\n\n    .dataframe tbody tr th {\n        vertical-align: top;\n    }\n\n    .dataframe thead th {\n        text-align: right;\n    }\n</style>\n<table border=\"1\" class=\"dataframe\">\n  <thead>\n    <tr style=\"text-align: right;\">\n      <th></th>\n      <th>smoker</th>\n      <th>No</th>\n      <th>Yes</th>\n      <th>All</th>\n    </tr>\n    <tr>\n      <th>time</th>\n      <th>day</th>\n      <th></th>\n      <th></th>\n      <th></th>\n    </tr>\n  </thead>\n  <tbody>\n    <tr>\n      <th rowspan=\"4\" valign=\"top\">Dinner</th>\n      <th>Fri</th>\n      <td>3</td>\n      <td>9</td>\n      <td>12</td>\n    </tr>\n    <tr>\n      <th>Sat</th>\n      <td>45</td>\n      <td>42</td>\n      <td>87</td>\n    </tr>\n    <tr>\n      <th>Sun</th>\n      <td>57</td>\n      <td>19</td>\n      <td>76</td>\n    </tr>\n    <tr>\n      <th>Thur</th>\n      <td>1</td>\n      <td>0</td>\n      <td>1</td>\n    </tr>\n    <tr>\n      <th rowspan=\"2\" valign=\"top\">Lunch</th>\n      <th>Fri</th>\n      <td>1</td>\n      <td>6</td>\n      <td>7</td>\n    </tr>\n    <tr>\n      <th>Thur</th>\n      <td>44</td>\n      <td>17</td>\n      <td>61</td>\n    </tr>\n    <tr>\n      <th>All</th>\n      <th></th>\n      <td>151</td>\n      <td>93</td>\n      <td>244</td>\n    </tr>\n  </tbody>\n</table>\n</div>"
          },
          "metadata": {}
        }
      ],
      "execution_count": 113,
      "metadata": {
        "collapsed": false,
        "deletable": true,
        "editable": true,
        "gather": {
          "logged": 1606505410101
        }
      }
    }
  ],
  "metadata": {
    "kernelspec": {
      "name": "python3",
      "language": "python",
      "display_name": "Python 3"
    },
    "language_info": {
      "name": "python",
      "version": "3.6.9",
      "mimetype": "text/x-python",
      "codemirror_mode": {
        "name": "ipython",
        "version": 3
      },
      "pygments_lexer": "ipython3",
      "nbconvert_exporter": "python",
      "file_extension": ".py"
    },
    "kernel_info": {
      "name": "python3"
    },
    "nteract": {
      "version": "nteract-front-end@1.0.0"
    }
  },
  "nbformat": 4,
  "nbformat_minor": 0
}