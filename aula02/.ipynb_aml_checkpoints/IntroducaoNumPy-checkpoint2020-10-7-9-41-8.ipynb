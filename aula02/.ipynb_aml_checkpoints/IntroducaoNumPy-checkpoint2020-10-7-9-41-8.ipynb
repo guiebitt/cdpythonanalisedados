{
  "cells": [
    {
      "cell_type": "code",
      "source": [
        "import numpy as np"
      ],
      "outputs": [],
      "execution_count": 3,
      "metadata": {
        "collapsed": true,
        "jupyter": {
          "source_hidden": false,
          "outputs_hidden": false
        },
        "nteract": {
          "transient": {
            "deleting": false
          }
        },
        "gather": {
          "logged": 1604748364454
        }
      }
    },
    {
      "cell_type": "code",
      "source": [
        "%time myarr = np.arange(1000000)\r\n",
        "%time mylist = list(range(1000000))"
      ],
      "outputs": [
        {
          "output_type": "stream",
          "name": "stdout",
          "text": [
            "CPU times: user 2.35 ms, sys: 248 µs, total: 2.6 ms\n",
            "Wall time: 1.78 ms\n",
            "CPU times: user 22 ms, sys: 19.9 ms, total: 41.8 ms\n",
            "Wall time: 41.4 ms\n"
          ]
        }
      ],
      "execution_count": 4,
      "metadata": {
        "gather": {
          "logged": 1604747994069
        }
      }
    },
    {
      "cell_type": "code",
      "source": [
        "%time for _ in range(10): myarr2 = myarr * 2\r\n",
        "%time for _ in range(10): mylist2 = [x * 2 for x in mylist]"
      ],
      "outputs": [
        {
          "output_type": "stream",
          "name": "stdout",
          "text": [
            "CPU times: user 14.8 ms, sys: 292 µs, total: 15.1 ms\n",
            "Wall time: 14.1 ms\n",
            "CPU times: user 673 ms, sys: 121 ms, total: 794 ms\n",
            "Wall time: 794 ms\n"
          ]
        }
      ],
      "execution_count": 5,
      "metadata": {
        "collapsed": true,
        "jupyter": {
          "source_hidden": false,
          "outputs_hidden": false
        },
        "nteract": {
          "transient": {
            "deleting": false
          }
        }
      }
    },
    {
      "cell_type": "code",
      "source": [
        "arraleatorio = np.random.randn(2,3)\r\n",
        "print(arraleatorio)\r\n",
        "arraleatorio = arraleatorio * 10\r\n",
        "print(arraleatorio)\r\n",
        "arraleatorio = arraleatorio + arraleatorio\r\n",
        "print(arraleatorio)\r\n",
        "print(arraleatorio.shape)\r\n",
        "print(arraleatorio.dtype)"
      ],
      "outputs": [
        {
          "output_type": "stream",
          "name": "stdout",
          "text": [
            "[[-0.77632758  1.19018131 -0.98976616]\n",
            " [ 0.654997    1.04841297 -1.25281808]]\n",
            "[[ -7.76327578  11.90181309  -9.89766158]\n",
            " [  6.54996999  10.48412967 -12.5281808 ]]\n",
            "[[-15.52655156  23.80362617 -19.79532316]\n",
            " [ 13.09993998  20.96825934 -25.0563616 ]]\n",
            "(2, 3)\n",
            "float64\n"
          ]
        }
      ],
      "execution_count": 9,
      "metadata": {
        "collapsed": true,
        "jupyter": {
          "source_hidden": false,
          "outputs_hidden": false
        },
        "nteract": {
          "transient": {
            "deleting": false
          }
        },
        "gather": {
          "logged": 1604748521653
        }
      }
    },
    {
      "cell_type": "code",
      "source": [
        "arr1 = np.array([6,7.5,8,0,1])\r\n",
        "print(arr1)\r\n",
        "print(arr1.ndim)\r\n",
        "print(arr1.shape)\r\n",
        "print(arr1.dtype)"
      ],
      "outputs": [
        {
          "output_type": "stream",
          "name": "stdout",
          "text": [
            "[6.  7.5 8.  0.  1. ]\n",
            "1\n",
            "(5,)\n",
            "float64\n"
          ]
        }
      ],
      "execution_count": 11,
      "metadata": {
        "collapsed": true,
        "jupyter": {
          "source_hidden": false,
          "outputs_hidden": false
        },
        "nteract": {
          "transient": {
            "deleting": false
          }
        },
        "gather": {
          "logged": 1604748706238
        }
      }
    },
    {
      "cell_type": "code",
      "source": [
        "arrzeros = np.zeros(10)\r\n",
        "print(arrzeros)\r\n",
        "arrzeros = np.zeros((3, 6))\r\n",
        "print(arrzeros)\r\n",
        "arrones = np.ones((3,6))\r\n",
        "print(arrones)\r\n",
        "arrfull = np.full((3,6), 9)\r\n",
        "print(arrfull)"
      ],
      "outputs": [
        {
          "output_type": "stream",
          "name": "stdout",
          "text": [
            "[0. 0. 0. 0. 0. 0. 0. 0. 0. 0.]\n",
            "[[0. 0. 0. 0. 0. 0.]\n",
            " [0. 0. 0. 0. 0. 0.]\n",
            " [0. 0. 0. 0. 0. 0.]]\n",
            "[[1. 1. 1. 1. 1. 1.]\n",
            " [1. 1. 1. 1. 1. 1.]\n",
            " [1. 1. 1. 1. 1. 1.]]\n",
            "[[9 9 9 9 9 9]\n",
            " [9 9 9 9 9 9]\n",
            " [9 9 9 9 9 9]]\n"
          ]
        }
      ],
      "execution_count": 14,
      "metadata": {
        "collapsed": true,
        "jupyter": {
          "source_hidden": false,
          "outputs_hidden": false
        },
        "nteract": {
          "transient": {
            "deleting": false
          }
        },
        "gather": {
          "logged": 1604748958462
        }
      }
    },
    {
      "cell_type": "code",
      "source": [
        "arrempty = np.empty((2,3,2))\r\n",
        "print(arrempty)"
      ],
      "outputs": [
        {
          "output_type": "stream",
          "name": "stdout",
          "text": [
            "[[[6.94883067e-310 4.67423785e-310]\n",
            "  [2.10077583e-312 6.79038654e-313]\n",
            "  [2.22809558e-312 2.14321575e-312]]\n",
            "\n",
            " [[2.35541533e-312 6.79038654e-313]\n",
            "  [2.22809558e-312 2.14321575e-312]\n",
            "  [2.46151512e-312 2.41907520e-312]]]\n"
          ]
        }
      ],
      "execution_count": 17,
      "metadata": {
        "collapsed": true,
        "jupyter": {
          "source_hidden": false,
          "outputs_hidden": false
        },
        "nteract": {
          "transient": {
            "deleting": false
          }
        },
        "gather": {
          "logged": 1604749092059
        }
      }
    },
    {
      "cell_type": "code",
      "source": [
        "arreye = np.eye(3)\r\n",
        "print(arreye)"
      ],
      "outputs": [
        {
          "output_type": "stream",
          "name": "stdout",
          "text": [
            "[[1. 0. 0.]\n",
            " [0. 1. 0.]\n",
            " [0. 0. 1.]]\n"
          ]
        }
      ],
      "execution_count": 18,
      "metadata": {
        "collapsed": true,
        "jupyter": {
          "source_hidden": false,
          "outputs_hidden": false
        },
        "nteract": {
          "transient": {
            "deleting": false
          }
        },
        "gather": {
          "logged": 1604749112946
        }
      }
    },
    {
      "cell_type": "code",
      "source": [
        "arr1 = np.array([1,2,3], dtype=np.float64)\r\n",
        "print(arr1.dtype)\r\n",
        "arr2 = np.array([1,2,3], dtype=np.int32)\r\n",
        "print(arr2.dtype)"
      ],
      "outputs": [
        {
          "output_type": "stream",
          "name": "stdout",
          "text": [
            "float64\n",
            "int32\n"
          ]
        }
      ],
      "execution_count": 19,
      "metadata": {
        "collapsed": true,
        "jupyter": {
          "source_hidden": false,
          "outputs_hidden": false
        },
        "nteract": {
          "transient": {
            "deleting": false
          }
        },
        "gather": {
          "logged": 1604749279915
        }
      }
    },
    {
      "cell_type": "code",
      "source": [
        "numeric_string = np.array(['1.25', '-9.6', '4.2'], dtype=np.string_)\r\n",
        "numeric_float = numeric_string.astype(float)\r\n",
        "print(numeric_float.dtype)\r\n",
        "print(numeric_string)\r\n",
        "print(numeric_float)"
      ],
      "outputs": [
        {
          "output_type": "stream",
          "name": "stdout",
          "text": [
            "float64\n",
            "[b'1.25' b'-9.6' b'4.2']\n",
            "[ 1.25 -9.6   4.2 ]\n"
          ]
        }
      ],
      "execution_count": 20,
      "metadata": {
        "collapsed": true,
        "jupyter": {
          "source_hidden": false,
          "outputs_hidden": false
        },
        "nteract": {
          "transient": {
            "deleting": false
          }
        },
        "gather": {
          "logged": 1604749498515
        }
      }
    },
    {
      "cell_type": "code",
      "source": [
        "arr = np.array([[1.,2.,3.],[4.,5.,6.]])\r\n",
        "print(arr)\r\n",
        "print(arr * arr)\r\n",
        "print(arr - arr)\r\n",
        "print(1 / arr)\r\n",
        "print(arr ** 0.5)"
      ],
      "outputs": [
        {
          "output_type": "stream",
          "name": "stdout",
          "text": [
            "[[1. 2. 3.]\n",
            " [4. 5. 6.]]\n",
            "[[ 1.  4.  9.]\n",
            " [16. 25. 36.]]\n",
            "[[0. 0. 0.]\n",
            " [0. 0. 0.]]\n",
            "[[1.         0.5        0.33333333]\n",
            " [0.25       0.2        0.16666667]]\n",
            "[[1.         1.41421356 1.73205081]\n",
            " [2.         2.23606798 2.44948974]]\n"
          ]
        }
      ],
      "execution_count": 21,
      "metadata": {
        "collapsed": true,
        "jupyter": {
          "source_hidden": false,
          "outputs_hidden": false
        },
        "nteract": {
          "transient": {
            "deleting": false
          }
        },
        "gather": {
          "logged": 1604749753793
        }
      }
    },
    {
      "cell_type": "code",
      "source": [
        "arr2 = np.array([[0.,4.,1.], [7.,2.,12.]])\r\n",
        "print(arr > arr2)\r\n",
        "print(arr == arr2)"
      ],
      "outputs": [
        {
          "output_type": "stream",
          "name": "stdout",
          "text": [
            "[[ True False  True]\n",
            " [False  True False]]\n",
            "[[False False False]\n",
            " [False False False]]\n"
          ]
        }
      ],
      "execution_count": 22,
      "metadata": {
        "collapsed": true,
        "jupyter": {
          "source_hidden": false,
          "outputs_hidden": false
        },
        "nteract": {
          "transient": {
            "deleting": false
          }
        },
        "gather": {
          "logged": 1604749959979
        }
      }
    },
    {
      "cell_type": "code",
      "source": [
        "arr = np.arange(10)\r\n",
        "print(arr)\r\n",
        "print(arr[5]) # Ele irá pegar a partir do 5 elemento\r\n",
        "print(arr[5:8])\r\n",
        "arr[5:8] = 12\r\n",
        "print(arr)\r\n",
        "# Neste caso será copiado a referência da memória\r\n",
        "# Não será feita a cópia\r\n",
        "arr2 = arr[5:8]\r\n",
        "print(arr2)\r\n",
        "arr2[1] = 30\r\n",
        "print(arr2)\r\n",
        "print(arr)"
      ],
      "outputs": [
        {
          "output_type": "stream",
          "name": "stdout",
          "text": [
            "[0 1 2 3 4 5 6 7 8 9]\n",
            "5\n",
            "[5 6 7]\n",
            "[ 0  1  2  3  4 12 12 12  8  9]\n",
            "[12 12 12]\n",
            "[12 30 12]\n",
            "[ 0  1  2  3  4 12 30 12  8  9]\n"
          ]
        }
      ],
      "execution_count": 25,
      "metadata": {
        "collapsed": true,
        "jupyter": {
          "source_hidden": false,
          "outputs_hidden": false
        },
        "nteract": {
          "transient": {
            "deleting": false
          }
        },
        "gather": {
          "logged": 1604750407910
        }
      }
    },
    {
      "cell_type": "code",
      "source": [
        "arr2d = np.array([[1,2,3], [4,5,6], [7,8,9]])\r\n",
        "print(arr2d[2])\r\n",
        "print(arr2d[0][2])\r\n",
        "print(arr2d[0,2])"
      ],
      "outputs": [
        {
          "output_type": "stream",
          "name": "stdout",
          "text": [
            "[7 8 9]\n",
            "3\n",
            "3\n"
          ]
        }
      ],
      "execution_count": 27,
      "metadata": {
        "collapsed": true,
        "jupyter": {
          "source_hidden": false,
          "outputs_hidden": false
        },
        "nteract": {
          "transient": {
            "deleting": false
          }
        },
        "gather": {
          "logged": 1604750549827
        }
      }
    },
    {
      "cell_type": "code",
      "source": [
        "arr2copia = arr2d[2].copy()\r\n",
        "arr2copia[:] = 200\r\n",
        "print(arr2d)\r\n",
        "print(arr2copia)"
      ],
      "outputs": [
        {
          "output_type": "stream",
          "name": "stdout",
          "text": [
            "[[1 2 3]\n",
            " [4 5 6]\n",
            " [7 8 9]]\n",
            "[200 200 200]\n"
          ]
        }
      ],
      "execution_count": 31,
      "metadata": {
        "collapsed": true,
        "jupyter": {
          "source_hidden": false,
          "outputs_hidden": false
        },
        "nteract": {
          "transient": {
            "deleting": false
          }
        },
        "gather": {
          "logged": 1604750735185
        }
      }
    },
    {
      "cell_type": "code",
      "source": [
        "arr = np.arange(10)\r\n",
        "print(arr)\r\n",
        "print(arr[1:6])\r\n",
        "print(arr[:2])\r\n",
        "arr2d = np.array([[1,2,3], [4,5,6], [7,8,9]])\r\n",
        "print(arr2d)\r\n",
        "print(arr2d[:2,1:])"
      ],
      "outputs": [
        {
          "output_type": "stream",
          "name": "stdout",
          "text": [
            "[0 1 2 3 4 5 6 7 8 9]\n",
            "[1 2 3 4 5]\n",
            "[0 1]\n",
            "[[1 2 3]\n",
            " [4 5 6]\n",
            " [7 8 9]]\n",
            "[[2 3]\n",
            " [5 6]]\n"
          ]
        }
      ],
      "execution_count": 33,
      "metadata": {
        "collapsed": true,
        "jupyter": {
          "source_hidden": false,
          "outputs_hidden": false
        },
        "nteract": {
          "transient": {
            "deleting": false
          }
        },
        "gather": {
          "logged": 1604750941577
        }
      }
    },
    {
      "cell_type": "code",
      "source": [
        "names = np.array(['Bob', 'Joe', 'Will', 'Bob', 'Will', 'Joe', 'Joe'])\r\n",
        "print(names)\r\n",
        "data = np.random.randn(7,4)\r\n",
        "print(data)\r\n",
        "print(names == 'Bob')\r\n",
        "print(data[names == 'Bob'])\r\n",
        "print(data[names == 'Bob', 2:])"
      ],
      "outputs": [
        {
          "output_type": "stream",
          "name": "stdout",
          "text": [
            "['Bob' 'Joe' 'Will' 'Bob' 'Will' 'Joe' 'Joe']\n",
            "[[-0.48118984 -0.57276941  0.15774105  0.27847209]\n",
            " [-0.04118533 -0.6058873  -0.7801684  -1.18764918]\n",
            " [-0.42386532  0.01429586  0.37758958  2.55547495]\n",
            " [-1.10286671 -0.83310731  0.39565929 -0.5033583 ]\n",
            " [-0.78054435 -0.68692043  0.60049357  0.21989476]\n",
            " [-1.52965003 -1.35073902  0.9553373   0.27758568]\n",
            " [ 0.40031237  0.27704483  0.88788361  1.09915578]]\n",
            "[ True False False  True False False False]\n",
            "[[-0.48118984 -0.57276941  0.15774105  0.27847209]\n",
            " [-1.10286671 -0.83310731  0.39565929 -0.5033583 ]]\n",
            "[[ 0.15774105  0.27847209]\n",
            " [ 0.39565929 -0.5033583 ]]\n"
          ]
        }
      ],
      "execution_count": 39,
      "metadata": {
        "collapsed": true,
        "jupyter": {
          "source_hidden": false,
          "outputs_hidden": false
        },
        "nteract": {
          "transient": {
            "deleting": false
          }
        },
        "gather": {
          "logged": 1604751444589
        }
      }
    },
    {
      "cell_type": "code",
      "source": [
        "print(data[~(names == 'Bob')])"
      ],
      "outputs": [
        {
          "output_type": "stream",
          "name": "stdout",
          "text": [
            "[[-0.04118533 -0.6058873  -0.7801684  -1.18764918]\n",
            " [-0.42386532  0.01429586  0.37758958  2.55547495]\n",
            " [-0.78054435 -0.68692043  0.60049357  0.21989476]\n",
            " [-1.52965003 -1.35073902  0.9553373   0.27758568]\n",
            " [ 0.40031237  0.27704483  0.88788361  1.09915578]]\n"
          ]
        }
      ],
      "execution_count": 40,
      "metadata": {
        "collapsed": true,
        "jupyter": {
          "source_hidden": false,
          "outputs_hidden": false
        },
        "nteract": {
          "transient": {
            "deleting": false
          }
        },
        "gather": {
          "logged": 1604751669343
        }
      }
    },
    {
      "cell_type": "code",
      "source": [
        "cond = (names == 'Bob') | (names == 'Will')\r\n",
        "print(data[cond])"
      ],
      "outputs": [
        {
          "output_type": "stream",
          "name": "stdout",
          "text": [
            "[[-0.48118984 -0.57276941  0.15774105  0.27847209]\n",
            " [-0.42386532  0.01429586  0.37758958  2.55547495]\n",
            " [-1.10286671 -0.83310731  0.39565929 -0.5033583 ]\n",
            " [-0.78054435 -0.68692043  0.60049357  0.21989476]]\n"
          ]
        }
      ],
      "execution_count": 41,
      "metadata": {
        "collapsed": true,
        "jupyter": {
          "source_hidden": false,
          "outputs_hidden": false
        },
        "nteract": {
          "transient": {
            "deleting": false
          }
        },
        "gather": {
          "logged": 1604751750007
        }
      }
    },
    {
      "cell_type": "code",
      "source": [
        "data[data < 0] = 0\r\n",
        "print(data)"
      ],
      "outputs": [
        {
          "output_type": "stream",
          "name": "stdout",
          "text": [
            "[[0.         0.         0.15774105 0.27847209]\n",
            " [0.         0.         0.         0.        ]\n",
            " [0.         0.01429586 0.37758958 2.55547495]\n",
            " [0.         0.         0.39565929 0.        ]\n",
            " [0.         0.         0.60049357 0.21989476]\n",
            " [0.         0.         0.9553373  0.27758568]\n",
            " [0.40031237 0.27704483 0.88788361 1.09915578]]\n"
          ]
        }
      ],
      "execution_count": 43,
      "metadata": {
        "collapsed": true,
        "jupyter": {
          "source_hidden": false,
          "outputs_hidden": false
        },
        "nteract": {
          "transient": {
            "deleting": false
          }
        },
        "gather": {
          "logged": 1604751931522
        }
      }
    },
    {
      "cell_type": "code",
      "source": [
        "arr = np.empty((8,4))\r\n",
        "for i in range(8):\r\n",
        "    arr[i] = i\r\n",
        "print(arr)\r\n",
        "print(arr[[4,3,0,6]])\r\n",
        "print(arr[[-3,-5,-7]])"
      ],
      "outputs": [
        {
          "output_type": "stream",
          "name": "stdout",
          "text": [
            "[[0. 0. 0. 0.]\n",
            " [1. 1. 1. 1.]\n",
            " [2. 2. 2. 2.]\n",
            " [3. 3. 3. 3.]\n",
            " [4. 4. 4. 4.]\n",
            " [5. 5. 5. 5.]\n",
            " [6. 6. 6. 6.]\n",
            " [7. 7. 7. 7.]]\n",
            "[[4. 4. 4. 4.]\n",
            " [3. 3. 3. 3.]\n",
            " [0. 0. 0. 0.]\n",
            " [6. 6. 6. 6.]]\n",
            "[[5. 5. 5. 5.]\n",
            " [3. 3. 3. 3.]\n",
            " [1. 1. 1. 1.]]\n"
          ]
        }
      ],
      "execution_count": 47,
      "metadata": {
        "collapsed": true,
        "jupyter": {
          "source_hidden": false,
          "outputs_hidden": false
        },
        "nteract": {
          "transient": {
            "deleting": false
          }
        },
        "gather": {
          "logged": 1604752144026
        }
      }
    },
    {
      "cell_type": "code",
      "source": [
        "arr = np.arange(32).reshape(8,4)\r\n",
        "print(arr)\r\n",
        "print(arr[[1,5,7,2],[0,3,1,2]])"
      ],
      "outputs": [
        {
          "output_type": "stream",
          "name": "stdout",
          "text": [
            "[[ 0  1  2  3]\n",
            " [ 4  5  6  7]\n",
            " [ 8  9 10 11]\n",
            " [12 13 14 15]\n",
            " [16 17 18 19]\n",
            " [20 21 22 23]\n",
            " [24 25 26 27]\n",
            " [28 29 30 31]]\n",
            "[ 4 23 29 10]\n"
          ]
        }
      ],
      "execution_count": 50,
      "metadata": {
        "collapsed": true,
        "jupyter": {
          "source_hidden": false,
          "outputs_hidden": false
        },
        "nteract": {
          "transient": {
            "deleting": false
          }
        },
        "gather": {
          "logged": 1604752324334
        }
      }
    },
    {
      "cell_type": "code",
      "source": [
        "arr = np.arange(15).reshape((3,5))\r\n",
        "print(arr)\r\n",
        "print(arr.T)\r\n",
        "print(arr)"
      ],
      "outputs": [
        {
          "output_type": "stream",
          "name": "stdout",
          "text": [
            "[[ 0  1  2  3  4]\n",
            " [ 5  6  7  8  9]\n",
            " [10 11 12 13 14]]\n",
            "[[ 0  5 10]\n",
            " [ 1  6 11]\n",
            " [ 2  7 12]\n",
            " [ 3  8 13]\n",
            " [ 4  9 14]]\n",
            "[[ 0  1  2  3  4]\n",
            " [ 5  6  7  8  9]\n",
            " [10 11 12 13 14]]\n"
          ]
        }
      ],
      "execution_count": 51,
      "metadata": {
        "collapsed": true,
        "jupyter": {
          "source_hidden": false,
          "outputs_hidden": false
        },
        "nteract": {
          "transient": {
            "deleting": false
          }
        },
        "gather": {
          "logged": 1604752839310
        }
      }
    },
    {
      "cell_type": "code",
      "source": [],
      "outputs": [],
      "execution_count": null,
      "metadata": {
        "collapsed": true,
        "jupyter": {
          "source_hidden": false,
          "outputs_hidden": false
        },
        "nteract": {
          "transient": {
            "deleting": false
          }
        }
      }
    }
  ],
  "metadata": {
    "kernelspec": {
      "name": "python3-azureml",
      "language": "python",
      "display_name": "Python 3.6 - AzureML"
    },
    "language_info": {
      "name": "python",
      "version": "3.6.9",
      "mimetype": "text/x-python",
      "codemirror_mode": {
        "name": "ipython",
        "version": 3
      },
      "pygments_lexer": "ipython3",
      "nbconvert_exporter": "python",
      "file_extension": ".py"
    },
    "kernel_info": {
      "name": "python3-azureml"
    },
    "nteract": {
      "version": "nteract-front-end@1.0.0"
    }
  },
  "nbformat": 4,
  "nbformat_minor": 2
}