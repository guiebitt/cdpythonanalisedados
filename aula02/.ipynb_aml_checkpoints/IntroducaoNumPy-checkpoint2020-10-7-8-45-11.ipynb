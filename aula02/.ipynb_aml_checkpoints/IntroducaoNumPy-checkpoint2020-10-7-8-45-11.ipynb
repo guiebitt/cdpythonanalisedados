{
  "cells": [
    {
      "cell_type": "code",
      "source": [
        "import numpy as np"
      ],
      "outputs": [],
      "execution_count": 3,
      "metadata": {
        "collapsed": true,
        "jupyter": {
          "source_hidden": false,
          "outputs_hidden": false
        },
        "nteract": {
          "transient": {
            "deleting": false
          }
        },
        "gather": {
          "logged": 1604748364454
        }
      }
    },
    {
      "cell_type": "code",
      "source": [
        "%time myarr = np.arange(1000000)\r\n",
        "%time mylist = list(range(1000000))"
      ],
      "outputs": [
        {
          "output_type": "stream",
          "name": "stdout",
          "text": [
            "CPU times: user 2.35 ms, sys: 248 µs, total: 2.6 ms\n",
            "Wall time: 1.78 ms\n",
            "CPU times: user 22 ms, sys: 19.9 ms, total: 41.8 ms\n",
            "Wall time: 41.4 ms\n"
          ]
        }
      ],
      "execution_count": 4,
      "metadata": {
        "gather": {
          "logged": 1604747994069
        }
      }
    },
    {
      "cell_type": "code",
      "source": [
        "%time for _ in range(10): myarr2 = myarr * 2\r\n",
        "%time for _ in range(10): mylist2 = [x * 2 for x in mylist]"
      ],
      "outputs": [
        {
          "output_type": "stream",
          "name": "stdout",
          "text": [
            "CPU times: user 14.8 ms, sys: 292 µs, total: 15.1 ms\n",
            "Wall time: 14.1 ms\n",
            "CPU times: user 673 ms, sys: 121 ms, total: 794 ms\n",
            "Wall time: 794 ms\n"
          ]
        }
      ],
      "execution_count": 5,
      "metadata": {
        "collapsed": true,
        "jupyter": {
          "source_hidden": false,
          "outputs_hidden": false
        },
        "nteract": {
          "transient": {
            "deleting": false
          }
        }
      }
    },
    {
      "cell_type": "code",
      "source": [
        "arraleatorio = np.random.randn(2,3)\r\n",
        "print(arraleatorio)\r\n",
        "arraleatorio = arraleatorio * 10\r\n",
        "print(arraleatorio)\r\n",
        "arraleatorio = arraleatorio + arraleatorio\r\n",
        "print(arraleatorio)\r\n",
        "print(arraleatorio.shape)\r\n",
        "print(arraleatorio.dtype)"
      ],
      "outputs": [
        {
          "output_type": "stream",
          "name": "stdout",
          "text": [
            "[[-0.77632758  1.19018131 -0.98976616]\n",
            " [ 0.654997    1.04841297 -1.25281808]]\n",
            "[[ -7.76327578  11.90181309  -9.89766158]\n",
            " [  6.54996999  10.48412967 -12.5281808 ]]\n",
            "[[-15.52655156  23.80362617 -19.79532316]\n",
            " [ 13.09993998  20.96825934 -25.0563616 ]]\n",
            "(2, 3)\n",
            "float64\n"
          ]
        }
      ],
      "execution_count": 9,
      "metadata": {
        "collapsed": true,
        "jupyter": {
          "source_hidden": false,
          "outputs_hidden": false
        },
        "nteract": {
          "transient": {
            "deleting": false
          }
        },
        "gather": {
          "logged": 1604748521653
        }
      }
    },
    {
      "cell_type": "code",
      "source": [
        "arr1 = np.array([6,7.5,8,0,1])\r\n",
        "print(arr1)\r\n",
        "print(arr1.ndim)\r\n",
        "print(arr1.shape)\r\n",
        "print(arr1.dtype)"
      ],
      "outputs": [
        {
          "output_type": "stream",
          "name": "stdout",
          "text": [
            "[6.  7.5 8.  0.  1. ]\n",
            "1\n",
            "(5,)\n",
            "float64\n"
          ]
        }
      ],
      "execution_count": 11,
      "metadata": {
        "collapsed": true,
        "jupyter": {
          "source_hidden": false,
          "outputs_hidden": false
        },
        "nteract": {
          "transient": {
            "deleting": false
          }
        },
        "gather": {
          "logged": 1604748706238
        }
      }
    },
    {
      "cell_type": "code",
      "source": [
        "arrzeros = np.zeros(10)\r\n",
        "print(arrzeros)\r\n",
        "arrzeros = np.zeros((3, 6))\r\n",
        "print(arrzeros)\r\n",
        "arrones = np.ones((3,6))\r\n",
        "print(arrones)\r\n",
        "arrfull = np.full((3,6), 9)\r\n",
        "print(arrfull)"
      ],
      "outputs": [
        {
          "output_type": "stream",
          "name": "stdout",
          "text": [
            "[0. 0. 0. 0. 0. 0. 0. 0. 0. 0.]\n",
            "[[0. 0. 0. 0. 0. 0.]\n",
            " [0. 0. 0. 0. 0. 0.]\n",
            " [0. 0. 0. 0. 0. 0.]]\n",
            "[[1. 1. 1. 1. 1. 1.]\n",
            " [1. 1. 1. 1. 1. 1.]\n",
            " [1. 1. 1. 1. 1. 1.]]\n",
            "[[9 9 9 9 9 9]\n",
            " [9 9 9 9 9 9]\n",
            " [9 9 9 9 9 9]]\n"
          ]
        }
      ],
      "execution_count": 14,
      "metadata": {
        "collapsed": true,
        "jupyter": {
          "source_hidden": false,
          "outputs_hidden": false
        },
        "nteract": {
          "transient": {
            "deleting": false
          }
        },
        "gather": {
          "logged": 1604748958462
        }
      }
    },
    {
      "cell_type": "code",
      "source": [
        "arrempty = np.empty((2,3,2))\r\n",
        "print(arrempty)"
      ],
      "outputs": [
        {
          "output_type": "stream",
          "name": "stdout",
          "text": [
            "[[[6.94883067e-310 4.67423785e-310]\n",
            "  [2.10077583e-312 6.79038654e-313]\n",
            "  [2.22809558e-312 2.14321575e-312]]\n",
            "\n",
            " [[2.35541533e-312 6.79038654e-313]\n",
            "  [2.22809558e-312 2.14321575e-312]\n",
            "  [2.46151512e-312 2.41907520e-312]]]\n"
          ]
        }
      ],
      "execution_count": 17,
      "metadata": {
        "collapsed": true,
        "jupyter": {
          "source_hidden": false,
          "outputs_hidden": false
        },
        "nteract": {
          "transient": {
            "deleting": false
          }
        },
        "gather": {
          "logged": 1604749092059
        }
      }
    },
    {
      "cell_type": "code",
      "source": [
        "arreye = np.eye(3)\r\n",
        "print(arreye)"
      ],
      "outputs": [
        {
          "output_type": "stream",
          "name": "stdout",
          "text": [
            "[[1. 0. 0.]\n",
            " [0. 1. 0.]\n",
            " [0. 0. 1.]]\n"
          ]
        }
      ],
      "execution_count": 18,
      "metadata": {
        "collapsed": true,
        "jupyter": {
          "source_hidden": false,
          "outputs_hidden": false
        },
        "nteract": {
          "transient": {
            "deleting": false
          }
        },
        "gather": {
          "logged": 1604749112946
        }
      }
    },
    {
      "cell_type": "code",
      "source": [
        "arr1 = np.array([1,2,3], dtype=np.float64)\r\n",
        "print(arr1.dtype)\r\n",
        "arr2 = np.array([1,2,3], dtype=np.int32)\r\n",
        "print(arr2.dtype)"
      ],
      "outputs": [
        {
          "output_type": "stream",
          "name": "stdout",
          "text": [
            "float64\n",
            "int32\n"
          ]
        }
      ],
      "execution_count": 19,
      "metadata": {
        "collapsed": true,
        "jupyter": {
          "source_hidden": false,
          "outputs_hidden": false
        },
        "nteract": {
          "transient": {
            "deleting": false
          }
        },
        "gather": {
          "logged": 1604749279915
        }
      }
    },
    {
      "cell_type": "code",
      "source": [
        "numeric_string = np.array(['1.25', '-9.6', '4.2'], dtype=np.string_)\r\n",
        "numeric_float = numeric_string.astype(float)\r\n",
        "print(numeric_float.dtype)\r\n",
        "print(numeric_string)\r\n",
        "print(numeric_float)"
      ],
      "outputs": [
        {
          "output_type": "stream",
          "name": "stdout",
          "text": [
            "float64\n",
            "[b'1.25' b'-9.6' b'4.2']\n",
            "[ 1.25 -9.6   4.2 ]\n"
          ]
        }
      ],
      "execution_count": 20,
      "metadata": {
        "collapsed": true,
        "jupyter": {
          "source_hidden": false,
          "outputs_hidden": false
        },
        "nteract": {
          "transient": {
            "deleting": false
          }
        },
        "gather": {
          "logged": 1604749498515
        }
      }
    },
    {
      "cell_type": "code",
      "source": [],
      "outputs": [],
      "execution_count": null,
      "metadata": {
        "collapsed": true,
        "jupyter": {
          "source_hidden": false,
          "outputs_hidden": false
        },
        "nteract": {
          "transient": {
            "deleting": false
          }
        }
      }
    }
  ],
  "metadata": {
    "kernelspec": {
      "name": "python3-azureml",
      "language": "python",
      "display_name": "Python 3.6 - AzureML"
    },
    "language_info": {
      "name": "python",
      "version": "3.6.9",
      "mimetype": "text/x-python",
      "codemirror_mode": {
        "name": "ipython",
        "version": 3
      },
      "pygments_lexer": "ipython3",
      "nbconvert_exporter": "python",
      "file_extension": ".py"
    },
    "kernel_info": {
      "name": "python3-azureml"
    },
    "nteract": {
      "version": "nteract-front-end@1.0.0"
    }
  },
  "nbformat": 4,
  "nbformat_minor": 2
}