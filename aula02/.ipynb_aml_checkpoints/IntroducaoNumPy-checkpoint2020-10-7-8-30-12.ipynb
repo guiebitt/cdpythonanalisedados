{
  "cells": [
    {
      "cell_type": "code",
      "source": [
        "import numpy as np"
      ],
      "outputs": [],
      "execution_count": 3,
      "metadata": {
        "collapsed": true,
        "jupyter": {
          "source_hidden": false,
          "outputs_hidden": false
        },
        "nteract": {
          "transient": {
            "deleting": false
          }
        },
        "gather": {
          "logged": 1604748364454
        }
      }
    },
    {
      "cell_type": "code",
      "source": [
        "%time myarr = np.arange(1000000)\r\n",
        "%time mylist = list(range(1000000))"
      ],
      "outputs": [
        {
          "output_type": "stream",
          "name": "stdout",
          "text": [
            "CPU times: user 2.35 ms, sys: 248 µs, total: 2.6 ms\n",
            "Wall time: 1.78 ms\n",
            "CPU times: user 22 ms, sys: 19.9 ms, total: 41.8 ms\n",
            "Wall time: 41.4 ms\n"
          ]
        }
      ],
      "execution_count": 4,
      "metadata": {
        "gather": {
          "logged": 1604747994069
        }
      }
    },
    {
      "cell_type": "code",
      "source": [
        "%time for _ in range(10): myarr2 = myarr * 2\r\n",
        "%time for _ in range(10): mylist2 = [x * 2 for x in mylist]"
      ],
      "outputs": [
        {
          "output_type": "stream",
          "name": "stdout",
          "text": [
            "CPU times: user 14.8 ms, sys: 292 µs, total: 15.1 ms\n",
            "Wall time: 14.1 ms\n",
            "CPU times: user 673 ms, sys: 121 ms, total: 794 ms\n",
            "Wall time: 794 ms\n"
          ]
        }
      ],
      "execution_count": 5,
      "metadata": {
        "collapsed": true,
        "jupyter": {
          "source_hidden": false,
          "outputs_hidden": false
        },
        "nteract": {
          "transient": {
            "deleting": false
          }
        }
      }
    },
    {
      "cell_type": "code",
      "source": [
        "arraleatorio = np.random.randn(2,3)\r\n",
        "print(arraleatorio)\r\n",
        "arraleatorio = arraleatorio * 10\r\n",
        "print(arraleatorio)\r\n",
        "arraleatorio = arraleatorio + arraleatorio\r\n",
        "print(arraleatorio)\r\n",
        "print(arraleatorio.shape)\r\n",
        "print(arraleatorio.dtype)"
      ],
      "outputs": [
        {
          "output_type": "stream",
          "name": "stdout",
          "text": [
            "[[-0.77632758  1.19018131 -0.98976616]\n",
            " [ 0.654997    1.04841297 -1.25281808]]\n",
            "[[ -7.76327578  11.90181309  -9.89766158]\n",
            " [  6.54996999  10.48412967 -12.5281808 ]]\n",
            "[[-15.52655156  23.80362617 -19.79532316]\n",
            " [ 13.09993998  20.96825934 -25.0563616 ]]\n",
            "(2, 3)\n",
            "float64\n"
          ]
        }
      ],
      "execution_count": 9,
      "metadata": {
        "collapsed": true,
        "jupyter": {
          "source_hidden": false,
          "outputs_hidden": false
        },
        "nteract": {
          "transient": {
            "deleting": false
          }
        },
        "gather": {
          "logged": 1604748521653
        }
      }
    },
    {
      "cell_type": "code",
      "source": [
        "arr1 = np.array([6,7.5,8,0,1])\r\n",
        "print(arr1)"
      ],
      "outputs": [
        {
          "output_type": "stream",
          "name": "stdout",
          "text": [
            "[6.  7.5 8.  0.  1. ]\n"
          ]
        }
      ],
      "execution_count": 10,
      "metadata": {
        "collapsed": true,
        "jupyter": {
          "source_hidden": false,
          "outputs_hidden": false
        },
        "nteract": {
          "transient": {
            "deleting": false
          }
        },
        "gather": {
          "logged": 1604748609610
        }
      }
    },
    {
      "cell_type": "code",
      "source": [],
      "outputs": [],
      "execution_count": null,
      "metadata": {
        "collapsed": true,
        "jupyter": {
          "source_hidden": false,
          "outputs_hidden": false
        },
        "nteract": {
          "transient": {
            "deleting": false
          }
        }
      }
    }
  ],
  "metadata": {
    "kernelspec": {
      "name": "python3-azureml",
      "language": "python",
      "display_name": "Python 3.6 - AzureML"
    },
    "language_info": {
      "name": "python",
      "version": "3.6.9",
      "mimetype": "text/x-python",
      "codemirror_mode": {
        "name": "ipython",
        "version": 3
      },
      "pygments_lexer": "ipython3",
      "nbconvert_exporter": "python",
      "file_extension": ".py"
    },
    "kernel_info": {
      "name": "python3-azureml"
    },
    "nteract": {
      "version": "nteract-front-end@1.0.0"
    }
  },
  "nbformat": 4,
  "nbformat_minor": 2
}