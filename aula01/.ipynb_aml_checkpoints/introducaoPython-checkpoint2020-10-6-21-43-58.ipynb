{
  "cells": [
    {
      "cell_type": "markdown",
      "source": [
        "# Introdução\r\n",
        "## Primeiro programa"
      ],
      "metadata": {
        "nteract": {
          "transient": {
            "deleting": false
          }
        }
      }
    },
    {
      "cell_type": "code",
      "source": [
        "import numpy as np\r\n",
        "arr = np.array([1, 2, 3, 4, 5])\r\n",
        "print(arr)\r\n",
        "print(type(arr))"
      ],
      "outputs": [
        {
          "output_type": "stream",
          "name": "stdout",
          "text": [
            "[1 2 3 4 5]\n",
            "<class 'numpy.ndarray'>\n"
          ]
        }
      ],
      "execution_count": 1,
      "metadata": {
        "gather": {
          "logged": 1604703465891
        }
      }
    },
    {
      "cell_type": "code",
      "source": [
        "# Laço de repetição FOR\r\n",
        "for x in range(3):\r\n",
        "    print(\"eu não acredito\")\r\n",
        "print(\"fim do for\")"
      ],
      "outputs": [
        {
          "output_type": "stream",
          "name": "stdout",
          "text": [
            "eu não acredito\n",
            "eu não acredito\n",
            "eu não acredito\n",
            "fim do for\n"
          ]
        }
      ],
      "execution_count": 5,
      "metadata": {
        "collapsed": true,
        "jupyter": {
          "source_hidden": false,
          "outputs_hidden": false
        },
        "nteract": {
          "transient": {
            "deleting": false
          }
        },
        "gather": {
          "logged": 1604703605465
        }
      }
    },
    {
      "cell_type": "code",
      "source": [
        "# Laço de repetição WHILE\r\n",
        "x=0\r\n",
        "while(x < 3):\r\n",
        "    print(\"Rodando\")\r\n",
        "    x+=1"
      ],
      "outputs": [
        {
          "output_type": "stream",
          "name": "stdout",
          "text": [
            "Rodando\n",
            "Rodando\n",
            "Rodando\n"
          ]
        }
      ],
      "execution_count": 7,
      "metadata": {
        "collapsed": true,
        "jupyter": {
          "source_hidden": false,
          "outputs_hidden": false
        },
        "nteract": {
          "transient": {
            "deleting": false
          }
        },
        "gather": {
          "logged": 1604703670199
        }
      }
    },
    {
      "cell_type": "code",
      "source": [
        "# Gerador RANGE\r\n",
        "print(list(range(3,9)))\r\n",
        "print(list(range(9,3,-1)))"
      ],
      "outputs": [
        {
          "output_type": "stream",
          "name": "stdout",
          "text": [
            "[3, 4, 5, 6, 7, 8]\n",
            "[9, 8, 7, 6, 5, 4]\n"
          ]
        }
      ],
      "execution_count": 11,
      "metadata": {
        "collapsed": true,
        "jupyter": {
          "source_hidden": false,
          "outputs_hidden": false
        },
        "nteract": {
          "transient": {
            "deleting": false
          }
        },
        "gather": {
          "logged": 1604703957546
        }
      }
    },
    {
      "cell_type": "code",
      "source": [
        "# Listas\r\n",
        "a = [1, 2, 3, 4]\r\n",
        "print(a)\r\n",
        "\r\n",
        "# Inicialização de Array\r\n",
        "b = [0] * 10\r\n",
        "b[0] = 10\r\n",
        "print(b)\r\n",
        "\r\n",
        "# Array sempre dinâmico\r\n",
        "c = []\r\n",
        "c.append(20)\r\n",
        "print(c)"
      ],
      "outputs": [
        {
          "output_type": "stream",
          "name": "stdout",
          "text": [
            "[1, 2, 3, 4]\n",
            "[10, 0, 0, 0, 0, 0, 0, 0, 0, 0]\n",
            "[20]\n"
          ]
        }
      ],
      "execution_count": 13,
      "metadata": {
        "collapsed": true,
        "jupyter": {
          "source_hidden": false,
          "outputs_hidden": false
        },
        "nteract": {
          "transient": {
            "deleting": false
          }
        },
        "gather": {
          "logged": 1604704113617
        }
      }
    },
    {
      "cell_type": "code",
      "source": [
        "# Matriz\r\n",
        "matriz = [[0] * 3 for lin in range(3)]\r\n",
        "matriz[1][1] = 10\r\n",
        "matriz[0][0] = 5\r\n",
        "print(matriz)"
      ],
      "outputs": [
        {
          "output_type": "stream",
          "name": "stdout",
          "text": [
            "[[5, 0, 0], [0, 10, 0], [0, 0, 0]]\n"
          ]
        }
      ],
      "execution_count": 16,
      "metadata": {
        "collapsed": true,
        "jupyter": {
          "source_hidden": false,
          "outputs_hidden": false
        },
        "nteract": {
          "transient": {
            "deleting": false
          }
        },
        "gather": {
          "logged": 1604704207157
        }
      }
    },
    {
      "cell_type": "code",
      "source": [
        "c= \"\"\"\r\n",
        "quantas linhas eu precisar\r\n",
        "de texto eu que ele vai juntando tudo\r\n",
        "\"\"\"\r\n",
        "print(c)\r\n",
        "a = \"teste\"\r\n",
        "print(a,c)"
      ],
      "outputs": [
        {
          "output_type": "stream",
          "name": "stdout",
          "text": [
            "\n",
            "quantas linhas eu precisar\n",
            "de texto eu que ele vai juntando tudo\n",
            "\n",
            "teste \n",
            "quantas linhas eu precisar\n",
            "de texto eu que ele vai juntando tudo\n",
            "\n"
          ]
        }
      ],
      "execution_count": 19,
      "metadata": {
        "collapsed": true,
        "jupyter": {
          "source_hidden": false,
          "outputs_hidden": false
        },
        "nteract": {
          "transient": {
            "deleting": false
          }
        },
        "gather": {
          "logged": 1604704587615
        }
      }
    },
    {
      "cell_type": "code",
      "source": [
        "print(c.count('a'))\r\n",
        "print(c[1])\r\n",
        "c = c.replace(\"eu\", \"nós\")\r\n",
        "print(c)\r\n",
        "print(list(c))"
      ],
      "outputs": [
        {
          "output_type": "stream",
          "name": "stdout",
          "text": [
            "6\n",
            "q\n",
            "\n",
            "quantas linhas nós precisar\n",
            "de texto nós que ele vai juntando tudo\n",
            "\n",
            "['\\n', 'q', 'u', 'a', 'n', 't', 'a', 's', ' ', 'l', 'i', 'n', 'h', 'a', 's', ' ', 'n', 'ó', 's', ' ', 'p', 'r', 'e', 'c', 'i', 's', 'a', 'r', '\\n', 'd', 'e', ' ', 't', 'e', 'x', 't', 'o', ' ', 'n', 'ó', 's', ' ', 'q', 'u', 'e', ' ', 'e', 'l', 'e', ' ', 'v', 'a', 'i', ' ', 'j', 'u', 'n', 't', 'a', 'n', 'd', 'o', ' ', 't', 'u', 'd', 'o', '\\n']\n"
          ]
        }
      ],
      "execution_count": 22,
      "metadata": {
        "collapsed": true,
        "jupyter": {
          "source_hidden": false,
          "outputs_hidden": false
        },
        "nteract": {
          "transient": {
            "deleting": false
          }
        },
        "gather": {
          "logged": 1604704723747
        }
      }
    },
    {
      "cell_type": "code",
      "source": [
        "print(c[5:])\r\n",
        "print(c[:5])\r\n",
        "print(c[5:15])\r\n",
        "print(c[15:5:-1])\r\n",
        "print(\"NEGATIVO\", c[-10:])"
      ],
      "outputs": [
        {
          "output_type": "stream",
          "name": "stdout",
          "text": [
            "tas linhas nós precisar\n",
            "de texto nós que ele vai juntando tudo\n",
            "\n",
            "\n",
            "quan\n",
            "tas linhas\n",
            " sahnil sa\n",
            "NEGATIVO ando tudo\n",
            "\n"
          ]
        }
      ],
      "execution_count": 28,
      "metadata": {
        "collapsed": true,
        "jupyter": {
          "source_hidden": false,
          "outputs_hidden": false
        },
        "nteract": {
          "transient": {
            "deleting": false
          }
        },
        "gather": {
          "logged": 1604704887203
        }
      }
    },
    {
      "cell_type": "code",
      "source": [
        "s = r\"this\\\\has\\\\no\\\\special\\\\characters\"\r\n",
        "print(s)"
      ],
      "outputs": [
        {
          "output_type": "stream",
          "name": "stdout",
          "text": [
            "this\\\\has\\\\no\\\\special\\\\characters\n"
          ]
        }
      ],
      "execution_count": 2,
      "metadata": {
        "collapsed": true,
        "jupyter": {
          "source_hidden": false,
          "outputs_hidden": false
        },
        "nteract": {
          "transient": {
            "deleting": false
          }
        },
        "gather": {
          "logged": 1604705102267
        }
      }
    },
    {
      "cell_type": "code",
      "source": [
        "template = \"{0:.2f} {1:s} are worth US${2:d}\"\r\n",
        "print(template.format(4.5560,'Argentine pesos', 1))\r\n",
        "valor = 4.50\r\n",
        "country = 'Argentine'\r\n",
        "valordolar = 1\r\n",
        "print(f\"{valor} {country} are worth US${valordolar}\")"
      ],
      "outputs": [
        {
          "output_type": "stream",
          "name": "stdout",
          "text": [
            "4.56 Argentine pesos are worth US$1\n",
            "4.5 Argentine are worth US$1\n"
          ]
        }
      ],
      "execution_count": 6,
      "metadata": {
        "collapsed": true,
        "jupyter": {
          "source_hidden": false,
          "outputs_hidden": false
        },
        "nteract": {
          "transient": {
            "deleting": false
          }
        },
        "gather": {
          "logged": 1604705375477
        }
      }
    },
    {
      "cell_type": "code",
      "source": [
        "from datetime import datetime, date, time\r\n",
        "dt = datetime(2020, 11, 6, 20, 30)\r\n",
        "print(dt)\r\n",
        "print(dt.day, dt.month, dt.year)\r\n",
        "print(dt.strftime('%m/%d/%Y %H:%M'))\r\n",
        "\r\n",
        "from datetime import timedelta\r\n",
        "print(dt + timedelta(days=2))"
      ],
      "outputs": [
        {
          "output_type": "stream",
          "name": "stdout",
          "text": [
            "2020-11-06 20:30:00\n",
            "6 11 2020\n",
            "11/06/2020 20:30\n",
            "2020-11-08 20:30:00\n"
          ]
        }
      ],
      "execution_count": 9,
      "metadata": {
        "collapsed": true,
        "jupyter": {
          "source_hidden": false,
          "outputs_hidden": false
        },
        "nteract": {
          "transient": {
            "deleting": false
          }
        },
        "gather": {
          "logged": 1604705622567
        }
      }
    },
    {
      "cell_type": "code",
      "source": [
        "# Estrutura de decisão\r\n",
        "x = 10\r\n",
        "if x < 0:\r\n",
        "    print(\"NEGATIVO\")\r\n",
        "else:\r\n",
        "    print(\"POSITIVO\")"
      ],
      "outputs": [
        {
          "output_type": "stream",
          "name": "stdout",
          "text": [
            "POSITIVO\n"
          ]
        }
      ],
      "execution_count": 10,
      "metadata": {
        "collapsed": true,
        "jupyter": {
          "source_hidden": false,
          "outputs_hidden": false
        },
        "nteract": {
          "transient": {
            "deleting": false
          }
        },
        "gather": {
          "logged": 1604706341923
        }
      }
    },
    {
      "cell_type": "code",
      "source": [
        "tup = 4,5,6\r\n",
        "print(tup)\r\n",
        "print(tup[1])\r\n",
        "#tup[1] = 10\r\n",
        "a, b, c = tup\r\n",
        "print(a,b,c)"
      ],
      "outputs": [
        {
          "output_type": "stream",
          "name": "stdout",
          "text": [
            "(4, 5, 6)\n",
            "5\n",
            "4 5 6\n"
          ]
        }
      ],
      "execution_count": 13,
      "metadata": {
        "collapsed": true,
        "jupyter": {
          "source_hidden": false,
          "outputs_hidden": false
        },
        "nteract": {
          "transient": {
            "deleting": false
          }
        },
        "gather": {
          "logged": 1604706503434
        }
      }
    },
    {
      "cell_type": "code",
      "source": [
        "a, b = 1, 2\r\n",
        "a, b = b, a\r\n",
        "print(a, b)"
      ],
      "outputs": [
        {
          "output_type": "stream",
          "name": "stdout",
          "text": [
            "2 1\n"
          ]
        }
      ],
      "execution_count": 14,
      "metadata": {
        "collapsed": true,
        "jupyter": {
          "source_hidden": false,
          "outputs_hidden": false
        },
        "nteract": {
          "transient": {
            "deleting": false
          }
        },
        "gather": {
          "logged": 1604706591425
        }
      }
    },
    {
      "cell_type": "code",
      "source": [
        "seq = [(1,2,3), (4,5,6), (7,8,9)]\r\n",
        "for a, b, c in seq:\r\n",
        "    print(f\"a={a}, b={b}, c={c}\")"
      ],
      "outputs": [
        {
          "output_type": "stream",
          "name": "stdout",
          "text": [
            "a=1, b=2, c=3\n",
            "a=4, b=5, c=6\n",
            "a=7, b=8, c=9\n"
          ]
        }
      ],
      "execution_count": 15,
      "metadata": {
        "collapsed": true,
        "jupyter": {
          "source_hidden": false,
          "outputs_hidden": false
        },
        "nteract": {
          "transient": {
            "deleting": false
          }
        },
        "gather": {
          "logged": 1604706701250
        }
      }
    },
    {
      "cell_type": "code",
      "source": [
        "valores = 1,2,3,4,5\r\n",
        "a,b, *sobra = valores\r\n",
        "print(a, b)\r\n",
        "print(sobra)"
      ],
      "outputs": [
        {
          "output_type": "stream",
          "name": "stdout",
          "text": [
            "1 2\n",
            "[3, 4, 5]\n"
          ]
        }
      ],
      "execution_count": 17,
      "metadata": {
        "collapsed": true,
        "jupyter": {
          "source_hidden": false,
          "outputs_hidden": false
        },
        "nteract": {
          "transient": {
            "deleting": false
          }
        },
        "gather": {
          "logged": 1604706796089
        }
      }
    },
    {
      "cell_type": "code",
      "source": [
        "lista = [0] * 10\r\n",
        "lista.insert(0, -10)\r\n",
        "print(lista)\r\n",
        "lista[1] = -20\r\n",
        "print(lista)\r\n",
        "print(lista.pop())\r\n",
        "print(lista)\r\n",
        "lista.remove(-10)\r\n",
        "print(lista)\r\n",
        "print(-20 in lista)\r\n",
        "print(-20 not in lista)"
      ],
      "outputs": [
        {
          "output_type": "stream",
          "name": "stdout",
          "text": [
            "[-10, 0, 0, 0, 0, 0, 0, 0, 0, 0, 0]\n",
            "[-10, -20, 0, 0, 0, 0, 0, 0, 0, 0, 0]\n",
            "0\n",
            "[-10, -20, 0, 0, 0, 0, 0, 0, 0, 0]\n",
            "[-20, 0, 0, 0, 0, 0, 0, 0, 0]\n",
            "True\n",
            "False\n"
          ]
        }
      ],
      "execution_count": 27,
      "metadata": {
        "collapsed": true,
        "jupyter": {
          "source_hidden": false,
          "outputs_hidden": false
        },
        "nteract": {
          "transient": {
            "deleting": false
          }
        },
        "gather": {
          "logged": 1604707185654
        }
      }
    },
    {
      "cell_type": "code",
      "source": [
        "lista = [8,5,7,3,6,2,4,1]\r\n",
        "lista.sort()\r\n",
        "print(lista)\r\n",
        "print(lista[3:5])\r\n",
        "lista[3:5] = [-10, -20]\r\n",
        "print(lista)\r\n",
        "print(lista[::2])"
      ],
      "outputs": [
        {
          "output_type": "stream",
          "name": "stdout",
          "text": [
            "[1, 2, 3, 4, 5, 6, 7, 8]\n",
            "[4, 5]\n",
            "[1, 2, 3, -10, -20, 6, 7, 8]\n",
            "[1, 3, -20, 7]\n"
          ]
        }
      ],
      "execution_count": 31,
      "metadata": {
        "collapsed": true,
        "jupyter": {
          "source_hidden": false,
          "outputs_hidden": false
        },
        "nteract": {
          "transient": {
            "deleting": false
          }
        },
        "gather": {
          "logged": 1604707374682
        }
      }
    },
    {
      "cell_type": "code",
      "source": [
        "nomes = [\"Huguinho\", \"Zezinho\", \"Luizinho\"]\r\n",
        "for i, nome in enumerate(nomes):\r\n",
        "    print(i,nome)"
      ],
      "outputs": [
        {
          "output_type": "stream",
          "name": "stdout",
          "text": [
            "0 Huguinho\n",
            "1 Zezinho\n",
            "2 Luizinho\n"
          ]
        }
      ],
      "execution_count": 33,
      "metadata": {
        "collapsed": true,
        "jupyter": {
          "source_hidden": false,
          "outputs_hidden": false
        },
        "nteract": {
          "transient": {
            "deleting": false
          }
        },
        "gather": {
          "logged": 1604707481835
        }
      }
    },
    {
      "cell_type": "code",
      "source": [
        "seq1 = ['foo', 'bar', 'baz']\r\n",
        "seq2 = ['one', 'two', 'three']\r\n",
        "zipped = zip(seq1, seq2)\r\n",
        "print(list(zipped))"
      ],
      "outputs": [
        {
          "output_type": "stream",
          "name": "stdout",
          "text": [
            "[('foo', 'one'), ('bar', 'two'), ('baz', 'three')]\n"
          ]
        }
      ],
      "execution_count": 34,
      "metadata": {
        "collapsed": true,
        "jupyter": {
          "source_hidden": false,
          "outputs_hidden": false
        },
        "nteract": {
          "transient": {
            "deleting": false
          }
        },
        "gather": {
          "logged": 1604707592109
        }
      }
    },
    {
      "cell_type": "code",
      "source": [
        "print(list(reversed(range(10))))"
      ],
      "outputs": [
        {
          "output_type": "stream",
          "name": "stdout",
          "text": [
            "[9, 8, 7, 6, 5, 4, 3, 2, 1, 0]\n"
          ]
        }
      ],
      "execution_count": 35,
      "metadata": {
        "collapsed": true,
        "jupyter": {
          "source_hidden": false,
          "outputs_hidden": false
        },
        "nteract": {
          "transient": {
            "deleting": false
          }
        },
        "gather": {
          "logged": 1604707641011
        }
      }
    },
    {
      "cell_type": "code",
      "source": [
        "dict_vazio = {}\r\n",
        "print(dict_vazio)\r\n",
        "dict_vazio['chave'] = 'valor'\r\n",
        "print(dict_vazio)\r\n",
        "dict1 = {'chave1': 'valor1', 'chave2': [1,2,3]}\r\n",
        "print(dict1)\r\n",
        "print(dict1['chave2'])\r\n",
        "del dict1['chave1']\r\n",
        "print(dict1)\r\n",
        "dict1.popitem()\r\n",
        "dict1['chave3'] = 'valor3'\r\n",
        "dict1['chave4'] = 'valor4'\r\n",
        "print(list(dict1.keys()))\r\n",
        "print(list(dict1.values()))"
      ],
      "outputs": [
        {
          "output_type": "stream",
          "name": "stdout",
          "text": [
            "{}\n",
            "{'chave': 'valor'}\n",
            "{'chave1': 'valor1', 'chave2': [1, 2, 3]}\n",
            "[1, 2, 3]\n",
            "{'chave2': [1, 2, 3]}\n",
            "['chave3', 'chave4']\n",
            "['valor3', 'valor4']\n"
          ]
        }
      ],
      "execution_count": 41,
      "metadata": {
        "collapsed": true,
        "jupyter": {
          "source_hidden": false,
          "outputs_hidden": false
        },
        "nteract": {
          "transient": {
            "deleting": false
          }
        },
        "gather": {
          "logged": 1604708020409
        }
      }
    },
    {
      "cell_type": "code",
      "source": [
        "list_keys = [1,2,3]\r\n",
        "list_values = ['a', 'b', 'c']\r\n",
        "mapping_dict = {}\r\n",
        "for key, value in zip(list_keys, list_values):\r\n",
        "    mapping_dict[key] = value\r\n",
        "print(mapping_dict)"
      ],
      "outputs": [
        {
          "output_type": "stream",
          "name": "stdout",
          "text": [
            "{1: 'a', 2: 'b', 3: 'c'}\n"
          ]
        }
      ],
      "execution_count": 42,
      "metadata": {
        "collapsed": true,
        "jupyter": {
          "source_hidden": false,
          "outputs_hidden": false
        },
        "nteract": {
          "transient": {
            "deleting": false
          }
        },
        "gather": {
          "logged": 1604708184535
        }
      }
    },
    {
      "cell_type": "code",
      "source": [
        "set1 = set([2, 2, 2, 1, 3, 3])\r\n",
        "print(set1)\r\n",
        "a = {1,2,3,4,5}\r\n",
        "b = {3,4,5,6,7,8}\r\n",
        "print(\"union\", a.union(b))\r\n",
        "print(\"intersection\", a.intersection(b))\r\n",
        "print(\"difference\", a.difference(b))\r\n",
        "set1.add(10)\r\n",
        "print(set1)\r\n",
        "set1.remove(10)\r\n",
        "print(set1)\r\n",
        "set1.clear()\r\n",
        "print(set1)"
      ],
      "outputs": [
        {
          "output_type": "stream",
          "name": "stdout",
          "text": [
            "{1, 2, 3}\n",
            "union {1, 2, 3, 4, 5, 6, 7, 8}\n",
            "intersection {3, 4, 5}\n",
            "difference {1, 2}\n",
            "{10, 1, 2, 3}\n",
            "{1, 2, 3}\n",
            "set()\n"
          ]
        }
      ],
      "execution_count": 47,
      "metadata": {
        "collapsed": true,
        "jupyter": {
          "source_hidden": false,
          "outputs_hidden": false
        },
        "nteract": {
          "transient": {
            "deleting": false
          }
        },
        "gather": {
          "logged": 1604708755590
        }
      }
    },
    {
      "cell_type": "code",
      "source": [
        "list_strings = ['a', 'as', 'bat', 'car', 'dove', 'python']\r\n",
        "print([x for x in list_strings if len(x) > 3])\r\n",
        "\r\n",
        "dict_fruits = {'orange':2, 'apple':3, 'grapes':7}\r\n",
        "print({key : value for key, value in dict_fruits.items() if value >= 3})\r\n",
        "\r\n",
        "set_numbers = set({1,2,3,4,5,6,7})\r\n",
        "print({value for value in set_numbers if value > 5})"
      ],
      "outputs": [
        {
          "output_type": "stream",
          "name": "stdout",
          "text": [
            "['dove', 'python']\n",
            "{'apple': 3, 'grapes': 7}\n",
            "{6, 7}\n"
          ]
        }
      ],
      "execution_count": 51,
      "metadata": {
        "collapsed": true,
        "jupyter": {
          "source_hidden": false,
          "outputs_hidden": false
        },
        "nteract": {
          "transient": {
            "deleting": false
          }
        },
        "gather": {
          "logged": 1604709275375
        }
      }
    },
    {
      "cell_type": "code",
      "source": [
        "def myfunc(x,y,z=1.5):\r\n",
        "    if z > 1:\r\n",
        "        return z * (x + y)\r\n",
        "    else:\r\n",
        "        return z / (x + y)\r\n",
        "\r\n",
        "print(myfunc(1,2))\r\n",
        "print(myfunc(1,2,5))\r\n",
        "print(myfunc(z=1,x=2,y=5))"
      ],
      "outputs": [
        {
          "output_type": "stream",
          "name": "stdout",
          "text": [
            "4.5\n",
            "15\n",
            "0.14285714285714285\n"
          ]
        }
      ],
      "execution_count": 54,
      "metadata": {
        "collapsed": true,
        "jupyter": {
          "source_hidden": false,
          "outputs_hidden": false
        },
        "nteract": {
          "transient": {
            "deleting": false
          }
        },
        "gather": {
          "logged": 1604709503139
        }
      }
    },
    {
      "cell_type": "code",
      "source": [
        "def func():\r\n",
        "    a = 5\r\n",
        "    b = 7\r\n",
        "    c = 9\r\n",
        "    return a, b, c\r\n",
        "\r\n",
        "print(func())\r\n",
        "a, b, c = func()\r\n",
        "print(a, b, c)"
      ],
      "outputs": [
        {
          "output_type": "stream",
          "name": "stdout",
          "text": [
            "(5, 7, 9)\n",
            "5 7 9\n"
          ]
        }
      ],
      "execution_count": 56,
      "metadata": {
        "collapsed": true,
        "jupyter": {
          "source_hidden": false,
          "outputs_hidden": false
        },
        "nteract": {
          "transient": {
            "deleting": false
          }
        },
        "gather": {
          "logged": 1604709596192
        }
      }
    },
    {
      "cell_type": "code",
      "source": [
        "def conta_letras(texto):\r\n",
        "    return \"{0}-{1}\".format(len(texto), texto)\r\n",
        "\r\n",
        "estados = ['Santa Catarina', 'Paraná', 'Rio Grande do Sul']\r\n",
        "\r\n",
        "for i in map(conta_letras, estados):\r\n",
        "    print(i)"
      ],
      "outputs": [
        {
          "output_type": "stream",
          "name": "stdout",
          "text": [
            "14-Santa Catarina\n",
            "6-Paraná\n",
            "17-Rio Grande do Sul\n"
          ]
        }
      ],
      "execution_count": 57,
      "metadata": {
        "collapsed": true,
        "jupyter": {
          "source_hidden": false,
          "outputs_hidden": false
        },
        "nteract": {
          "transient": {
            "deleting": false
          }
        },
        "gather": {
          "logged": 1604709827218
        }
      }
    },
    {
      "cell_type": "code",
      "source": [],
      "outputs": [],
      "execution_count": null,
      "metadata": {
        "collapsed": true,
        "jupyter": {
          "source_hidden": false,
          "outputs_hidden": false
        },
        "nteract": {
          "transient": {
            "deleting": false
          }
        }
      }
    }
  ],
  "metadata": {
    "kernelspec": {
      "name": "python3-azureml",
      "language": "python",
      "display_name": "Python 3.6 - AzureML"
    },
    "language_info": {
      "name": "python",
      "version": "3.6.9",
      "mimetype": "text/x-python",
      "codemirror_mode": {
        "name": "ipython",
        "version": 3
      },
      "pygments_lexer": "ipython3",
      "nbconvert_exporter": "python",
      "file_extension": ".py"
    },
    "kernel_info": {
      "name": "python3-azureml"
    },
    "nteract": {
      "version": "nteract-front-end@1.0.0"
    }
  },
  "nbformat": 4,
  "nbformat_minor": 2
}